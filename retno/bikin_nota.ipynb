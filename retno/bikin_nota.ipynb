{
  "nbformat": 4,
  "nbformat_minor": 0,
  "metadata": {
    "colab": {
      "provenance": []
    },
    "kernelspec": {
      "name": "python3",
      "display_name": "Python 3"
    },
    "language_info": {
      "name": "python"
    }
  },
  "cells": [
    {
      "cell_type": "markdown",
      "source": [
        "Install library"
      ],
      "metadata": {
        "id": "aEMwO2cY9H9_"
      }
    },
    {
      "cell_type": "code",
      "execution_count": null,
      "metadata": {
        "colab": {
          "base_uri": "https://localhost:8080/"
        },
        "id": "GpX-T3nKHkz7",
        "outputId": "3b98a60f-5e88-4b6a-83d0-a432b93fc45e"
      },
      "outputs": [
        {
          "output_type": "stream",
          "name": "stdout",
          "text": [
            "Requirement already satisfied: openpyxl in /usr/local/lib/python3.10/dist-packages (3.1.5)\n",
            "Requirement already satisfied: pandas in /usr/local/lib/python3.10/dist-packages (2.2.2)\n",
            "Requirement already satisfied: et-xmlfile in /usr/local/lib/python3.10/dist-packages (from openpyxl) (2.0.0)\n",
            "Requirement already satisfied: numpy>=1.22.4 in /usr/local/lib/python3.10/dist-packages (from pandas) (1.26.4)\n",
            "Requirement already satisfied: python-dateutil>=2.8.2 in /usr/local/lib/python3.10/dist-packages (from pandas) (2.8.2)\n",
            "Requirement already satisfied: pytz>=2020.1 in /usr/local/lib/python3.10/dist-packages (from pandas) (2024.2)\n",
            "Requirement already satisfied: tzdata>=2022.7 in /usr/local/lib/python3.10/dist-packages (from pandas) (2024.2)\n",
            "Requirement already satisfied: six>=1.5 in /usr/local/lib/python3.10/dist-packages (from python-dateutil>=2.8.2->pandas) (1.16.0)\n"
          ]
        }
      ],
      "source": [
        "!pip install openpyxl pandas"
      ]
    },
    {
      "cell_type": "markdown",
      "source": [
        "Import library"
      ],
      "metadata": {
        "id": "9IyFIROX9NZ-"
      }
    },
    {
      "cell_type": "code",
      "source": [
        "import pandas as pd\n",
        "import openpyxl"
      ],
      "metadata": {
        "id": "xHoT0kB1aYvz"
      },
      "execution_count": null,
      "outputs": []
    },
    {
      "cell_type": "markdown",
      "source": [
        "Import Dataset"
      ],
      "metadata": {
        "id": "koPEs_w09nH-"
      }
    },
    {
      "cell_type": "code",
      "source": [
        "from google.colab import drive\n",
        "drive.mount('/content/drive')\n",
        "data = pd.read_csv('/content/drive/MyDrive/Colab Notebooks/capstone/shuffled_data.csv')\n",
        "data.head()"
      ],
      "metadata": {
        "colab": {
          "base_uri": "https://localhost:8080/",
          "height": 223
        },
        "id": "Big1Op5RaFBk",
        "outputId": "02f9bb52-6437-4188-ef97-b0a1aa02dfed"
      },
      "execution_count": null,
      "outputs": [
        {
          "output_type": "stream",
          "name": "stdout",
          "text": [
            "Drive already mounted at /content/drive; to attempt to forcibly remount, call drive.mount(\"/content/drive\", force_remount=True).\n"
          ]
        },
        {
          "output_type": "execute_result",
          "data": {
            "text/plain": [
              "                                      product_name          label\n",
              "0  Pantene Conditioner Tanpa Bilas Perfect On 40Ml     kecantikan\n",
              "1        Implora Cheek & Lip Tint 04 Red Wine 5.5g     kecantikan\n",
              "2             Prime Bread Roti Manis Isi Krim Keju  product-segar\n",
              "3      Garnier Hair Color Naturals Express 1 Hitam     kecantikan\n",
              "4  So Klin Pembersih Lantai Sereh & Geranium 770mL    home-living"
            ],
            "text/html": [
              "\n",
              "  <div id=\"df-8da5206b-5348-435d-9526-8e64c123640f\" class=\"colab-df-container\">\n",
              "    <div>\n",
              "<style scoped>\n",
              "    .dataframe tbody tr th:only-of-type {\n",
              "        vertical-align: middle;\n",
              "    }\n",
              "\n",
              "    .dataframe tbody tr th {\n",
              "        vertical-align: top;\n",
              "    }\n",
              "\n",
              "    .dataframe thead th {\n",
              "        text-align: right;\n",
              "    }\n",
              "</style>\n",
              "<table border=\"1\" class=\"dataframe\">\n",
              "  <thead>\n",
              "    <tr style=\"text-align: right;\">\n",
              "      <th></th>\n",
              "      <th>product_name</th>\n",
              "      <th>label</th>\n",
              "    </tr>\n",
              "  </thead>\n",
              "  <tbody>\n",
              "    <tr>\n",
              "      <th>0</th>\n",
              "      <td>Pantene Conditioner Tanpa Bilas Perfect On 40Ml</td>\n",
              "      <td>kecantikan</td>\n",
              "    </tr>\n",
              "    <tr>\n",
              "      <th>1</th>\n",
              "      <td>Implora Cheek &amp; Lip Tint 04 Red Wine 5.5g</td>\n",
              "      <td>kecantikan</td>\n",
              "    </tr>\n",
              "    <tr>\n",
              "      <th>2</th>\n",
              "      <td>Prime Bread Roti Manis Isi Krim Keju</td>\n",
              "      <td>product-segar</td>\n",
              "    </tr>\n",
              "    <tr>\n",
              "      <th>3</th>\n",
              "      <td>Garnier Hair Color Naturals Express 1 Hitam</td>\n",
              "      <td>kecantikan</td>\n",
              "    </tr>\n",
              "    <tr>\n",
              "      <th>4</th>\n",
              "      <td>So Klin Pembersih Lantai Sereh &amp; Geranium 770mL</td>\n",
              "      <td>home-living</td>\n",
              "    </tr>\n",
              "  </tbody>\n",
              "</table>\n",
              "</div>\n",
              "    <div class=\"colab-df-buttons\">\n",
              "\n",
              "  <div class=\"colab-df-container\">\n",
              "    <button class=\"colab-df-convert\" onclick=\"convertToInteractive('df-8da5206b-5348-435d-9526-8e64c123640f')\"\n",
              "            title=\"Convert this dataframe to an interactive table.\"\n",
              "            style=\"display:none;\">\n",
              "\n",
              "  <svg xmlns=\"http://www.w3.org/2000/svg\" height=\"24px\" viewBox=\"0 -960 960 960\">\n",
              "    <path d=\"M120-120v-720h720v720H120Zm60-500h600v-160H180v160Zm220 220h160v-160H400v160Zm0 220h160v-160H400v160ZM180-400h160v-160H180v160Zm440 0h160v-160H620v160ZM180-180h160v-160H180v160Zm440 0h160v-160H620v160Z\"/>\n",
              "  </svg>\n",
              "    </button>\n",
              "\n",
              "  <style>\n",
              "    .colab-df-container {\n",
              "      display:flex;\n",
              "      gap: 12px;\n",
              "    }\n",
              "\n",
              "    .colab-df-convert {\n",
              "      background-color: #E8F0FE;\n",
              "      border: none;\n",
              "      border-radius: 50%;\n",
              "      cursor: pointer;\n",
              "      display: none;\n",
              "      fill: #1967D2;\n",
              "      height: 32px;\n",
              "      padding: 0 0 0 0;\n",
              "      width: 32px;\n",
              "    }\n",
              "\n",
              "    .colab-df-convert:hover {\n",
              "      background-color: #E2EBFA;\n",
              "      box-shadow: 0px 1px 2px rgba(60, 64, 67, 0.3), 0px 1px 3px 1px rgba(60, 64, 67, 0.15);\n",
              "      fill: #174EA6;\n",
              "    }\n",
              "\n",
              "    .colab-df-buttons div {\n",
              "      margin-bottom: 4px;\n",
              "    }\n",
              "\n",
              "    [theme=dark] .colab-df-convert {\n",
              "      background-color: #3B4455;\n",
              "      fill: #D2E3FC;\n",
              "    }\n",
              "\n",
              "    [theme=dark] .colab-df-convert:hover {\n",
              "      background-color: #434B5C;\n",
              "      box-shadow: 0px 1px 3px 1px rgba(0, 0, 0, 0.15);\n",
              "      filter: drop-shadow(0px 1px 2px rgba(0, 0, 0, 0.3));\n",
              "      fill: #FFFFFF;\n",
              "    }\n",
              "  </style>\n",
              "\n",
              "    <script>\n",
              "      const buttonEl =\n",
              "        document.querySelector('#df-8da5206b-5348-435d-9526-8e64c123640f button.colab-df-convert');\n",
              "      buttonEl.style.display =\n",
              "        google.colab.kernel.accessAllowed ? 'block' : 'none';\n",
              "\n",
              "      async function convertToInteractive(key) {\n",
              "        const element = document.querySelector('#df-8da5206b-5348-435d-9526-8e64c123640f');\n",
              "        const dataTable =\n",
              "          await google.colab.kernel.invokeFunction('convertToInteractive',\n",
              "                                                    [key], {});\n",
              "        if (!dataTable) return;\n",
              "\n",
              "        const docLinkHtml = 'Like what you see? Visit the ' +\n",
              "          '<a target=\"_blank\" href=https://colab.research.google.com/notebooks/data_table.ipynb>data table notebook</a>'\n",
              "          + ' to learn more about interactive tables.';\n",
              "        element.innerHTML = '';\n",
              "        dataTable['output_type'] = 'display_data';\n",
              "        await google.colab.output.renderOutput(dataTable, element);\n",
              "        const docLink = document.createElement('div');\n",
              "        docLink.innerHTML = docLinkHtml;\n",
              "        element.appendChild(docLink);\n",
              "      }\n",
              "    </script>\n",
              "  </div>\n",
              "\n",
              "\n",
              "<div id=\"df-f0191940-4b83-4a1c-ade8-10918891227a\">\n",
              "  <button class=\"colab-df-quickchart\" onclick=\"quickchart('df-f0191940-4b83-4a1c-ade8-10918891227a')\"\n",
              "            title=\"Suggest charts\"\n",
              "            style=\"display:none;\">\n",
              "\n",
              "<svg xmlns=\"http://www.w3.org/2000/svg\" height=\"24px\"viewBox=\"0 0 24 24\"\n",
              "     width=\"24px\">\n",
              "    <g>\n",
              "        <path d=\"M19 3H5c-1.1 0-2 .9-2 2v14c0 1.1.9 2 2 2h14c1.1 0 2-.9 2-2V5c0-1.1-.9-2-2-2zM9 17H7v-7h2v7zm4 0h-2V7h2v10zm4 0h-2v-4h2v4z\"/>\n",
              "    </g>\n",
              "</svg>\n",
              "  </button>\n",
              "\n",
              "<style>\n",
              "  .colab-df-quickchart {\n",
              "      --bg-color: #E8F0FE;\n",
              "      --fill-color: #1967D2;\n",
              "      --hover-bg-color: #E2EBFA;\n",
              "      --hover-fill-color: #174EA6;\n",
              "      --disabled-fill-color: #AAA;\n",
              "      --disabled-bg-color: #DDD;\n",
              "  }\n",
              "\n",
              "  [theme=dark] .colab-df-quickchart {\n",
              "      --bg-color: #3B4455;\n",
              "      --fill-color: #D2E3FC;\n",
              "      --hover-bg-color: #434B5C;\n",
              "      --hover-fill-color: #FFFFFF;\n",
              "      --disabled-bg-color: #3B4455;\n",
              "      --disabled-fill-color: #666;\n",
              "  }\n",
              "\n",
              "  .colab-df-quickchart {\n",
              "    background-color: var(--bg-color);\n",
              "    border: none;\n",
              "    border-radius: 50%;\n",
              "    cursor: pointer;\n",
              "    display: none;\n",
              "    fill: var(--fill-color);\n",
              "    height: 32px;\n",
              "    padding: 0;\n",
              "    width: 32px;\n",
              "  }\n",
              "\n",
              "  .colab-df-quickchart:hover {\n",
              "    background-color: var(--hover-bg-color);\n",
              "    box-shadow: 0 1px 2px rgba(60, 64, 67, 0.3), 0 1px 3px 1px rgba(60, 64, 67, 0.15);\n",
              "    fill: var(--button-hover-fill-color);\n",
              "  }\n",
              "\n",
              "  .colab-df-quickchart-complete:disabled,\n",
              "  .colab-df-quickchart-complete:disabled:hover {\n",
              "    background-color: var(--disabled-bg-color);\n",
              "    fill: var(--disabled-fill-color);\n",
              "    box-shadow: none;\n",
              "  }\n",
              "\n",
              "  .colab-df-spinner {\n",
              "    border: 2px solid var(--fill-color);\n",
              "    border-color: transparent;\n",
              "    border-bottom-color: var(--fill-color);\n",
              "    animation:\n",
              "      spin 1s steps(1) infinite;\n",
              "  }\n",
              "\n",
              "  @keyframes spin {\n",
              "    0% {\n",
              "      border-color: transparent;\n",
              "      border-bottom-color: var(--fill-color);\n",
              "      border-left-color: var(--fill-color);\n",
              "    }\n",
              "    20% {\n",
              "      border-color: transparent;\n",
              "      border-left-color: var(--fill-color);\n",
              "      border-top-color: var(--fill-color);\n",
              "    }\n",
              "    30% {\n",
              "      border-color: transparent;\n",
              "      border-left-color: var(--fill-color);\n",
              "      border-top-color: var(--fill-color);\n",
              "      border-right-color: var(--fill-color);\n",
              "    }\n",
              "    40% {\n",
              "      border-color: transparent;\n",
              "      border-right-color: var(--fill-color);\n",
              "      border-top-color: var(--fill-color);\n",
              "    }\n",
              "    60% {\n",
              "      border-color: transparent;\n",
              "      border-right-color: var(--fill-color);\n",
              "    }\n",
              "    80% {\n",
              "      border-color: transparent;\n",
              "      border-right-color: var(--fill-color);\n",
              "      border-bottom-color: var(--fill-color);\n",
              "    }\n",
              "    90% {\n",
              "      border-color: transparent;\n",
              "      border-bottom-color: var(--fill-color);\n",
              "    }\n",
              "  }\n",
              "</style>\n",
              "\n",
              "  <script>\n",
              "    async function quickchart(key) {\n",
              "      const quickchartButtonEl =\n",
              "        document.querySelector('#' + key + ' button');\n",
              "      quickchartButtonEl.disabled = true;  // To prevent multiple clicks.\n",
              "      quickchartButtonEl.classList.add('colab-df-spinner');\n",
              "      try {\n",
              "        const charts = await google.colab.kernel.invokeFunction(\n",
              "            'suggestCharts', [key], {});\n",
              "      } catch (error) {\n",
              "        console.error('Error during call to suggestCharts:', error);\n",
              "      }\n",
              "      quickchartButtonEl.classList.remove('colab-df-spinner');\n",
              "      quickchartButtonEl.classList.add('colab-df-quickchart-complete');\n",
              "    }\n",
              "    (() => {\n",
              "      let quickchartButtonEl =\n",
              "        document.querySelector('#df-f0191940-4b83-4a1c-ade8-10918891227a button');\n",
              "      quickchartButtonEl.style.display =\n",
              "        google.colab.kernel.accessAllowed ? 'block' : 'none';\n",
              "    })();\n",
              "  </script>\n",
              "</div>\n",
              "\n",
              "    </div>\n",
              "  </div>\n"
            ],
            "application/vnd.google.colaboratory.intrinsic+json": {
              "type": "dataframe",
              "variable_name": "data",
              "summary": "{\n  \"name\": \"data\",\n  \"rows\": 6482,\n  \"fields\": [\n    {\n      \"column\": \"product_name\",\n      \"properties\": {\n        \"dtype\": \"string\",\n        \"num_unique_values\": 6079,\n        \"samples\": [\n          \"Haverjoy INSTANT OATS  BOX 1000g\",\n          \"Borneofood Bakso Daging Sapi Premium 120G\",\n          \"Dettol Body Wash Pump Original 625G\"\n        ],\n        \"semantic_type\": \"\",\n        \"description\": \"\"\n      }\n    },\n    {\n      \"column\": \"label\",\n      \"properties\": {\n        \"dtype\": \"category\",\n        \"num_unique_values\": 6,\n        \"samples\": [\n          \"kecantikan\",\n          \"product-segar\",\n          \"kesehatan\"\n        ],\n        \"semantic_type\": \"\",\n        \"description\": \"\"\n      }\n    }\n  ]\n}"
            }
          },
          "metadata": {},
          "execution_count": 3
        }
      ]
    },
    {
      "cell_type": "code",
      "source": [
        "from openpyxl import Workbook"
      ],
      "metadata": {
        "id": "5urh8Q6lZ88h"
      },
      "execution_count": null,
      "outputs": []
    },
    {
      "cell_type": "markdown",
      "source": [
        "Function for generate date and time randomly"
      ],
      "metadata": {
        "id": "dtf2n1jw9vFe"
      }
    },
    {
      "cell_type": "code",
      "source": [
        "import random\n",
        "from datetime import datetime, timedelta\n",
        "\n",
        "def generate_random_datetime():\n",
        "    start_date = datetime(2020, 1, 1)\n",
        "    end_date = datetime(2024, 11, 27)\n",
        "    random_date = start_date + timedelta(\n",
        "        seconds=random.randint(0, int((end_date - start_date).total_seconds()))\n",
        "    )\n",
        "    return random_date.strftime(\"%d.%m.%y-%H:%M\")\n"
      ],
      "metadata": {
        "id": "6BPO1Qo6f0Wq"
      },
      "execution_count": null,
      "outputs": []
    },
    {
      "cell_type": "markdown",
      "source": [
        "Function for generate product names randomly from dataset"
      ],
      "metadata": {
        "id": "OUFubyzJ90Vu"
      }
    },
    {
      "cell_type": "code",
      "source": [
        "def generate_random_products():\n",
        "  products = {}\n",
        "  number_of_products = random.randint(1,16)\n",
        "  sampled_titles = data['product_name'].sample(number_of_products).str.upper()\n",
        "\n",
        "  for title in sampled_titles:\n",
        "    random_price = random.randint(10, 900) * 100\n",
        "    products[title] = random_price\n",
        "\n",
        "  products = manipulated_products_name(products)\n",
        "\n",
        "  return products"
      ],
      "metadata": {
        "id": "OmuZeAtfkggP"
      },
      "execution_count": null,
      "outputs": []
    },
    {
      "cell_type": "markdown",
      "source": [
        "Manipulate the name of product because some store has different way to named its items. Sometimes, the store simplify the name of product by deleting vocal, some information, etc without reduce the main information."
      ],
      "metadata": {
        "id": "pAAnFunO98Eu"
      }
    },
    {
      "cell_type": "code",
      "source": [
        "def manipulated_products_name(products):\n",
        "    max_length = 20\n",
        "    manipulated_products = {}\n",
        "\n",
        "    for product, price in products.items():\n",
        "        product_name = product.split()\n",
        "\n",
        "        # Seperate in to parts\n",
        "        brand = ' '.join(product_name[:2])  # product name\n",
        "        size = product_name[-1]  # size\n",
        "        middle_words = product_name[2:-1]  # description name of products\n",
        "\n",
        "        manipulated_name = f\"{brand} {size}\".strip()\n",
        "\n",
        "        for word in middle_words:\n",
        "            if len(manipulated_name) + len(word) + 1 <= max_length:\n",
        "                manipulated_name = f\"{brand} {word} {size}\".strip()\n",
        "            else:\n",
        "                break\n",
        "\n",
        "       # delete vocal letter if still too large\n",
        "        if len(manipulated_name) > max_length:\n",
        "            manipulated_name = ' '.join(\n",
        "                ''.join([ch for ch in word if ch.upper() not in ['A', 'I', 'U', 'E', 'O']])\n",
        "                if word not in [brand, size] else word\n",
        "                for word in manipulated_name.split()\n",
        "            )\n",
        "\n",
        "        # cut another words if still larger than max length\n",
        "        if len(manipulated_name) > max_length:\n",
        "            manipulated_name = manipulated_name[:max_length]\n",
        "\n",
        "        # store the manipulated product with its price\n",
        "        manipulated_products[manipulated_name] = price\n",
        "\n",
        "    return manipulated_products"
      ],
      "metadata": {
        "id": "HqH1LXdM0aYI"
      },
      "execution_count": null,
      "outputs": []
    },
    {
      "cell_type": "markdown",
      "source": [
        "Function for create border of the cell"
      ],
      "metadata": {
        "id": "bEWJ2_HNAlhT"
      }
    },
    {
      "cell_type": "code",
      "source": [
        "from openpyxl.styles import Border, Side\n",
        "\n",
        "def apply_outside_border(ws):\n",
        "    # Define border styles\n",
        "    thin_border = Side(border_style=\"thin\", color=\"000000\")\n",
        "\n",
        "    # Get the dimensions of the worksheet\n",
        "    min_row, max_row = 1, ws.max_row\n",
        "    min_col, max_col = 1, ws.max_column\n",
        "\n",
        "    # Apply border to the first and last row\n",
        "    for col in range(min_col, max_col + 1):\n",
        "        # Top row\n",
        "        cell = ws.cell(row=min_row, column=col)\n",
        "        cell.border = Border(\n",
        "            top=thin_border,\n",
        "            left=cell.border.left,\n",
        "            right=cell.border.right,\n",
        "            bottom=cell.border.bottom,\n",
        "        )\n",
        "        # Bottom row\n",
        "        cell = ws.cell(row=max_row, column=col)\n",
        "        cell.border = Border(\n",
        "            bottom=thin_border,\n",
        "            left=cell.border.left,\n",
        "            right=cell.border.right,\n",
        "            top=cell.border.top,\n",
        "        )\n",
        "\n",
        "    # Apply border to the first and last column\n",
        "    for row in range(min_row, max_row + 1):\n",
        "        # Left column\n",
        "        cell = ws.cell(row=row, column=min_col)\n",
        "        cell.border = Border(\n",
        "            left=thin_border,\n",
        "            top=cell.border.top,\n",
        "            bottom=cell.border.bottom,\n",
        "            right=cell.border.right,\n",
        "        )\n",
        "        # Right column\n",
        "        cell = ws.cell(row=row, column=max_col)\n",
        "        cell.border = Border(\n",
        "            right=thin_border,\n",
        "            top=cell.border.top,\n",
        "            bottom=cell.border.bottom,\n",
        "            left=cell.border.left,\n",
        "        )\n"
      ],
      "metadata": {
        "id": "rLgCurLazv6k"
      },
      "execution_count": null,
      "outputs": []
    },
    {
      "cell_type": "markdown",
      "source": [
        "Function for set the print area"
      ],
      "metadata": {
        "id": "nNrhboZGAu07"
      }
    },
    {
      "cell_type": "code",
      "source": [
        "def apply_print_area(ws):\n",
        "    min_row, max_row = 1, ws.max_row\n",
        "    ws.print_area = f\"A{min_row}:D{max_row}\"\n"
      ],
      "metadata": {
        "id": "Xh6QdT_F9ud6"
      },
      "execution_count": null,
      "outputs": []
    },
    {
      "cell_type": "markdown",
      "source": [
        "function for change the entire fonts"
      ],
      "metadata": {
        "id": "hZWxiUU0BAYX"
      }
    },
    {
      "cell_type": "code",
      "source": [
        "def change_font(ws):\n",
        "    font_calibri = Font(name=\"Calibri\", size=9, bold=False, italic=False)\n",
        "    font_consolas = Font(name=\"Consolas\", size=9, bold=False, italic=False)\n",
        "\n",
        "    for row in ws.iter_rows():\n",
        "        if row[0].row < 6:\n",
        "            for cell in row:\n",
        "                cell.font = font_calibri\n",
        "        else:\n",
        "            for cell in row:\n",
        "                cell.font = font_consolas"
      ],
      "metadata": {
        "id": "ojl8jcECu6eM"
      },
      "execution_count": null,
      "outputs": []
    },
    {
      "cell_type": "markdown",
      "source": [
        "Function for create the worksheet"
      ],
      "metadata": {
        "id": "byYVticxB-ZF"
      }
    },
    {
      "cell_type": "code",
      "source": [
        "from openpyxl.styles import Alignment, Border, Side, Font\n",
        "from openpyxl.utils import get_column_letter\n",
        "\n",
        "def create_receipts(worksheet_name, wb):\n",
        "    # Create a new worksheet or get the existing one\n",
        "    if worksheet_name in wb.sheetnames:\n",
        "        ws = wb[worksheet_name]\n",
        "    else:\n",
        "        ws = wb.create_sheet(title=worksheet_name)\n",
        "\n",
        "    # nambahin kop\n",
        "    ws['A1'] = \"PT. INDOMARET PRISMATAMA\"\n",
        "    ws['A2'] = \"JL ANCOL U9, ANCOL\"\n",
        "    ws['A3'] = \"BARAT- JAKARTA UTARA\"\n",
        "    ws['A4'] = \"NPWP 123456789\"\n",
        "\n",
        "    # alamat indomaret\n",
        "    ws['A6'] = \"KS TUBUN 0293493733\"\n",
        "    ws['A7'] = \"JL KS TUBUN NO.05 RTO2 RWO4 KEL TEMANGGUNG\"\n",
        "    ws['A8'] = \"KEC TEMANGGUNG KAB TEMANGGUNG, 56213\"\n",
        "    for i in range(3):\n",
        "      ws.merge_cells(start_row=6+i, start_column=1, end_row=6+i, end_column=4)\n",
        "      ws['A'+str(6+i)].alignment = Alignment(horizontal='center')\n",
        "\n",
        "\n",
        "    # informasi bon\n",
        "    ws['A9'] = generate_random_datetime() + \"/2.1.27/FZIJ\"\n",
        "    ws.merge_cells(start_row=9, start_column=1, end_row=9, end_column=2)\n",
        "    ws['C9'].alignment = Alignment(horizontal='left')\n",
        "    ws['C9'] = \"301135/RATIH/01\"\n",
        "    ws.merge_cells(start_row=9, start_column=3, end_row=9, end_column=4)\n",
        "    ws['C9'].alignment = Alignment(horizontal='right')\n",
        "    # border informasi bon\n",
        "    dashed_border = Border(\n",
        "    top=Side(border_style=\"dashed\", color=\"000000\"),\n",
        "    bottom=Side(border_style=\"dashed\", color=\"000000\")\n",
        "    )\n",
        "    # Terapkan border pada seluruh sel di baris 9\n",
        "    for col in range(1, 5):  # Kolom A hingga D\n",
        "      cell = ws.cell(row=9, column=col)\n",
        "      cell.border = dashed_border\n",
        "\n",
        "    # informasi product\n",
        "    products = generate_random_products()\n",
        "    for i, (product_name, product_price) in enumerate(products.items()):\n",
        "      random_amount_item = random.randint(1, 8)\n",
        "      ws.cell(row=10 + i, column=1, value=product_name)\n",
        "      ws.cell(row=10 + i, column=2, value=random_amount_item)\n",
        "      ws.cell(row=10 + i, column=3, value=product_price)\n",
        "      ws.cell(row=10 + i, column=4, value=product_price * random_amount_item)\n",
        "\n",
        "    max_length = 20\n",
        "    ws.column_dimensions['B'].width = 3\n",
        "    ws.column_dimensions['C'].width = 9\n",
        "    ws.column_dimensions['D'].width = 9\n",
        "    ws.column_dimensions[get_column_letter(1)].width = max_length\n",
        "\n",
        "    # informasi uang\n",
        "    start_row_info = 10 + len(products)\n",
        "    total_cost = sum(product_price * random_amount_item for product_price in products.values())\n",
        "    random_cash = total_cost + (random.randint(0, 100) * 1000)\n",
        "\n",
        "    # Isi data dan lakukan merge\n",
        "    # Membuat border dengan dashed line\n",
        "    dashed_border_top = Border(\n",
        "      top=Side(border_style=\"dashed\", color=\"000000\"))\n",
        "\n",
        "    # Menambahkan label dan nilai untuk \"HARGA JUAL\", \"TUNAI\", \"KEMBALI\"\n",
        "    for i, (label, value) in enumerate([\n",
        "      (\"HARGA JUAL\", total_cost),\n",
        "      (\"TUNAI\", random_cash),\n",
        "      (\"KEMBALI\", random_cash - total_cost)\n",
        "    ]):\n",
        "    # Menambahkan label di kolom B\n",
        "      ws['B' + str(start_row_info + i)] = label\n",
        "      ws['B' + str(start_row_info + i)].alignment = Alignment(horizontal='right')\n",
        "\n",
        "      # Menambahkan nilai di kolom D\n",
        "      ws['D' + str(start_row_info + i)] = value\n",
        "\n",
        "      # Merge kolom B dan C\n",
        "      ws.merge_cells(start_row=start_row_info + i, start_column=2, end_row=start_row_info + i, end_column=3)\n",
        "\n",
        "      # Jika ini adalah label \"HARGA JUAL\", tambahkan border dashed di atas\n",
        "      if label == \"HARGA JUAL\":\n",
        "        # Terapkan border dashed pada baris yang berisi \"HARGA JUAL\"\n",
        "        for col in range(2, 5):  # Kolom B until D\n",
        "            cell = ws.cell(row=start_row_info + i, column=col)\n",
        "            cell.border = dashed_border_top\n",
        "\n",
        "\n",
        "    # footer receipt\n",
        "    start_row_footer = start_row_info + 3\n",
        "    ws['A' + str(start_row_footer)] = \"PPN : DPP = 8,919 PPN = 981\"\n",
        "    ws['A' + str(start_row_footer+1)] = \"NON PPN : DPP = 100\"\n",
        "    ws['A' + str(start_row_footer+2)] = \"LAYANAN KONSUMEN\"\n",
        "    ws['A' + str(start_row_footer+3)] = \"SMS/WA 0811.1500.280 TELP 1500280\"\n",
        "    ws['A' + str(start_row_footer+4)] = \"KONTAK@INDOMARET.CO.ID\"\n",
        "    ws['A' + str(start_row_footer+5)] = \"BELANJA LEBIH MUDAH DI KLIKINDOMARET\"\n",
        "    ws['A' + str(start_row_footer+6)] = \"GRATIS ONGKIR 1 JAM SAMPAI\"\n",
        "    for i in range(7):\n",
        "      ws.merge_cells(start_row=start_row_footer+i, start_column=1, end_row=start_row_footer+i, end_column=4)\n",
        "      if i > 1:\n",
        "        ws['A'+str(start_row_footer+i)].alignment = Alignment(horizontal='center')\n",
        "\n",
        "    # Set the border\n",
        "    apply_outside_border(ws)\n",
        "\n",
        "    # Set the print area\n",
        "    apply_print_area(ws)\n",
        "\n",
        "    # change the fonts\n",
        "    change_font(ws)\n",
        "\n",
        "\n",
        "\n",
        "    return ws\n"
      ],
      "metadata": {
        "id": "4yHKHk_bZwC9"
      },
      "execution_count": null,
      "outputs": []
    },
    {
      "cell_type": "code",
      "source": [
        "# Create a new workbook\n",
        "wb = Workbook()\n",
        "\n",
        "# Dictionary to store worksheets\n",
        "worksheets = {}\n",
        "\n",
        "for i in range(10):\n",
        "    sheet_name = f\"sheet{i+1}\"\n",
        "    worksheets[sheet_name] = wb.create_sheet(title=sheet_name)\n",
        "    create_receipts(sheet_name, wb)\n",
        "\n",
        "# Save the workbook to a file\n",
        "wb.save(\"nota.xlsx\")\n",
        "# Print a success message\n",
        "print(\"Excel file created successfully!\")"
      ],
      "metadata": {
        "colab": {
          "base_uri": "https://localhost:8080/"
        },
        "id": "KahbNLhhH8OQ",
        "outputId": "16c51c3d-1180-4d4c-932a-c427ff7eecd5"
      },
      "execution_count": null,
      "outputs": [
        {
          "output_type": "stream",
          "name": "stdout",
          "text": [
            "Excel file created successfully!\n"
          ]
        }
      ]
    },
    {
      "cell_type": "code",
      "source": [],
      "metadata": {
        "id": "FHLXepJBIDaO"
      },
      "execution_count": null,
      "outputs": []
    },
    {
      "cell_type": "code",
      "source": [],
      "metadata": {
        "id": "Tx1L_teujcVo"
      },
      "execution_count": null,
      "outputs": []
    }
  ]
}