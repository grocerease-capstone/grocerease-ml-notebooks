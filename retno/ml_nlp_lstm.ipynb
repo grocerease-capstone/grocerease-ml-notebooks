{
  "nbformat": 4,
  "nbformat_minor": 0,
  "metadata": {
    "colab": {
      "provenance": []
    },
    "kernelspec": {
      "name": "python3",
      "display_name": "Python 3"
    },
    "language_info": {
      "name": "python"
    }
  },
  "cells": [
    {
      "cell_type": "markdown",
      "source": [
        "Import library and dataset"
      ],
      "metadata": {
        "id": "IADGRpCHQrKO"
      }
    },
    {
      "cell_type": "code",
      "source": [
        "import git\n",
        "import os"
      ],
      "metadata": {
        "id": "lrTQxtxFoXFO"
      },
      "execution_count": null,
      "outputs": []
    },
    {
      "cell_type": "code",
      "source": [
        "git.Repo.clone_from(\n",
        "    'https://github.com/grocerease-capstone/ml-data-scrapper.git',\n",
        "    os.path.join('repo-scrapper'),\n",
        ")"
      ],
      "metadata": {
        "id": "DIRs3Rbsoc9o",
        "colab": {
          "base_uri": "https://localhost:8080/"
        },
        "outputId": "d543605d-9d2b-4a35-97e3-540bbd053c4c"
      },
      "execution_count": null,
      "outputs": [
        {
          "output_type": "execute_result",
          "data": {
            "text/plain": [
              "<git.repo.base.Repo '/content/repo-scrapper/.git'>"
            ]
          },
          "metadata": {},
          "execution_count": 6
        }
      ]
    },
    {
      "cell_type": "code",
      "execution_count": null,
      "metadata": {
        "id": "HBehpn1KnfCw"
      },
      "outputs": [],
      "source": [
        "import csv\n",
        "import pandas as pd\n",
        "import re"
      ]
    },
    {
      "cell_type": "markdown",
      "source": [
        "## Prepare the Dataset"
      ],
      "metadata": {
        "id": "W6CYkzadS7L3"
      }
    },
    {
      "cell_type": "markdown",
      "source": [
        "load the dataset and clean them by lowering case the product name, delete the size of item, and deleting any useless character"
      ],
      "metadata": {
        "id": "tgOQ-TcnQxU1"
      }
    },
    {
      "cell_type": "code",
      "source": [
        "df = pd.read_csv(os.path.join('repo-scrapper', 'data', 'makanan.csv'))\n",
        "labels = df.iloc[:, 0]\n",
        "\n",
        "def clean_product_name(product_name: str):\n",
        "  product_name = product_name.lower()\n",
        "  product_name = re.sub(r'\\b\\d+(\\.\\d+)?x\\d+(\\.\\d+)?(g|ml|kg|lt)\\b', '', product_name)\n",
        "  product_name = re.sub(r'\\b\\d+(\\.\\d+)?(g|ml|kg|lt)\\b', '', product_name)\n",
        "  product_name = re.sub(r'\\b\\d+(g|ml|kg|lt)\\b', '', product_name)\n",
        "  product_name = re.sub(r'\\b\\d+\\'s\\b', '', product_name)\n",
        "  product_name = re.sub(r'[^a-z\\s]', '', product_name)\n",
        "  product_name = product_name.strip()\n",
        "\n",
        "  return product_name\n",
        "\n",
        "labels = labels.apply(clean_product_name)\n",
        "labels = labels.unique()\n",
        "print(f'len: {len(labels)}')\n",
        "print(labels)"
      ],
      "metadata": {
        "colab": {
          "base_uri": "https://localhost:8080/"
        },
        "id": "sivlY5e0oyUx",
        "outputId": "6c43e5d5-720b-498b-ba7b-c16762172692"
      },
      "execution_count": null,
      "outputs": [
        {
          "output_type": "stream",
          "name": "stdout",
          "text": [
            "len: 863\n",
            "['mrbread roti tawar tebal' 'fs beras ketan putih' 'indomaret pop corn'\n",
            " 'indomaret crispy seaweed barbeque' 'indomaret crispy seaweed original'\n",
            " 'indomaret bihun beras' 'indomaret keripik pisang candi'\n",
            " 'indomaret mi goreng ala indonesia' 'indomaret mi goreng pedas'\n",
            " 'tropicana slim diet jam strawbery' 'promina snack softcorn buttermilk'\n",
            " 'samyang mie instant goreng pedas ayam  cup'\n",
            " 'maya sardine in tomato sauce' 'pringles potato crisps cheesy cheese'\n",
            " 'pringles potato crisps original'\n",
            " 'pringles potato crisps sourcream  onion'\n",
            " 'tao kae noi crispy seaweed hot  spicy'\n",
            " 'tao kae noi crispy seaweed original' 'pringles potato crisps saucy bbq'\n",
            " 'tao kae noi crispy seaweed big sheet classic'\n",
            " 'tao kae noi crispy seaweed big sheet spicy' 'mujigae jajangmyeon'\n",
            " 'heinz farleys biscuit original'\n",
            " 'promina snack rice crackers broccoli  kale'\n",
            " 'potabee snack potato chips melted cheese steak'\n",
            " 'japota potato chips happy honey butter'\n",
            " 'japota potato chips umami japanese seaweed'\n",
            " 'milna rice crackers spotato carrot'\n",
            " 'nissin mie goreng gekikara ramen pedas'\n",
            " 'nissin mie instant gekikara ramen pedas' 'pronas corned beef'\n",
            " 'pronas corned beef classic' 'fitbar chocolate fitbar'\n",
            " 'fitbar tiramisu fitbar' 'swallow globe agar agar powder merah'\n",
            " 'ufo instant cup noodles kari pedas'\n",
            " 'ufo instant cup noodles saus jepang' 'milna biskuit bayi  beras merah'\n",
            " 'milna biskuit bayi  original' 'pronas corned beef kornetku'\n",
            " 'abc sardines bumbu serundeng goreng' 'asahi sardines saus pedas'\n",
            " 'asahi sardines saus tomat' 'ashitaki mi goreng ala jepang'\n",
            " 'ashitaki shirataki noodle mi goreng rendang'\n",
            " 'ashitaki shirataki noodle tom yum' 'ayam brand tuna chunks in oil'\n",
            " 'bihun jagung bihun cap tanam jagung'\n",
            " 'bihunku bihun goreng special pedas' 'bihunku bihun instant ayam bawang'\n",
            " 'bihunku bihun instant korean series spicy kimchi'\n",
            " 'bihunku bihun instant soto spesial'\n",
            " 'bihunkubihun instant korean series japchae'\n",
            " 'bon cabe snack makaroni level' 'burung dara mie telur urai original'\n",
            " 'burung dara mie telur urai pipih'\n",
            " 'chitato snack potato chips ayam barbeque'\n",
            " 'chitato snack potato chips ayam bumbu'\n",
            " 'chitato snack potato chips cheese supreme'\n",
            " 'chitato snack potato chips mi goreng'\n",
            " 'chitato snack potato chips sapi bumbu bakar'\n",
            " 'chitato snack potato chips sapi panggang' 'diabetamil sweetener'\n",
            " 'diabetasol zero calorie sweetener' 'fiesta mackerel in chili sauce'\n",
            " 'fitmee mie instant goreng pedas' 'gaga sardines chili  tomato'\n",
            " 'gaga sardines tomat  chilli' 'hatari jam biscuit peanut'\n",
            " 'home vermicelli soun longkou' 'indomie mi instan ayam bawang'\n",
            " 'indomie mi instan ayam special'\n",
            " 'indomie mi instan goreng jumbo ayam panggang'\n",
            " 'indomie mi instan goreng jumbo special'\n",
            " 'indomie mi instan goreng plus special'\n",
            " 'indomie mi instan goreng rendang' 'indomie mi instan goreng rica rica'\n",
            " 'indomie mi instan kaldu ayam' 'indomie mi instan kari ayam'\n",
            " 'indomie mi instan keriting ayam panggang'\n",
            " 'indomie mi instan keriting goreng special' 'indomie mi instan soto mie'\n",
            " 'indomie mi instan soto spesial'\n",
            " 'indomie mie instant premium japanese tori kara ramen'\n",
            " 'indomie mie instant premium japanese tori miso ramen'\n",
            " 'kings fisher sarden goreng balado'\n",
            " 'ladang lima korean noodle kuah beef mushroom'\n",
            " 'larisst snack popcorn jagung berondong chocoberry'\n",
            " 'lemonilo chimi keripik ubi jagung balado'\n",
            " 'mamasuka rumput laut panggang nori'\n",
            " 'mamasuka rumput laut panggang nori jagung bakar'\n",
            " 'mamasuka rumput laut panggang nori pedas'\n",
            " 'mamasuka rumput laut panggang nori rendang'\n",
            " 'maya sardines in tomato sauce' 'mie oven mie goreng bawang putih'\n",
            " 'mie oven mie goreng gulai sultan' 'mie oven mie instant iga sapi'\n",
            " 'milna biscuit bayi  kacang hijau' 'milna biscuit bayi apel jeruk'\n",
            " 'milna nature puffs organic banana' 'mister potato snack crisps original'\n",
            " 'nabati richeese mi goreng keju pedas fire level'\n",
            " 'nabati richeese mi goreng pedas richicken'\n",
            " 'nabati richeese mi instant soto mi'\n",
            " 'piattos snack kentang sapi panggang' 'pop mie instan ayam'\n",
            " 'pop mie instan baso' 'pop mie instan mini baso sapi'\n",
            " 'pop mie mi instan kari ayam' 'pop mie mi instan mini ayam bawang'\n",
            " 'pop mie mi instan mini soto mie' 'pop mie mi instan soto ayam'\n",
            " 'potabee potato chips wagyu beef steak'\n",
            " 'potabee snack potato chips ayam bakar' 'potabee snack potato chips bbq'\n",
            " 'potabee snack potato chips beef bbq'\n",
            " 'potabee snack potato chips grilled seaweed'\n",
            " 'potabee snack potato chips seaweed' 'pringles potato crisps hot  spicy'\n",
            " 'promina baby crunchies chicken broccoli'\n",
            " 'promina baby crunchies keju cheddar' 'promina baby crunchies seaweed'\n",
            " 'promina snack rice puffs strawbery apple' 'ratu abon sapi'\n",
            " 'samyang mi instant stew type' 'samyang mie instant goreng pedas jjajang'\n",
            " 'sarimi mi instan goreng isi  ayam kecap'\n",
            " 'sarimi mi instan goreng ayam kremess' 'sarimi mie instan ayam bawang'\n",
            " 'sarimi mie instant iga sapi' 'sedaap mie instant ayam bawang'\n",
            " 'sedaap mie instant baso' 'sedaap mie instant goreng'\n",
            " 'sedaap mie instant kari ayam' 'sedaap mie instant kari special'\n",
            " 'sedaap mie instant kari spesial'\n",
            " 'sedaap mie instant korean spicy chicken'\n",
            " 'sedaap mie instant singapore spicy laksa'\n",
            " 'sedaap mie mie instant ayam jerit' 'sedaap mie mie instant ayam nampol'\n",
            " 'sedaap mie mie instant baso bleduk'\n",
            " 'sedaap mie mie instant kuah ayam jerit'\n",
            " 'soyjoy fruit soy bar coklat almond' 'soyjoy fruit soy bar raisin almond'\n",
            " 'soyjoy fruit soy bar strawberry' 'sozzis sosis ayam' 'sozzis sosis sapi'\n",
            " 'strive mee mi goreng' 'strive mee mi instant ayam bawang'\n",
            " 'sun marie biscuit balita' 'sun marie biscuit bayi keju'\n",
            " 'super bihun instant kuah' 'super bubur instant bergizi abon sapi'\n",
            " 'super bubur instant bergizi ayam'\n",
            " 'super bubur instant bergizi rasa ayam' 'supermi mie instant ayam bawang'\n",
            " 'tos tos tortilla chips korean bbq' 'tos tos tortilla chips nacho cheese'\n",
            " 'tos tos tortilla chips roasted corn'\n",
            " 'wonhae instant fried noodle rose ramyun'\n",
            " 'wow spageti instant spaghetti cream carbonara'\n",
            " 'wow spageti instant spaghetti meaty bolognese'\n",
            " 'wrp meal replacement cokelat sereal' 'ayam brand tuna chunks in water'\n",
            " 'botan mackarel' 'botan sardines premium in tomato sauce'\n",
            " 'fs beras hitam' 'fs beras japonica' 'fs beras ketan hitam'\n",
            " 'fs beras merah' 'kongbap multi grain mix'\n",
            " 'kongbap multi grain mix chia seed  quinoa' 'md beras merah organik'\n",
            " 'md beras pandan wangi organik' 'milna biscuit bayi  pisang'\n",
            " 'promina snack softcorn strawberry yogurt' 'pronas chunky corned beef'\n",
            " 'pronas corned chicken' 'wrp everyday deli chips salt  pepper'\n",
            " 'yummy bites bebe roll cheese' 'yummy bites bebe roll strawberry'\n",
            " 'yummy bites pancake  waffle' 'yummy bites rice crackers  apple'\n",
            " 'yummy bites rice crackers  banana'\n",
            " 'yummy bites rice crackers  strawberry'\n",
            " 'indomaret snack kacang atom pedas' 'indomaret cashew milk chocolate'\n",
            " 'indomaret emping udang' 'indomaret kacang bali' 'indomaret kacang bumbu'\n",
            " 'indomaret kacang mete madu' 'indomaret keripik buah apel'\n",
            " 'indomaret keripik buah nangka' 'indomaret keripik buah salak'\n",
            " 'indomaret keripik pisang kepok' 'indomaret keripik pisang madu'\n",
            " 'indomaret keripik singkong asin' 'indomaret kerupuk slondok udang'\n",
            " 'indomaret kuaci' 'indomaret kuaci susu' 'indomaret mix nuts'\n",
            " 'indomaret otakotak ikan tenggiri' 'indomaret popcorn caramel'\n",
            " 'indomaret popcorn sweet cheese' 'indomaret snack kacang atom  shanghai'\n",
            " 'indomaret snack kuku macan' 'indomaret snack samosa'\n",
            " 'oreo dutch cocoa wafer vanila' 'asw delux cookies cream'\n",
            " 'promina homemade salmon kentang wortel' 'chuba keripik ubi jagung manis'\n",
            " 'chuba keripik ubi pedas bawang' 'lmen crunchy chocolate bar'\n",
            " 'nextar nastar cookies pineapple' 'promina pasta creamy chicken spinach'\n",
            " 'naraya oat choco' 'naraya oat choco  chocolate' 'lmen strongberry bar'\n",
            " 'arnotts nyam nyam smiley cokelat' 'kokola kukis vanila'\n",
            " 'mrhottest snack tortilla chips maitos jagung barbeque'\n",
            " 'mrhottest snack tortilla chips maitos sambal balado'\n",
            " 'dua kelinci kacang sukro' 'dua kelinci kacang sukro bbq'\n",
            " 'japota potato chips beef bbq' 'milna bubur bayi  hati ayam brokoli'\n",
            " 'chitato lite snack potato aburi seaweed'\n",
            " 'nestle bubur cerelac beras merah' 'nestle bubur cerelac kacang hijau'\n",
            " 'nissin crackers crispy lemon' 'kraker snack udang pedas'\n",
            " 'poppy pop snack jagung bakar' 'rinbee snack stick keju'\n",
            " 'promina pasta mac  cheese' 'so good chicken spicy wing'\n",
            " 'so good chicken stick premium' 'maxlife kitten tuna'\n",
            " 'milna bubur bayi  sup ayam wortel'\n",
            " 'milna bubur bayi  sup daging brokoli' 'milna bubur bayi  bulan pisang'\n",
            " 'manon brownies chocolate cake original' 'dua kelinci kacang garing'\n",
            " 'kusuka keripik singkong ghost pepper' 'la fonte lasagna'\n",
            " 'nestle bubur bayi cerelac probiotik pisang  susu' 'oreo biskuit cokelat'\n",
            " 'oreo biskuit es krim blueberry' 'oreo biskuit strawberry'\n",
            " 'oreo biskuit vanila' 'whiskas cat food pocket tuna'\n",
            " 'whiskas cat food mackerel' 'whiskas cat food dry pack adult  ocean fish'\n",
            " 'whiskas junior cat food ocean fish' 'twistko snack jagung bakar'\n",
            " 'kusuka keripik singkong ayam lada hitam'\n",
            " 'kusuka keripik singkong barbeque' 'kusuka keripik singkong keju bakar'\n",
            " 'kusuka keripik singkong rumput laut' 'ajinomoto bumbu masak'\n",
            " 'days croissant chocolate' 'days croissant mix berries'\n",
            " 'cereal bar cocoa chia' 'cereal bar yoghurt berry' 'agnesi lasagne'\n",
            " 'agnesi pasta fettuccine flat' 'alpo adult dog food beef  vegetable'\n",
            " 'alpo adult dog food chicken  vegetable'\n",
            " 'alpo dog food puppy beef  vegetable' 'biondi angel hair no'\n",
            " 'biondi elbows no' 'biondi linguine no' 'biondi macaroni no'\n",
            " 'biondi penne rigate no' 'biondi spagheti no' 'biondi spiral no'\n",
            " 'biondi trivelle no' 'biondi vermicelli no'\n",
            " 'bon cabe snack makaroni level  nacho cheese'\n",
            " 'cat choize adult cat food tuna'\n",
            " 'cat choize plus adult cat food tuna  mackerel'\n",
            " 'cat choize plus adult cat food tuna  salmon'\n",
            " 'cat choize plus kitten cat food tuna  salmon'\n",
            " 'chiki balls snack chocolate' 'chiki snack balls butter cookies'\n",
            " 'chiki snack balls cheese' 'chiki snack balls chicken'\n",
            " 'chiki snack balls wagyu beef bbq' 'chiki snack puffs cheddar cheese'\n",
            " 'chiki snack twist flaming hot' 'chiki snack twist roasted corn'\n",
            " 'chitato lite snack potato ayam bawang'\n",
            " 'chocho wafer snack chocolate rice crispy'\n",
            " 'chuba keripik singkong balado' 'chuba keripik singkong barbeque'\n",
            " 'corntoz snack sapi panggang' 'dua kelinci kacang sangrai'\n",
            " 'dua kelinci snack pilus tic tac mie goreng'\n",
            " 'dua kelinci snack pilus tic tac sapi panggang'\n",
            " 'dua kelinci snack roni makaroni roasted corn'\n",
            " 'dua kelinci snack tato tato french fries flame beef'\n",
            " 'dua kelinci snack tato tato french fries original'\n",
            " 'finna kerupuk bawang' 'finna kerupuk seleraku bawang'\n",
            " 'finna kerupuk seleraku udang' 'finna kerupuk udang nusantara'\n",
            " 'friskies adult cat food indoor delights'\n",
            " 'friskies adult cat food surfin favourites'\n",
            " 'friskies cat food meaty grills' 'friskies cat food seafood'\n",
            " 'garuda kacang atom' 'garuda kacang atom apc pedas'\n",
            " 'garuda kacang garing' 'garuda kacang panggang rosta bawang'\n",
            " 'garuda kacang panggang rosta jagung bakar'\n",
            " 'garuda kacang panggang rosta pedas' 'garuda kacang panggang rosta wagyu'\n",
            " 'garuda kacang telur' 'garuda skippy wafer cones peanut butter'\n",
            " 'garuda snack pilus mi goreng' 'garuda snack pilus rendang'\n",
            " 'gery crackers malkist saluut coklat coconut' 'gery snack sereal'\n",
            " 'good time cookies chocochips classic'\n",
            " 'good time cookies chocochips double choc' 'guribee snack bbq balado'\n",
            " 'guribee snack keju' 'guribee snack rumput laut'\n",
            " 'happytos snack tortila chips hijau' 'happytos snack tortila chips merah'\n",
            " 'happytos snack tortilla chips hot chili'\n",
            " 'happytos snack tortilla chips jagung bakar'\n",
            " 'happytos snack tortilla chips nacho cheese'\n",
            " 'happytos snack tortilla chips roasted corn' 'indomaret kacang pistachio'\n",
            " 'indomaret keripik bothe talas original'\n",
            " 'indomaret keripik opak singkong original'\n",
            " 'indomaret roasted chickpeas kacang arab jagung bakar'\n",
            " 'indomaret stik kentang barbecue' 'indomaret telur gabus keju'\n",
            " 'indomaret telur gabus wijen' 'jetz snack makaroni habanero'\n",
            " 'jetz snack stick chocofiesta' 'jetz snack stick gula aren'\n",
            " 'kacang bawang oven' 'kacang polong pedas'\n",
            " 'kanzler singles sosis gochujang' 'kanzler singles sosis keju'\n",
            " 'kanzler singles sosis mini' 'kanzler singles sosis original'\n",
            " 'kartika toast soes snack cream cheese'\n",
            " 'kata oma snack telur gabus gula aren' 'kata oma snack telur gabus keju'\n",
            " 'khong guan chocolate wafer classic' 'kitekat adult tuna'\n",
            " 'kitekat kitten tuna' 'kraftsandwich mini oreo chocolate cream'\n",
            " 'krisbee snack french fries' 'krisbee snack pillow choco lava'\n",
            " 'kusuka keripik emping original' 'kusuka keripik singkong balado'\n",
            " 'kusuka keripik singkong kari ayam' 'kusuka keripik singkong original'\n",
            " 'ladang lima cookies blackmond' 'larisst snack pilus balado'\n",
            " 'larisst snack pilus keju' 'lemonilo chimi keripik ubi jagung bakar'\n",
            " 'lemonilo chimi keripik ubi karamel mentega' 'loacker wafer cream kakao'\n",
            " 'loacker wafer napolitaner' 'maira crispy macaron'\n",
            " 'mamasuka gim bori rumput laut tabur original'\n",
            " 'mamasuka gim bori rumput laut tabur pedas' 'maxicorn snack barbecue'\n",
            " 'maxicorn snack nacho cheese' 'maxicorn snack roasted corn'\n",
            " 'meo adult cat food tuna' 'meo canned seafood in jelly'\n",
            " 'meo cat food kitten' 'meo cat food ocean fish'\n",
            " 'meo cat food otakotak white fish crab stick'\n",
            " 'meo cat food otakotak with white fish' 'meo cat food persian'\n",
            " 'meo cat food salmon' 'meo cat food tuna' 'meo cat food tuna in jelly'\n",
            " 'meo cat treats tuna chicken  egg' 'meo creamy treats chicken  liver'\n",
            " 'meo creamy treats salmon' 'meo kitten food ocean fish'\n",
            " 'meo kitten food tuna in jelly' 'meo kitten ocean fish'\n",
            " 'mi gemez snack mie kering enaak premium'\n",
            " 'mi gemez snack mie kering enak fam pack spicy'\n",
            " 'milna bubur bayi  ayam manis teriyaki'\n",
            " 'milna bubur bayi organic  kacang hijau'\n",
            " 'milna bubur bayi organic multigrain'\n",
            " 'milna bubur bayi penambah berat badan ayam bayam'\n",
            " 'milna bubur bayi wgain ayam  kacang polong' 'milo sereal bar cokelat'\n",
            " 'monde biscuit butter cookies  klg' 'monde biscuit genji pie'\n",
            " 'monde butter cookies' 'monde cookies serena egg roll original'\n",
            " 'morin topping caramel' 'morisca lapis legit singkong batang srikaya'\n",
            " 'mrp kacang madu' 'nabati richeese wafer krim keju'\n",
            " 'nabati richoco wafer chocolate' 'nabati siip snack bite size cokelat'\n",
            " 'nabati siip snack bite size jagung bakar'\n",
            " 'nabati siip snack bite size keju'\n",
            " 'nestle bubur bayi cerelac probiotik wortel bayam  labu'\n",
            " 'nestle koko krunch cereal bar cookie' 'nextar noir chocolate'\n",
            " 'nissin cookies lemonia' 'nissin wafer chocolate'\n",
            " 'nissin wafer cream dapur cokelat choco lava'\n",
            " 'nissin wafer ovaltine chocolate malt' 'nissin walens choco soes'\n",
            " 'nutella bready ferrero' 'oishi panchos keripik jagung cabe pedas'\n",
            " 'oishi panchos keripik jagung pedas'\n",
            " 'oishi panchos keripik jagung sapi panggang'\n",
            " 'oishi snack pillows chocolate' 'oishi snack pillows durian'\n",
            " 'oishi snack pillows keju' 'oishi snack pillows ubi'\n",
            " 'oishi snack sponge crunch chocolate'\n",
            " 'oishi snack sponge crunch strawberry'\n",
            " 'oishi tater thins potato snack truffle' 'oreo biskuit red velvet'\n",
            " 'pedigree dog food denta stix mediumlarge'\n",
            " 'pedigree dog food wet  nd beef'\n",
            " 'pedigree dog snack meat jerky roasted lamb'\n",
            " 'pedigree dog snack meat jerky smoky beef' 'pia  kue pia coklat'\n",
            " 'pia  kue pia kacang hijau' 'potabee snack potato chips spicy bbq'\n",
            " 'pringles potato crisps texas bbq'\n",
            " 'promina bubur bayi cheezy chiken broccoli'\n",
            " 'promina bubur bayi tim dagingbrokoli' 'promina silky puding  strawberry'\n",
            " 'promina silky puding  chocolate'\n",
            " 'purnama kemplang bangka  ikan tenggiri' 'qtela keripik singkong balado'\n",
            " 'qtela keripik singkong barbeque'\n",
            " 'qtela keripik singkong keriting ayam geprek'\n",
            " 'qtela keripik singkong original' 'qtela keripik singkong rumput laut'\n",
            " 'qtela keripik tempe cabe rawit' 'qtela keripik tempe original'\n",
            " 'qtela keripik tempe rumput laut' 'quaker instant oatmeal reff merah'\n",
            " 'quaker oatmeal instant merah' 'rocho wafer chocolate kacang'\n",
            " 'roma arden cookies choco splendid'\n",
            " 'roma arden cookies yoghurtstrawberry' 'roma biscuit sandwich chocolate'\n",
            " 'roma biscuit sari gandum sandwich peanut butter'\n",
            " 'roma biscuit sari gandum sandwich susu  cokelat'\n",
            " 'roma wafer wafello italia butter caramel'\n",
            " 'roma wafer wafello italia choco blast' 'royco bumbu kaldu sapi'\n",
            " 'royco bumbu kuah bakso' 'sb golden curry mix medium hot'\n",
            " 'sb golden curry mix mild' 'sasa bumbu masak'\n",
            " 'sasa tepung bumbu corainder' 'selamat wafer chocolate cream'\n",
            " 'selamat wafer double choco' 'serena biscuit short cake cream chocolate'\n",
            " 'sheba melty chicken  white fish' 'sheba melty tuna mix'\n",
            " 'sheba tuna  salmon' 'sheba tuna' 'smartheart adult dog food lamb  rice'\n",
            " 'smartheart adult dog food pouch beef chunk in gravy'\n",
            " 'smartheart adult dog food pouch puppy chicken in grav'\n",
            " 'smartheart adult dog food pouch smoked chicken vegetable'\n",
            " 'smartheart adult dog food puppy beef  milk'\n",
            " 'smartheart adult dog food roasted beef'\n",
            " 'smartheart adult dog food small breed roasted beef'\n",
            " 'smartheart creamy cat treats tuna'\n",
            " 'smartheart dog creamy treat adult chicken  spinach'\n",
            " 'smartheart dog creamy treat adult strawberry'\n",
            " 'smartheart dog food canned beef  liver'\n",
            " 'so good chicken nugget alphabet' 'so good chicken nugget animal pizza'\n",
            " 'so good chicken nugget dino bites original'\n",
            " 'so good chicken nugget original' 'so good chicken stick original'\n",
            " 'so good daging ayam olahan jets' 'so good paha  dada ayam potong'\n",
            " 'so good paha  dada ayam potong pedas manis'\n",
            " 'so nice chicken nugget sedaaap' 'so nice chicken stick sedaaap'\n",
            " 'so nice sosis siap makan teman mie rasa ayam bawang'\n",
            " 'sozzis boboi boy sosis ayam' 'stt french fries  premium'\n",
            " 'stt french fries  saos level' 'suky suky snack udang manis pedas'\n",
            " 'sun bubur sereal susu ayam kampung  bayam'\n",
            " 'sun bubur sereal susu beras merah' 'sun bubur sereal susu pisang'\n",
            " 'sun bubur sereal susu ubi ungu' 'sun bubur susu ekonomis pisang'\n",
            " 'sun bubur susu beras merah' 'sun bubur susu ekonomis kacang hijau'\n",
            " 'sun bubur tim instan  ati ayam  jagung manis'\n",
            " 'sun bubur tim instan  ayam  sayur'\n",
            " 'sun bubur tim instan  tomat wortel  ayam' 'super cat cat food adult'\n",
            " 'super cat cat food adult tuna  chicken' 'super cat cat food kitten'\n",
            " 'super cat cat food kitten tuna  chicken' 'super cat cat food ocean fish'\n",
            " 'tango wafer chocolate' 'tango wafer vanilla' 'tango wafer vanilla milk'\n",
            " 'tango wafer waffle mocha latte' 'taro snack italian pizza'\n",
            " 'taro snack net potato barbeque' 'taro snack net seaweed'\n",
            " 'taro snack net teriyaki bbq' 'taro snack potato barbeque'\n",
            " 'taro snack seaweed' 'telur ayam kampung omega'\n",
            " 'telur ayam negeri harga perbutir' 'temptations cat food savoury salmon'\n",
            " 'temptations cat food tasty chicken'\n",
            " 'tic tic snack crunchy stick bawang saos pedas mantap'\n",
            " 'tini wini biti crackers rainbow' 'tropicana slim korean garlic cookies'\n",
            " 'tropicana slim korean goguma cookies' 'vita pudding coklat'\n",
            " 'vita pudding strawberry' 'whiskas cat food dry pocket adult  mackerel'\n",
            " 'whiskas cat food mackerel  salmon' 'whiskas cat food ocean fish'\n",
            " 'whiskas cat food pockets ocean fish' 'whiskas cat food pouch mackerel'\n",
            " 'whiskas cat food pouch ocean fish' 'whiskas cat food tuna  white fish'\n",
            " 'whiskas cat food tuna' 'whiskas cat food wet tuna'\n",
            " 'whiskas junior cat food kitten ocean fish'\n",
            " 'whiskas junior cat food kitten tuna' 'whiskas junior cat food mackerel'\n",
            " 'whiskas tasty mix cat food  chicken tuna'\n",
            " 'whiskas tasty mix cat food  tuna kanikama' 'wong coco pudding guava'\n",
            " 'wong coco pudding mango' 'wuenak bawang merah sumenep goreng'\n",
            " 'ayam brand whole kernel corn in water' 'better sandwich biscuit vanilla'\n",
            " 'browny cookies double trouble dark chocolate' 'browny cookies original'\n",
            " 'chiki snack balls choco' 'chiki snack twist keju duo'\n",
            " 'dapur sus  cake kue nampan mika' 'dapur sus  cake kue sus klasik'\n",
            " 'dapur sus  cake kue tampah'\n",
            " 'delfi wafer stick twister minis black vanilla'\n",
            " 'delmonte fresh cut whole kernel corn' 'delmonte fruit cocktail'\n",
            " 'delmonte golden sweet corn cream style fresh cut'\n",
            " 'delmonte sweet corn cream style' 'east bali chili lime cashew snack'\n",
            " 'east bali granola tropical fruits'\n",
            " 'finna krobe shrimp crackers hot spicy'\n",
            " 'finna krobe shrimp crackers original' 'gizzi milk wafer selection'\n",
            " 'hampton chocolate chip cookies' 'hampton double chocolate cookies'\n",
            " 'hampton shortbread pure butter chocolate'\n",
            " 'hampton shortbread pure butter clasic'\n",
            " 'hampton wholesome oatmeal cookies' 'indomaret adult cat food tuna'\n",
            " 'kartika toast bagelan butter' 'kartika toast bagelan cheese'\n",
            " 'kartika toast soesnack chocolate'\n",
            " 'kata oma snack telur gabus balado padang'\n",
            " 'kata oma snack telur gabus telur asin'\n",
            " 'krisma food cheese butter cookies' 'krisma food chicken floss egg roll'\n",
            " 'krisma food fish skin salted egg' 'krisma food puffs vanilla'\n",
            " 'krisma food rendang beef floss egg roll'\n",
            " 'kusuka keripik singkong berbeque' 'lago wafer cacao'\n",
            " 'lago wafer hazelnut' 'lago wafer vanilla' 'lidi geli snack mie lidi bbq'\n",
            " 'lidi geli snack mie lidi spicy' 'louis dessert avocado kiss'\n",
            " 'louis dessert biscoffee' 'louis dessert christmas box'\n",
            " 'louis dessert dark chocolate classic' 'louis dessert dark merry'\n",
            " 'louis dessert espresso latte' 'louis dessert fruity go'\n",
            " 'louis dessert holy red' 'louis dessert jiger orcho'\n",
            " 'louis dessert jolly matcha' 'louis dessert le berry yakult'\n",
            " 'louis dessert le flowny cny' 'louis dessert le flowy'\n",
            " 'louis dessert mango kiss' 'louis dessert matcha classic'\n",
            " 'louis dessert matcho' 'louis dessert minty white choco'\n",
            " 'louis dessert olola' 'louis dessert orange luck'\n",
            " 'louis dessert prosperity pineapple' 'louis dessert taro classic'\n",
            " 'mailing greenpeas' 'mamee monster snack mi bbq'\n",
            " 'mamee monster snack mi chicken' 'monde cookies serena egg roll'\n",
            " 'munchys oat krunch strawberry  blackurrant'\n",
            " 'oatsy havermout instant oatmeal' 'oatsy muesli tropical fruit'\n",
            " 'promina bubur tim instant salmon norwegia'\n",
            " 'promina mi batita ayam kampung' 'qtela keripik tempe tempe orek'\n",
            " 'sw mandarin orange in light syrup' 'serena sandwich togo long coklat'\n",
            " 'shelly pudding buah cm' 'shelly pudding fulltop'\n",
            " 'shelly pudding mawar cm' 'shelly pudding ultah fulltop kotak'\n",
            " 'shelly pudding ultah holo cm' 'snek ku snack shoyue mi original'\n",
            " 'sun bubur sereal susu daging sapi  kacang merah' 'tong garden chestnuts'\n",
            " 'tong garden coated green peas wasabi'\n",
            " 'tong garden coated peanuts barbecue'\n",
            " 'tong garden coated peanuts chicken' 'tong garden coated peanuts coconut'\n",
            " 'tong garden coated peanuts shrimp' 'tts longans in syrup'\n",
            " 'vini salad buah' 'wisseugi pet bowl  side square'\n",
            " 'yummy bites meal chicken broth cabbage  sweet pumpkin'\n",
            " 'yummy bites star shaped pasta' 'indomaret cream crackers'\n",
            " 'indomaret malkist crackers'\n",
            " 'bandeng lelaki ikan bandeng isi jengkol balado'\n",
            " 'bandeng lelaki ikan bandeng isi mayonaise'\n",
            " 'bandeng lelaki ikan bandeng isi original'\n",
            " 'bandeng lelaki ikan bandeng isi sambal grpete' 'cedea chikuwa'\n",
            " 'cedea duo twister' 'cedea fish dumpling cheese' 'cedea fish roll'\n",
            " 'cedea fish roll original' 'cedea otak  otak singapore'\n",
            " 'cedea rainbow roll' 'cedea shrimp tail' 'cedea steamboat set'\n",
            " 'mamiki ayam negeri bumbu rempah' 'regal marie special'\n",
            " 'nextar choco brownies' 'cimo cimo snack lapis cokelat'\n",
            " 'kelloggs cereal coco fills' 'kelloggs cereal froot loops'\n",
            " 'ritz biskuit sandwich crackers cokelat' 'ritz biskuit sandwich keju'\n",
            " 'glico biscuit pocky crushed nuts almond dark chocolate'\n",
            " 'biskuat biskuit cokelat' 'maxlife adult cat tuna'\n",
            " 'captain oats instant oatmeal' 'monde biscuit piebis'\n",
            " 'days croissant cheese' 'bengbeng wafer chocolate'\n",
            " 'bengbeng wafer chocolate maxx' 'bengbeng wafer chocolate nuts almond'\n",
            " 'bengbeng wafer chocolate share it' 'better sandwich biscuit  vanilla'\n",
            " 'biscuit nyamnyam fantasy stick strawberry'\n",
            " 'brio crispy biscuit cracker go potato'\n",
            " 'cadbury dairy milk cokelat lickables'\n",
            " 'chomp chomp marshmallow strawberry'\n",
            " 'cimory yoghurt thick  creamy original' 'cimory yogurt drink blueberry'\n",
            " 'cimory yogurt drink lychee' 'cimory yogurt drink mix fruits'\n",
            " 'cimory yogurt drink mixed berry' 'cimory yogurt drink strawberry'\n",
            " 'delbis biscuit sandwich gandum coklat'\n",
            " 'delfi crackers k rice orion sweet' 'dilan choco crunchy caramel'\n",
            " 'dilan sandwich biscuit cokelat vanilla'\n",
            " 'fatigon spirit suplemen makanan' 'fiesta bakso ayam ready to go bbq'\n",
            " 'fiesta sausage ready to go original' 'fruzz chewy candy fruit combo'\n",
            " 'gery crackers malkist saluut coklat' 'gery crackers malkist saluut keju'\n",
            " 'gery kraker beras asin' 'glico biscuit pejoy chocolate'\n",
            " 'glico biscuit pocky chocolate  box' 'glico biscuit pocky matcha'\n",
            " 'glico biscuit pocky strawberry' 'golden farm french fries shoestring'\n",
            " 'golden farm mixed vegetable' 'hanzel sosis bratwurst  mozzarella cheese'\n",
            " 'hatari crackers see hong puff sugar'\n",
            " 'imperial biscuit susu selai dan krim blueberry' 'inaco jelly mini'\n",
            " 'inaco mini jelly  mix flavour' 'just fry shoestring'\n",
            " 'just fry shoestring berbumbu' 'kalpa wafer share it cokelat kelapa'\n",
            " 'kelloggs cereal corn flakes honey crunch'\n",
            " 'khong guan biscuit mini assorted' 'khong guan biscuit red assorted'\n",
            " 'khong guan biscuit red segi assorted' 'khong guan crackers cream'\n",
            " 'khong guan crackers malkist superco'\n",
            " 'khong guan crackers saltcheese regular'\n",
            " 'khong guan crackerswafer saltcheese combo'\n",
            " 'kit kat chocolate  fingers multipack' 'lmen protein crunch beef bbq'\n",
            " 'meiji biscuit hello panda chocolate'\n",
            " 'meiji biscuit hello panda cookies and cream'\n",
            " 'meiji biscuit hello panda strawberry' 'monde boromon cookies original'\n",
            " 'mujigae rapokki spicy' 'my fruit apel granny smith isi'\n",
            " 'nestle cereal breakfast honey stars' 'nextar korean goguma cookies'\n",
            " 'nextar krimero choc raspberry cookies richberry'\n",
            " 'nextar krimero choco cookies richoco' 'nextar noir cookies  cream'\n",
            " 'nextar star choco cookies richoco'\n",
            " 'nextar star double cream cookies goguma' 'nissin biscuit butter coconut'\n",
            " 'oreo pokemon biskuit sandwich cokelat  krim pisang'\n",
            " 'pharmaton formula tablet multivitamin  mineral ekstrak ginseng g'\n",
            " 'quaker minuman sereal  in  cokelat' 'quaker minuman sereal  in  vanilla'\n",
            " 'regal marie' 'roma biscuit kelapa' 'roma biscuit kelapa cream cokelat'\n",
            " 'roma biscuit kelapa fresh' 'roma crackers malkist abon'\n",
            " 'roma crackers malkist belgian style cokelat'\n",
            " 'roma crackers malkist cokelat kelapa' 'roma crackers malkist keju manis'\n",
            " 'roma crackers malkist keju panggang' 'roma crackers sweet malkist'\n",
            " 'sari roti dorayaki coklat' 'sari roti lapis bamkuhen'\n",
            " 'sari roti roti tawar milky soft' 'so good bakso kuah'\n",
            " 'so good paha  dada ayam frozen' 'so good premium sausage original'\n",
            " 'so nice sosis ayam sedaaap' 'so nice sosis siap makan premium hot'\n",
            " 'sumber selera bakso kuah' 'sumber selera bakso sapi sb'\n",
            " 'telur ayam omega  harga perbutir'\n",
            " 'adaa bakery jajanan nusantara lemper ayam'\n",
            " 'adaa bakery jajanan nusantara risols rogut cheesee'\n",
            " 'biscolata mood milk choco' 'biscolata stix crispy rice'\n",
            " 'blackmores bio c mg' 'blackmores multi b performance'\n",
            " 'blackmores odourless fish oil' 'blackmores vitamin c'\n",
            " 'blackmores vitamin d iu' 'brands saripati ayam dengan cordyceps'\n",
            " 'brands saripati ayam dengan ginseng amerika'\n",
            " 'brands saripati ayam light aroma vanilla'\n",
            " 'brands saripati ayam original' 'brands saripati prune'\n",
            " 'diasweet fiberwafer chocolate' 'east bali cacao cashew nuts'\n",
            " 'east bali roasted cashew snack' 'ever e suplemen makanan'\n",
            " 'frutivit juicy fruity jelly' 'glico biscuit pejoy vanila hokkaido'\n",
            " 'glico biscuit pocky chocolate' 'khong guan crackers malkist abon sapi'\n",
            " 'khong guan crackers saltcheese sweet  spicy'\n",
            " 'krisma food chocolate butter cookies' 'la mere paket hampers yueyin'\n",
            " 'lotte pepero biscuit stick almond'\n",
            " 'lotte pepero biscuit stick white cookie' 'louis dessert ramadhan cendol'\n",
            " 'louis dessert ramadhan klepon' 'louis dessert ramadhan kurma'\n",
            " 'majestyk risol medan kota' 'milo biscuit sandwich activ milk'\n",
            " 'milo biscuit sandwich activ original' 'milo cereal breakfast  calcium'\n",
            " 'mom yuly kroket ayam' 'mom yuly risol mayonaise' 'mom yuly risol sayur'\n",
            " 'monde biscuit egg drops' 'monde biscuit serena snack gold'\n",
            " 'nestle cereal breakfast honey star' 'nissin biscuit gabin'\n",
            " 'nissin crackers crispy' 'nuby snack keeper pk print red'\n",
            " 'quaker instant oatmeal merah' 'roma crackers cream'\n",
            " 'roma crackers malkist' 'roma crackers malkist kelapa kopyor'\n",
            " 'tropicana slim cookies diabetamil nutty chocolate'\n",
            " 'unibis biscuit coco puff' 'unibis biscuits bonbon cream chocolate'\n",
            " 'verkade biscuit speculaas cashew nut'\n",
            " 'verkade biscuit speculaas special spices'\n",
            " 'weston biscuit bagelen butter kecil'\n",
            " 'wrp diet cookies flake chocolate chips' 'indomaret dental floss pick'\n",
            " 'indomaret dental tooth picks  brush' 'ellenka fiber creme'\n",
            " 'ayam ungkep djogja ayam kampung tulang lunak frozen  ekor'\n",
            " 'ayam ungkep djogja ayam tulang lunak  goreng'\n",
            " 'cedea premium salmon sausage' 'frozchick ayam bumbu kuning'\n",
            " 'frozchick ayam bumbu rica' 'delfi choco pie orion  dark'\n",
            " 'abc sardines extra pedas' 'delfi crackers k rice orion seaweed'\n",
            " 'delijoy creamy treats tuna  salmon' 'delijoy creamy treats tuna'\n",
            " 'fiesta siomay ayam ready to go'\n",
            " 'hemaviton health drink vitamin c orange'\n",
            " 'oishi tater thins potato snack hot and spicy'\n",
            " 'sari roti steamed cheese cake original'\n",
            " 'adaa bakery jajanan nusantara nona manis'\n",
            " 'adaa bakery kue soes ice cream'\n",
            " 'bagus kitchenware penjepit type  serbaguna'\n",
            " 'bagus sarung tangan plastik  micron' 'claris round toples'\n",
            " 'claris tempat roti muffin' 'freemir wheat straw bowl  sbf'\n",
            " 'freemir wheat straw tray set  wsf' 'hampton chunky almond cookies'\n",
            " 'kenmaster gas torch km' 'kenmaster nylon cable tie  xmm'\n",
            " 'kiip rectangular thinwall' 'la mere chicken charsiu puff xcm'\n",
            " 'la mere lapis legit xcm' 'la mere lapis prune blue band xcm'\n",
            " 'la mere rhum ball' 'mom yuly choco rhum ball'\n",
            " 'onyx mangkok cosmic  ggs inch' 'onyx mangkok cosmic  igs iinch'\n",
            " 'onyx mangkok luna  ivy  inch' 'onyx oriental bowl jma  kmbico inch'\n",
            " 'onyx piring luna  ivy  inch' 'push pop candy real fruit juice'\n",
            " 'seiv gelas  tutup cs udm' 'seiv mangkok soto s udm  inch'\n",
            " 'sweet from heaven choux' 'wispish keripik singkong original'\n",
            " 'mazola canola oil' 'krisma food puffs coffee']\n"
          ]
        }
      ]
    },
    {
      "cell_type": "code",
      "source": [
        "!pip install nlpaug"
      ],
      "metadata": {
        "colab": {
          "base_uri": "https://localhost:8080/"
        },
        "id": "nTg4iuhNo-cj",
        "outputId": "c1645142-c6e1-4b21-e9be-d1449594aa80"
      },
      "execution_count": null,
      "outputs": [
        {
          "output_type": "stream",
          "name": "stdout",
          "text": [
            "Collecting nlpaug\n",
            "  Downloading nlpaug-1.1.11-py3-none-any.whl.metadata (14 kB)\n",
            "Requirement already satisfied: numpy>=1.16.2 in /usr/local/lib/python3.10/dist-packages (from nlpaug) (1.26.4)\n",
            "Requirement already satisfied: pandas>=1.2.0 in /usr/local/lib/python3.10/dist-packages (from nlpaug) (2.2.2)\n",
            "Requirement already satisfied: requests>=2.22.0 in /usr/local/lib/python3.10/dist-packages (from nlpaug) (2.32.3)\n",
            "Requirement already satisfied: gdown>=4.0.0 in /usr/local/lib/python3.10/dist-packages (from nlpaug) (5.2.0)\n",
            "Requirement already satisfied: beautifulsoup4 in /usr/local/lib/python3.10/dist-packages (from gdown>=4.0.0->nlpaug) (4.12.3)\n",
            "Requirement already satisfied: filelock in /usr/local/lib/python3.10/dist-packages (from gdown>=4.0.0->nlpaug) (3.16.1)\n",
            "Requirement already satisfied: tqdm in /usr/local/lib/python3.10/dist-packages (from gdown>=4.0.0->nlpaug) (4.66.6)\n",
            "Requirement already satisfied: python-dateutil>=2.8.2 in /usr/local/lib/python3.10/dist-packages (from pandas>=1.2.0->nlpaug) (2.8.2)\n",
            "Requirement already satisfied: pytz>=2020.1 in /usr/local/lib/python3.10/dist-packages (from pandas>=1.2.0->nlpaug) (2024.2)\n",
            "Requirement already satisfied: tzdata>=2022.7 in /usr/local/lib/python3.10/dist-packages (from pandas>=1.2.0->nlpaug) (2024.2)\n",
            "Requirement already satisfied: charset-normalizer<4,>=2 in /usr/local/lib/python3.10/dist-packages (from requests>=2.22.0->nlpaug) (3.4.0)\n",
            "Requirement already satisfied: idna<4,>=2.5 in /usr/local/lib/python3.10/dist-packages (from requests>=2.22.0->nlpaug) (3.10)\n",
            "Requirement already satisfied: urllib3<3,>=1.21.1 in /usr/local/lib/python3.10/dist-packages (from requests>=2.22.0->nlpaug) (2.2.3)\n",
            "Requirement already satisfied: certifi>=2017.4.17 in /usr/local/lib/python3.10/dist-packages (from requests>=2.22.0->nlpaug) (2024.8.30)\n",
            "Requirement already satisfied: six>=1.5 in /usr/local/lib/python3.10/dist-packages (from python-dateutil>=2.8.2->pandas>=1.2.0->nlpaug) (1.16.0)\n",
            "Requirement already satisfied: soupsieve>1.2 in /usr/local/lib/python3.10/dist-packages (from beautifulsoup4->gdown>=4.0.0->nlpaug) (2.6)\n",
            "Requirement already satisfied: PySocks!=1.5.7,>=1.5.6 in /usr/local/lib/python3.10/dist-packages (from requests[socks]->gdown>=4.0.0->nlpaug) (1.7.1)\n",
            "Downloading nlpaug-1.1.11-py3-none-any.whl (410 kB)\n",
            "\u001b[?25l   \u001b[90m━━━━━━━━━━━━━━━━━━━━━━━━━━━━━━━━━━━━━━━━\u001b[0m \u001b[32m0.0/410.5 kB\u001b[0m \u001b[31m?\u001b[0m eta \u001b[36m-:--:--\u001b[0m\r\u001b[2K   \u001b[90m━━━━━━━━━━━━━━━━━━━━━━━━━━━━━━━━━━━━━━━━\u001b[0m \u001b[32m410.5/410.5 kB\u001b[0m \u001b[31m26.6 MB/s\u001b[0m eta \u001b[36m0:00:00\u001b[0m\n",
            "\u001b[?25hInstalling collected packages: nlpaug\n",
            "Successfully installed nlpaug-1.1.11\n"
          ]
        }
      ]
    },
    {
      "cell_type": "markdown",
      "source": [
        "Function to augmented the dataset so it will has different type of name product. This is will add more rows in the dataset."
      ],
      "metadata": {
        "id": "BzgVpwiBSMeq"
      }
    },
    {
      "cell_type": "code",
      "source": [
        "import nlpaug.augmenter.char as nac\n",
        "import typing"
      ],
      "metadata": {
        "id": "kMkpwEVus-AJ"
      },
      "execution_count": null,
      "outputs": []
    },
    {
      "cell_type": "code",
      "source": [
        "def augment_product_name(\n",
        "    product_name: str,\n",
        "    length: int,\n",
        ") -> typing.List[str]:\n",
        "  results: typing.List[str] = list[str]()\n",
        "\n",
        "  # delete all vocal\n",
        "  results.append(re.sub(r'[aiueo]', '', product_name))\n",
        "\n",
        "  # delete all vocal per word\n",
        "  # for word in product_name.split(' '):\n",
        "  #   new_word = re.sub(r'[aiueo]', '', word)\n",
        "  #   if len(new_word) > 1:\n",
        "  #     results.append(new_word)\n",
        "\n",
        "  # ocr\n",
        "  aug = nac.OcrAug()\n",
        "  augmented_texts = aug.augment(product_name, n=length)\n",
        "  for augmented_text in augmented_texts:\n",
        "    if not augmented_text in results:\n",
        "      results.append(augmented_text)\n",
        "\n",
        "  # random delete\n",
        "  aug = nac.RandomCharAug(action='delete')\n",
        "  augmented_texts = aug.augment(product_name, n=length)\n",
        "  for augmented_text in augmented_texts:\n",
        "    if not augmented_text in results:\n",
        "      results.append(augmented_text)\n",
        "\n",
        "  # random substitute\n",
        "  aug = nac.RandomCharAug(action='substitute')\n",
        "  augmented_texts = aug.augment(product_name, n=length)\n",
        "  for augmented_text in augmented_texts:\n",
        "    if not augmented_text in results:\n",
        "      results.append(augmented_text)\n",
        "\n",
        "  return results"
      ],
      "metadata": {
        "id": "NUnMcLv_tvqS"
      },
      "execution_count": null,
      "outputs": []
    },
    {
      "cell_type": "code",
      "source": [
        "if not os.path.exists('data'):\n",
        "  os.mkdir('data')\n",
        "\n",
        "with open(os.path.join('data', 'augmented.csv'), mode='w', newline='') as file:\n",
        "  writer = csv.writer(file)\n",
        "  writer.writerow(['text', 'label'])\n",
        "\n",
        "  for label in labels:\n",
        "    augmented_texts = augment_product_name(label, 10)\n",
        "    for augmented_text in augmented_texts:\n",
        "      writer.writerow([augmented_text, label])"
      ],
      "metadata": {
        "id": "0GRmvttYv7GB"
      },
      "execution_count": null,
      "outputs": []
    },
    {
      "cell_type": "markdown",
      "source": [
        "Function to shuffle inside dataset"
      ],
      "metadata": {
        "id": "sumY_I2YStki"
      }
    },
    {
      "cell_type": "code",
      "source": [
        "def shuffle_csv(csv_filepath, output_csv_filename):\n",
        "    output_filepath = os.path.join('data', output_csv_filename)\n",
        "\n",
        "    data_frame = pd.read_csv(csv_filepath)\n",
        "    data_frame = data_frame.sample(frac=1).reset_index(drop=True)\n",
        "    data_frame.to_csv(output_filepath, index=False)\n",
        "\n",
        "    return output_filepath"
      ],
      "metadata": {
        "id": "tXiChNi4wh8W"
      },
      "execution_count": null,
      "outputs": []
    },
    {
      "cell_type": "code",
      "source": [
        "shuffle_csv(\n",
        "    os.path.join('data', 'augmented.csv'),\n",
        "    'shuffled_augmented.csv',\n",
        ")"
      ],
      "metadata": {
        "colab": {
          "base_uri": "https://localhost:8080/",
          "height": 36
        },
        "id": "H_P7Lq4swnAI",
        "outputId": "f5c1a654-d9f6-483a-c81f-28c3e5f3cdde"
      },
      "execution_count": null,
      "outputs": [
        {
          "output_type": "execute_result",
          "data": {
            "text/plain": [
              "'data/shuffled_augmented.csv'"
            ],
            "application/vnd.google.colaboratory.intrinsic+json": {
              "type": "string"
            }
          },
          "metadata": {},
          "execution_count": 14
        }
      ]
    },
    {
      "cell_type": "code",
      "source": [
        "# df_aug = pd.read_csv(os.path.join('data', 'shuffled_augmented.csv'))"
      ],
      "metadata": {
        "id": "w8yiByLn4A3R"
      },
      "execution_count": null,
      "outputs": []
    },
    {
      "cell_type": "code",
      "source": [],
      "metadata": {
        "id": "CwiYlQarS5Iq"
      },
      "execution_count": null,
      "outputs": []
    },
    {
      "cell_type": "markdown",
      "source": [
        "## Data separate, vectorizer, etc"
      ],
      "metadata": {
        "id": "idMFae7sTOLM"
      }
    },
    {
      "cell_type": "markdown",
      "source": [
        "seperate the data into train and validate data"
      ],
      "metadata": {
        "id": "kF0bo7l9TT-u"
      }
    },
    {
      "cell_type": "code",
      "source": [
        "import tensorflow as tf\n",
        "\n",
        "def train_val_datasets():\n",
        "  df = pd.read_csv(os.path.join('data', 'shuffled_augmented.csv'))\n",
        "\n",
        "  train_size = int(0.9 * len(df))\n",
        "\n",
        "  train_texts = df.iloc[:train_size, 0]\n",
        "  train_labels = df.iloc[:train_size, 1]\n",
        "\n",
        "  val_texts = df.iloc[train_size:, 0]\n",
        "  val_labels = df.iloc[train_size:, 1]\n",
        "\n",
        "  train_dataset = tf.data.Dataset.from_tensor_slices((train_texts, train_labels))\n",
        "  val_dataset = tf.data.Dataset.from_tensor_slices((val_texts, val_labels))\n",
        "\n",
        "  return train_dataset, val_dataset"
      ],
      "metadata": {
        "id": "zM7v9CGHwvki"
      },
      "execution_count": null,
      "outputs": []
    },
    {
      "cell_type": "code",
      "source": [
        "train_dataset, validation_dataset = train_val_datasets()\n",
        "\n",
        "print(f\"There are {train_dataset.cardinality()} text-label pairs for training.\\n\")\n",
        "print(f\"There are {validation_dataset.cardinality()} text-label pairs for validation.\\n\")"
      ],
      "metadata": {
        "colab": {
          "base_uri": "https://localhost:8080/"
        },
        "id": "tt17Ng6Xw4ms",
        "outputId": "687ec037-067e-4033-ea6b-590c6c710f03"
      },
      "execution_count": null,
      "outputs": [
        {
          "output_type": "stream",
          "name": "stdout",
          "text": [
            "There are 22155 text-label pairs for training.\n",
            "\n",
            "There are 2462 text-label pairs for validation.\n",
            "\n"
          ]
        }
      ]
    },
    {
      "cell_type": "code",
      "source": [
        "def standardize_text(text: str):\n",
        "  text = tf.strings.lower(text)\n",
        "  text = tf.strings.regex_replace(text, r'[^a-z\\s]', '')\n",
        "  text = tf.strings.strip(text)\n",
        "\n",
        "  return text"
      ],
      "metadata": {
        "id": "Lvx_X_0cw9gw"
      },
      "execution_count": null,
      "outputs": []
    },
    {
      "cell_type": "code",
      "source": [
        "test_product_name = 'Hello World 123#'\n",
        "test_standardize_product_name = standardize_text(test_product_name)\n",
        "\n",
        "print(f'product name: {test_product_name}')\n",
        "print(f'standardized product name: \\n{test_standardize_product_name}')"
      ],
      "metadata": {
        "colab": {
          "base_uri": "https://localhost:8080/"
        },
        "id": "mz8EYX-6xFsU",
        "outputId": "e01f035e-ae9b-4e73-86b6-6d487d10caf1"
      },
      "execution_count": null,
      "outputs": [
        {
          "output_type": "stream",
          "name": "stdout",
          "text": [
            "product name: Hello World 123#\n",
            "standardized product name: \n",
            "b'hello world'\n"
          ]
        }
      ]
    },
    {
      "cell_type": "code",
      "source": [
        "def fit_vectorizer(product_names):\n",
        "  vectorizer = tf.keras.layers.TextVectorization(\n",
        "      standardize=standardize_text,\n",
        "      # max_tokens=50000,\n",
        "      output_sequence_length=8,\n",
        "  )\n",
        "  vectorizer.adapt(product_names)\n",
        "\n",
        "  return vectorizer"
      ],
      "metadata": {
        "id": "HMfmmNILxRiO"
      },
      "execution_count": null,
      "outputs": []
    },
    {
      "cell_type": "code",
      "source": [
        "vectorizer = fit_vectorizer(train_dataset.map(lambda text, label: text))\n",
        "vocab_size = vectorizer.vocabulary_size()\n",
        "print(f\"Vocabulary contains {vocab_size} words\\n\")"
      ],
      "metadata": {
        "colab": {
          "base_uri": "https://localhost:8080/"
        },
        "id": "N1EizVTWxaiV",
        "outputId": "2202e8ba-88d4-494d-b61b-4ee137a09f91"
      },
      "execution_count": null,
      "outputs": [
        {
          "output_type": "stream",
          "name": "stdout",
          "text": [
            "Vocabulary contains 22647 words\n",
            "\n"
          ]
        }
      ]
    },
    {
      "cell_type": "code",
      "source": [
        "def fit_encoder():\n",
        "  train_labels = train_dataset.map(lambda text, label: label)\n",
        "  val_labels = validation_dataset.map(lambda text, label: label)\n",
        "  labels  = train_labels.concatenate(val_labels)\n",
        "\n",
        "  encoder = tf.keras.layers.StringLookup(\n",
        "      num_oov_indices=1,\n",
        "      oov_token='<unk>'\n",
        "  )\n",
        "  encoder.adapt(labels)\n",
        "\n",
        "  return encoder"
      ],
      "metadata": {
        "id": "kwWNKtgHxf71"
      },
      "execution_count": null,
      "outputs": []
    },
    {
      "cell_type": "code",
      "source": [
        "encoder = fit_encoder()\n",
        "print(f'unique labels len: {len(encoder.get_vocabulary())}')"
      ],
      "metadata": {
        "colab": {
          "base_uri": "https://localhost:8080/"
        },
        "id": "gPsuYMymyHwI",
        "outputId": "f8d33b9b-17b2-482c-cf76-6a6dd6049f42"
      },
      "execution_count": null,
      "outputs": [
        {
          "output_type": "stream",
          "name": "stdout",
          "text": [
            "unique labels len: 864\n"
          ]
        }
      ]
    },
    {
      "cell_type": "code",
      "source": [
        "def preprocess_dataset(dataset, vectorizer, encoder):\n",
        "  dataset = dataset.map(lambda text, label: (vectorizer(text), encoder(label)))\n",
        "  dataset = dataset.cache().prefetch(buffer_size=tf.data.AUTOTUNE)\n",
        "  dataset = dataset.batch(8)\n",
        "\n",
        "  return dataset"
      ],
      "metadata": {
        "id": "vVx47yqzycVK"
      },
      "execution_count": null,
      "outputs": []
    },
    {
      "cell_type": "code",
      "source": [
        "train_proc_dataset = preprocess_dataset(train_dataset, vectorizer, encoder)\n",
        "val_proc_dataset = preprocess_dataset(validation_dataset, vectorizer, encoder)\n",
        "\n",
        "print(f'train dataset: {train_proc_dataset.cardinality()}\\n')\n",
        "print(f'val dataset: {val_proc_dataset.cardinality()}\\n')"
      ],
      "metadata": {
        "colab": {
          "base_uri": "https://localhost:8080/"
        },
        "id": "STC1385EyfE8",
        "outputId": "7a7a1276-98df-4923-fc21-b64d41563f20"
      },
      "execution_count": null,
      "outputs": [
        {
          "output_type": "stream",
          "name": "stdout",
          "text": [
            "train dataset: 2770\n",
            "\n",
            "val dataset: 308\n",
            "\n"
          ]
        }
      ]
    },
    {
      "cell_type": "code",
      "source": [
        "train_batch = next(train_proc_dataset.as_numpy_iterator())\n",
        "val_batch = next(val_proc_dataset.as_numpy_iterator())\n",
        "\n",
        "print(f\"shape train: {train_batch[0].shape}\")\n",
        "print(f\"shape val: {val_batch[0].shape}\")"
      ],
      "metadata": {
        "colab": {
          "base_uri": "https://localhost:8080/"
        },
        "id": "Gj-WniZfyhOx",
        "outputId": "64978cb2-d4e9-43d6-a848-4a3dda5d07a2"
      },
      "execution_count": null,
      "outputs": [
        {
          "output_type": "stream",
          "name": "stdout",
          "text": [
            "shape train: (8, 8)\n",
            "shape val: (8, 8)\n"
          ]
        }
      ]
    },
    {
      "cell_type": "markdown",
      "source": [
        "## Create the model"
      ],
      "metadata": {
        "id": "F1bw4_97ToZp"
      }
    },
    {
      "cell_type": "code",
      "source": [
        "def create_model():\n",
        "  model = tf.keras.Sequential([\n",
        "      tf.keras.Input(shape=(100,)),\n",
        "      tf.keras.layers.Embedding(\n",
        "          input_dim=vocab_size+1,\n",
        "          output_dim=128,\n",
        "          mask_zero=True,\n",
        "      ),\n",
        "      # tf.keras.layers.LSTM(256, return_sequences=True, activation='relu'),\n",
        "      tf.keras.layers.LSTM(128, dropout=0.3, recurrent_dropout=0.3),\n",
        "      tf.keras.layers.Dense(\n",
        "          units=64,\n",
        "          activation='relu',\n",
        "      ),\n",
        "      # tf.keras.layers.Dropout(0.3),\n",
        "      tf.keras.layers.Dense(\n",
        "          units=len(encoder.get_vocabulary()),\n",
        "          activation='softmax',\n",
        "      ),\n",
        "  ])\n",
        "\n",
        "  optimizer=tf.keras.optimizers.Adam(learning_rate=0.0001)\n",
        "  model.compile(\n",
        "      loss=tf.keras.losses.SparseCategoricalCrossentropy(),\n",
        "      optimizer=optimizer,\n",
        "      metrics=['accuracy'],\n",
        "  )\n",
        "\n",
        "  return model"
      ],
      "metadata": {
        "id": "fF_oa6edylPI"
      },
      "execution_count": null,
      "outputs": []
    },
    {
      "cell_type": "code",
      "source": [
        "model = create_model()\n",
        "model.summary()"
      ],
      "metadata": {
        "colab": {
          "base_uri": "https://localhost:8080/",
          "height": 257
        },
        "id": "018EaSbGyutI",
        "outputId": "197c74c5-f512-476c-9fac-91b7b225c2e6"
      },
      "execution_count": null,
      "outputs": [
        {
          "output_type": "display_data",
          "data": {
            "text/plain": [
              "\u001b[1mModel: \"sequential\"\u001b[0m\n"
            ],
            "text/html": [
              "<pre style=\"white-space:pre;overflow-x:auto;line-height:normal;font-family:Menlo,'DejaVu Sans Mono',consolas,'Courier New',monospace\"><span style=\"font-weight: bold\">Model: \"sequential\"</span>\n",
              "</pre>\n"
            ]
          },
          "metadata": {}
        },
        {
          "output_type": "display_data",
          "data": {
            "text/plain": [
              "┏━━━━━━━━━━━━━━━━━━━━━━━━━━━━━━━━━━━━━━┳━━━━━━━━━━━━━━━━━━━━━━━━━━━━━┳━━━━━━━━━━━━━━━━━┓\n",
              "┃\u001b[1m \u001b[0m\u001b[1mLayer (type)                        \u001b[0m\u001b[1m \u001b[0m┃\u001b[1m \u001b[0m\u001b[1mOutput Shape               \u001b[0m\u001b[1m \u001b[0m┃\u001b[1m \u001b[0m\u001b[1m        Param #\u001b[0m\u001b[1m \u001b[0m┃\n",
              "┡━━━━━━━━━━━━━━━━━━━━━━━━━━━━━━━━━━━━━━╇━━━━━━━━━━━━━━━━━━━━━━━━━━━━━╇━━━━━━━━━━━━━━━━━┩\n",
              "│ embedding (\u001b[38;5;33mEmbedding\u001b[0m)                │ (\u001b[38;5;45mNone\u001b[0m, \u001b[38;5;34m100\u001b[0m, \u001b[38;5;34m128\u001b[0m)            │       \u001b[38;5;34m2,898,944\u001b[0m │\n",
              "├──────────────────────────────────────┼─────────────────────────────┼─────────────────┤\n",
              "│ lstm (\u001b[38;5;33mLSTM\u001b[0m)                          │ (\u001b[38;5;45mNone\u001b[0m, \u001b[38;5;34m128\u001b[0m)                 │         \u001b[38;5;34m131,584\u001b[0m │\n",
              "├──────────────────────────────────────┼─────────────────────────────┼─────────────────┤\n",
              "│ dense (\u001b[38;5;33mDense\u001b[0m)                        │ (\u001b[38;5;45mNone\u001b[0m, \u001b[38;5;34m64\u001b[0m)                  │           \u001b[38;5;34m8,256\u001b[0m │\n",
              "├──────────────────────────────────────┼─────────────────────────────┼─────────────────┤\n",
              "│ dense_1 (\u001b[38;5;33mDense\u001b[0m)                      │ (\u001b[38;5;45mNone\u001b[0m, \u001b[38;5;34m864\u001b[0m)                 │          \u001b[38;5;34m56,160\u001b[0m │\n",
              "└──────────────────────────────────────┴─────────────────────────────┴─────────────────┘\n"
            ],
            "text/html": [
              "<pre style=\"white-space:pre;overflow-x:auto;line-height:normal;font-family:Menlo,'DejaVu Sans Mono',consolas,'Courier New',monospace\">┏━━━━━━━━━━━━━━━━━━━━━━━━━━━━━━━━━━━━━━┳━━━━━━━━━━━━━━━━━━━━━━━━━━━━━┳━━━━━━━━━━━━━━━━━┓\n",
              "┃<span style=\"font-weight: bold\"> Layer (type)                         </span>┃<span style=\"font-weight: bold\"> Output Shape                </span>┃<span style=\"font-weight: bold\">         Param # </span>┃\n",
              "┡━━━━━━━━━━━━━━━━━━━━━━━━━━━━━━━━━━━━━━╇━━━━━━━━━━━━━━━━━━━━━━━━━━━━━╇━━━━━━━━━━━━━━━━━┩\n",
              "│ embedding (<span style=\"color: #0087ff; text-decoration-color: #0087ff\">Embedding</span>)                │ (<span style=\"color: #00d7ff; text-decoration-color: #00d7ff\">None</span>, <span style=\"color: #00af00; text-decoration-color: #00af00\">100</span>, <span style=\"color: #00af00; text-decoration-color: #00af00\">128</span>)            │       <span style=\"color: #00af00; text-decoration-color: #00af00\">2,898,944</span> │\n",
              "├──────────────────────────────────────┼─────────────────────────────┼─────────────────┤\n",
              "│ lstm (<span style=\"color: #0087ff; text-decoration-color: #0087ff\">LSTM</span>)                          │ (<span style=\"color: #00d7ff; text-decoration-color: #00d7ff\">None</span>, <span style=\"color: #00af00; text-decoration-color: #00af00\">128</span>)                 │         <span style=\"color: #00af00; text-decoration-color: #00af00\">131,584</span> │\n",
              "├──────────────────────────────────────┼─────────────────────────────┼─────────────────┤\n",
              "│ dense (<span style=\"color: #0087ff; text-decoration-color: #0087ff\">Dense</span>)                        │ (<span style=\"color: #00d7ff; text-decoration-color: #00d7ff\">None</span>, <span style=\"color: #00af00; text-decoration-color: #00af00\">64</span>)                  │           <span style=\"color: #00af00; text-decoration-color: #00af00\">8,256</span> │\n",
              "├──────────────────────────────────────┼─────────────────────────────┼─────────────────┤\n",
              "│ dense_1 (<span style=\"color: #0087ff; text-decoration-color: #0087ff\">Dense</span>)                      │ (<span style=\"color: #00d7ff; text-decoration-color: #00d7ff\">None</span>, <span style=\"color: #00af00; text-decoration-color: #00af00\">864</span>)                 │          <span style=\"color: #00af00; text-decoration-color: #00af00\">56,160</span> │\n",
              "└──────────────────────────────────────┴─────────────────────────────┴─────────────────┘\n",
              "</pre>\n"
            ]
          },
          "metadata": {}
        },
        {
          "output_type": "display_data",
          "data": {
            "text/plain": [
              "\u001b[1m Total params: \u001b[0m\u001b[38;5;34m3,094,944\u001b[0m (11.81 MB)\n"
            ],
            "text/html": [
              "<pre style=\"white-space:pre;overflow-x:auto;line-height:normal;font-family:Menlo,'DejaVu Sans Mono',consolas,'Courier New',monospace\"><span style=\"font-weight: bold\"> Total params: </span><span style=\"color: #00af00; text-decoration-color: #00af00\">3,094,944</span> (11.81 MB)\n",
              "</pre>\n"
            ]
          },
          "metadata": {}
        },
        {
          "output_type": "display_data",
          "data": {
            "text/plain": [
              "\u001b[1m Trainable params: \u001b[0m\u001b[38;5;34m3,094,944\u001b[0m (11.81 MB)\n"
            ],
            "text/html": [
              "<pre style=\"white-space:pre;overflow-x:auto;line-height:normal;font-family:Menlo,'DejaVu Sans Mono',consolas,'Courier New',monospace\"><span style=\"font-weight: bold\"> Trainable params: </span><span style=\"color: #00af00; text-decoration-color: #00af00\">3,094,944</span> (11.81 MB)\n",
              "</pre>\n"
            ]
          },
          "metadata": {}
        },
        {
          "output_type": "display_data",
          "data": {
            "text/plain": [
              "\u001b[1m Non-trainable params: \u001b[0m\u001b[38;5;34m0\u001b[0m (0.00 B)\n"
            ],
            "text/html": [
              "<pre style=\"white-space:pre;overflow-x:auto;line-height:normal;font-family:Menlo,'DejaVu Sans Mono',consolas,'Courier New',monospace\"><span style=\"font-weight: bold\"> Non-trainable params: </span><span style=\"color: #00af00; text-decoration-color: #00af00\">0</span> (0.00 B)\n",
              "</pre>\n"
            ]
          },
          "metadata": {}
        }
      ]
    },
    {
      "cell_type": "code",
      "source": [
        "example_batch = train_proc_dataset.take(1)\n",
        "\n",
        "try:\n",
        "  model.evaluate(example_batch)\n",
        "except Exception as e:\n",
        "  print(f'error: {e}')\n",
        "else:\n",
        "  print('no error')"
      ],
      "metadata": {
        "colab": {
          "base_uri": "https://localhost:8080/"
        },
        "id": "ax0uLbLbyvQ2",
        "outputId": "62424099-c97b-4ec7-c3ee-4bb02fa39763"
      },
      "execution_count": null,
      "outputs": [
        {
          "output_type": "stream",
          "name": "stdout",
          "text": [
            "\u001b[1m1/1\u001b[0m \u001b[32m━━━━━━━━━━━━━━━━━━━━\u001b[0m\u001b[37m\u001b[0m \u001b[1m1s\u001b[0m 736ms/step - accuracy: 0.0000e+00 - loss: 6.7614\n",
            "no error\n"
          ]
        }
      ]
    },
    {
      "cell_type": "code",
      "source": [
        "history = model.fit(\n",
        "    train_proc_dataset,\n",
        "    validation_data=val_proc_dataset,\n",
        "    epochs=30,\n",
        ")"
      ],
      "metadata": {
        "colab": {
          "base_uri": "https://localhost:8080/"
        },
        "id": "blDxYgRSyxdM",
        "outputId": "b90d03d9-6af5-46e6-a313-8285ebd0d63a"
      },
      "execution_count": null,
      "outputs": [
        {
          "output_type": "stream",
          "name": "stdout",
          "text": [
            "Epoch 1/30\n",
            "\u001b[1m2770/2770\u001b[0m \u001b[32m━━━━━━━━━━━━━━━━━━━━\u001b[0m\u001b[37m\u001b[0m \u001b[1m103s\u001b[0m 36ms/step - accuracy: 0.0040 - loss: 6.7137 - val_accuracy: 0.0138 - val_loss: 6.0329\n",
            "Epoch 2/30\n",
            "\u001b[1m2770/2770\u001b[0m \u001b[32m━━━━━━━━━━━━━━━━━━━━\u001b[0m\u001b[37m\u001b[0m \u001b[1m94s\u001b[0m 34ms/step - accuracy: 0.0232 - loss: 5.7078 - val_accuracy: 0.1056 - val_loss: 4.6160\n",
            "Epoch 3/30\n",
            "\u001b[1m2770/2770\u001b[0m \u001b[32m━━━━━━━━━━━━━━━━━━━━\u001b[0m\u001b[37m\u001b[0m \u001b[1m97s\u001b[0m 35ms/step - accuracy: 0.1339 - loss: 4.3360 - val_accuracy: 0.2965 - val_loss: 3.3181\n",
            "Epoch 4/30\n",
            "\u001b[1m2770/2770\u001b[0m \u001b[32m━━━━━━━━━━━━━━━━━━━━\u001b[0m\u001b[37m\u001b[0m \u001b[1m141s\u001b[0m 35ms/step - accuracy: 0.3046 - loss: 3.1888 - val_accuracy: 0.4703 - val_loss: 2.4326\n",
            "Epoch 5/30\n",
            "\u001b[1m2770/2770\u001b[0m \u001b[32m━━━━━━━━━━━━━━━━━━━━\u001b[0m\u001b[37m\u001b[0m \u001b[1m142s\u001b[0m 35ms/step - accuracy: 0.4736 - loss: 2.3652 - val_accuracy: 0.5837 - val_loss: 1.8363\n",
            "Epoch 6/30\n",
            "\u001b[1m2770/2770\u001b[0m \u001b[32m━━━━━━━━━━━━━━━━━━━━\u001b[0m\u001b[37m\u001b[0m \u001b[1m98s\u001b[0m 35ms/step - accuracy: 0.5985 - loss: 1.7676 - val_accuracy: 0.6718 - val_loss: 1.4192\n",
            "Epoch 7/30\n",
            "\u001b[1m2770/2770\u001b[0m \u001b[32m━━━━━━━━━━━━━━━━━━━━\u001b[0m\u001b[37m\u001b[0m \u001b[1m140s\u001b[0m 34ms/step - accuracy: 0.6985 - loss: 1.3341 - val_accuracy: 0.7031 - val_loss: 1.1533\n",
            "Epoch 8/30\n",
            "\u001b[1m2770/2770\u001b[0m \u001b[32m━━━━━━━━━━━━━━━━━━━━\u001b[0m\u001b[37m\u001b[0m \u001b[1m98s\u001b[0m 35ms/step - accuracy: 0.7670 - loss: 1.0126 - val_accuracy: 0.7555 - val_loss: 0.9483\n",
            "Epoch 9/30\n",
            "\u001b[1m2770/2770\u001b[0m \u001b[32m━━━━━━━━━━━━━━━━━━━━\u001b[0m\u001b[37m\u001b[0m \u001b[1m95s\u001b[0m 34ms/step - accuracy: 0.8274 - loss: 0.7733 - val_accuracy: 0.7880 - val_loss: 0.8121\n",
            "Epoch 10/30\n",
            "\u001b[1m2770/2770\u001b[0m \u001b[32m━━━━━━━━━━━━━━━━━━━━\u001b[0m\u001b[37m\u001b[0m \u001b[1m97s\u001b[0m 35ms/step - accuracy: 0.8696 - loss: 0.5947 - val_accuracy: 0.8136 - val_loss: 0.7103\n",
            "Epoch 11/30\n",
            "\u001b[1m2770/2770\u001b[0m \u001b[32m━━━━━━━━━━━━━━━━━━━━\u001b[0m\u001b[37m\u001b[0m \u001b[1m142s\u001b[0m 35ms/step - accuracy: 0.9059 - loss: 0.4554 - val_accuracy: 0.8253 - val_loss: 0.6417\n",
            "Epoch 12/30\n",
            "\u001b[1m2770/2770\u001b[0m \u001b[32m━━━━━━━━━━━━━━━━━━━━\u001b[0m\u001b[37m\u001b[0m \u001b[1m138s\u001b[0m 34ms/step - accuracy: 0.9268 - loss: 0.3531 - val_accuracy: 0.8440 - val_loss: 0.5816\n",
            "Epoch 13/30\n",
            "\u001b[1m2770/2770\u001b[0m \u001b[32m━━━━━━━━━━━━━━━━━━━━\u001b[0m\u001b[37m\u001b[0m \u001b[1m97s\u001b[0m 35ms/step - accuracy: 0.9421 - loss: 0.2833 - val_accuracy: 0.8465 - val_loss: 0.5626\n",
            "Epoch 14/30\n",
            "\u001b[1m2770/2770\u001b[0m \u001b[32m━━━━━━━━━━━━━━━━━━━━\u001b[0m\u001b[37m\u001b[0m \u001b[1m142s\u001b[0m 35ms/step - accuracy: 0.9572 - loss: 0.2160 - val_accuracy: 0.8595 - val_loss: 0.5208\n",
            "Epoch 15/30\n",
            "\u001b[1m2770/2770\u001b[0m \u001b[32m━━━━━━━━━━━━━━━━━━━━\u001b[0m\u001b[37m\u001b[0m \u001b[1m96s\u001b[0m 35ms/step - accuracy: 0.9674 - loss: 0.1711 - val_accuracy: 0.8696 - val_loss: 0.4961\n",
            "Epoch 16/30\n",
            "\u001b[1m2770/2770\u001b[0m \u001b[32m━━━━━━━━━━━━━━━━━━━━\u001b[0m\u001b[37m\u001b[0m \u001b[1m144s\u001b[0m 35ms/step - accuracy: 0.9752 - loss: 0.1365 - val_accuracy: 0.8733 - val_loss: 0.4861\n",
            "Epoch 17/30\n",
            "\u001b[1m2770/2770\u001b[0m \u001b[32m━━━━━━━━━━━━━━━━━━━━\u001b[0m\u001b[37m\u001b[0m \u001b[1m95s\u001b[0m 34ms/step - accuracy: 0.9801 - loss: 0.1099 - val_accuracy: 0.8761 - val_loss: 0.4728\n",
            "Epoch 18/30\n",
            "\u001b[1m2770/2770\u001b[0m \u001b[32m━━━━━━━━━━━━━━━━━━━━\u001b[0m\u001b[37m\u001b[0m \u001b[1m99s\u001b[0m 36ms/step - accuracy: 0.9844 - loss: 0.0889 - val_accuracy: 0.8786 - val_loss: 0.4813\n",
            "Epoch 19/30\n",
            "\u001b[1m2770/2770\u001b[0m \u001b[32m━━━━━━━━━━━━━━━━━━━━\u001b[0m\u001b[37m\u001b[0m \u001b[1m96s\u001b[0m 35ms/step - accuracy: 0.9872 - loss: 0.0726 - val_accuracy: 0.8664 - val_loss: 0.5040\n",
            "Epoch 20/30\n",
            "\u001b[1m2770/2770\u001b[0m \u001b[32m━━━━━━━━━━━━━━━━━━━━\u001b[0m\u001b[37m\u001b[0m \u001b[1m95s\u001b[0m 34ms/step - accuracy: 0.9898 - loss: 0.0599 - val_accuracy: 0.8794 - val_loss: 0.4696\n",
            "Epoch 21/30\n",
            "\u001b[1m2770/2770\u001b[0m \u001b[32m━━━━━━━━━━━━━━━━━━━━\u001b[0m\u001b[37m\u001b[0m \u001b[1m95s\u001b[0m 34ms/step - accuracy: 0.9918 - loss: 0.0503 - val_accuracy: 0.8826 - val_loss: 0.4568\n",
            "Epoch 22/30\n",
            "\u001b[1m2770/2770\u001b[0m \u001b[32m━━━━━━━━━━━━━━━━━━━━\u001b[0m\u001b[37m\u001b[0m \u001b[1m99s\u001b[0m 36ms/step - accuracy: 0.9938 - loss: 0.0388 - val_accuracy: 0.8867 - val_loss: 0.4690\n",
            "Epoch 23/30\n",
            "\u001b[1m2770/2770\u001b[0m \u001b[32m━━━━━━━━━━━━━━━━━━━━\u001b[0m\u001b[37m\u001b[0m \u001b[1m97s\u001b[0m 35ms/step - accuracy: 0.9935 - loss: 0.0367 - val_accuracy: 0.8786 - val_loss: 0.4753\n",
            "Epoch 24/30\n",
            "\u001b[1m2770/2770\u001b[0m \u001b[32m━━━━━━━━━━━━━━━━━━━━\u001b[0m\u001b[37m\u001b[0m \u001b[1m98s\u001b[0m 35ms/step - accuracy: 0.9959 - loss: 0.0290 - val_accuracy: 0.8826 - val_loss: 0.4744\n",
            "Epoch 25/30\n",
            "\u001b[1m2770/2770\u001b[0m \u001b[32m━━━━━━━━━━━━━━━━━━━━\u001b[0m\u001b[37m\u001b[0m \u001b[1m97s\u001b[0m 35ms/step - accuracy: 0.9949 - loss: 0.0270 - val_accuracy: 0.8810 - val_loss: 0.4899\n",
            "Epoch 26/30\n",
            "\u001b[1m2770/2770\u001b[0m \u001b[32m━━━━━━━━━━━━━━━━━━━━\u001b[0m\u001b[37m\u001b[0m \u001b[1m139s\u001b[0m 34ms/step - accuracy: 0.9952 - loss: 0.0247 - val_accuracy: 0.8826 - val_loss: 0.4937\n",
            "Epoch 27/30\n",
            "\u001b[1m2770/2770\u001b[0m \u001b[32m━━━━━━━━━━━━━━━━━━━━\u001b[0m\u001b[37m\u001b[0m \u001b[1m96s\u001b[0m 35ms/step - accuracy: 0.9968 - loss: 0.0205 - val_accuracy: 0.8855 - val_loss: 0.4716\n",
            "Epoch 28/30\n",
            "\u001b[1m2770/2770\u001b[0m \u001b[32m━━━━━━━━━━━━━━━━━━━━\u001b[0m\u001b[37m\u001b[0m \u001b[1m96s\u001b[0m 35ms/step - accuracy: 0.9970 - loss: 0.0183 - val_accuracy: 0.8867 - val_loss: 0.4882\n",
            "Epoch 29/30\n",
            "\u001b[1m2770/2770\u001b[0m \u001b[32m━━━━━━━━━━━━━━━━━━━━\u001b[0m\u001b[37m\u001b[0m \u001b[1m97s\u001b[0m 35ms/step - accuracy: 0.9972 - loss: 0.0157 - val_accuracy: 0.8875 - val_loss: 0.4974\n",
            "Epoch 30/30\n",
            "\u001b[1m2770/2770\u001b[0m \u001b[32m━━━━━━━━━━━━━━━━━━━━\u001b[0m\u001b[37m\u001b[0m \u001b[1m97s\u001b[0m 35ms/step - accuracy: 0.9974 - loss: 0.0133 - val_accuracy: 0.8855 - val_loss: 0.5127\n"
          ]
        }
      ]
    },
    {
      "cell_type": "code",
      "source": [
        "import matplotlib.pyplot as plt\n",
        "\n",
        "def plot_graph(metric):\n",
        "  plt.plot(history.history[metric])\n",
        "  plt.plot(history.history[f'val_{metric}'])\n",
        "  plt.title(f'model {metric}')\n",
        "  plt.ylabel(metric)\n",
        "  plt.xlabel('epoch')\n",
        "  plt.legend([metric, f'val_{metric}'])\n",
        "  plt.show()\n",
        "\n",
        "plot_graph('accuracy')\n",
        "plot_graph('loss')"
      ],
      "metadata": {
        "id": "RswVsWvPy1Fd",
        "colab": {
          "base_uri": "https://localhost:8080/",
          "height": 927
        },
        "outputId": "3c75d034-1e1a-4ec4-965a-2f9447958a6c"
      },
      "execution_count": null,
      "outputs": [
        {
          "output_type": "display_data",
          "data": {
            "text/plain": [
              "<Figure size 640x480 with 1 Axes>"
            ],
            "image/png": "[encoded data removed]"
          },
          "metadata": {}
        },
        {
          "output_type": "display_data",
          "data": {
            "text/plain": [
              "<Figure size 640x480 with 1 Axes>"
            ],
            "image/png": "[encoded data removed]"
          },
          "metadata": {}
        }
      ]
    },
    {
      "cell_type": "code",
      "source": [
        "import numpy as np"
      ],
      "metadata": {
        "id": "WOadjeCXHu-j"
      },
      "execution_count": null,
      "outputs": []
    },
    {
      "cell_type": "markdown",
      "source": [
        "test the model"
      ],
      "metadata": {
        "id": "CWJLFSIqTw1Q"
      }
    },
    {
      "cell_type": "code",
      "source": [
        "test_text = 'mrie bskuit klpa'\n",
        "standardized_text = standardize_text(test_text)\n",
        "vectorized_text = vectorizer([standardized_text])\n",
        "\n",
        "prediction = model.predict(vectorized_text)\n",
        "# print(prediction)\n",
        "# print(f'predicted label: {encoder.get_vocabulary()[np.argmax(prediction)]}')\n",
        "\n",
        "# Mengambil tiga prediksi terbesar\n",
        "top_3_indices = np.argsort(prediction[0])[-5:][::-1]  # Urutkan dari yang terbesar\n",
        "top_3_predictions = [(encoder.get_vocabulary()[i], prediction[0][i]) for i in top_3_indices]\n",
        "\n",
        "# Menampilkan hasil\n",
        "print(\"Top 3 predictions:\")\n",
        "for label, prob in top_3_predictions:\n",
        "    print(f\"Label: {label}, Probability: {prob:.4f}\")\n",
        "    if prob > 0.8:\n",
        "      print('-' * 10)"
      ],
      "metadata": {
        "id": "i9gaLynxzN8X",
        "colab": {
          "base_uri": "https://localhost:8080/"
        },
        "outputId": "d779bf22-4de9-4221-c842-6e0624c3c73a"
      },
      "execution_count": null,
      "outputs": [
        {
          "output_type": "stream",
          "name": "stdout",
          "text": [
            "\u001b[1m1/1\u001b[0m \u001b[32m━━━━━━━━━━━━━━━━━━━━\u001b[0m\u001b[37m\u001b[0m \u001b[1m0s\u001b[0m 25ms/step\n",
            "Top 3 predictions:\n",
            "Label: roma biscuit kelapa, Probability: 0.8159\n",
            "----------\n",
            "Label: khong guan biscuit mini assorted, Probability: 0.0424\n",
            "Label: khong guan biscuit red assorted, Probability: 0.0391\n",
            "Label: mamasuka rumput laut panggang nori, Probability: 0.0151\n",
            "Label: unibis biscuit coco puff, Probability: 0.0140\n"
          ]
        }
      ]
    },
    {
      "cell_type": "code",
      "source": [],
      "metadata": {
        "id": "amjFlXvOzWmW"
      },
      "execution_count": null,
      "outputs": []
    }
  ]
}