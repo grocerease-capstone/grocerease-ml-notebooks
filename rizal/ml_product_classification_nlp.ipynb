{
  "nbformat": 4,
  "nbformat_minor": 0,
  "metadata": {
    "colab": {
      "provenance": []
    },
    "kernelspec": {
      "name": "python3",
      "display_name": "Python 3"
    },
    "language_info": {
      "name": "python"
    }
  },
  "cells": [
    {
      "cell_type": "code",
      "execution_count": 3,
      "metadata": {
        "id": "RyxsQk605C8Q"
      },
      "outputs": [],
      "source": [
        "import csv\n",
        "import pandas as pd\n",
        "import numpy as np\n",
        "import tensorflow as tf\n",
        "import os\n",
        "import matplotlib.pyplot as plt\n",
        "import sys"
      ]
    },
    {
      "cell_type": "code",
      "source": [
        "print(f\"Python version: {sys.version}\")\n",
        "print(f\"Python version info: {sys.version_info}\")"
      ],
      "metadata": {
        "colab": {
          "base_uri": "https://localhost:8080/"
        },
        "id": "Z1WiPCW3I-Kp",
        "outputId": "1b76a3bb-0d00-4a53-f8eb-7a05fc2be131"
      },
      "execution_count": 4,
      "outputs": [
        {
          "output_type": "stream",
          "name": "stdout",
          "text": [
            "Python version: 3.10.12 (main, Nov  6 2024, 20:22:13) [GCC 11.4.0]\n",
            "Python version info: sys.version_info(major=3, minor=10, micro=12, releaselevel='final', serial=0)\n"
          ]
        }
      ]
    },
    {
      "cell_type": "code",
      "source": [
        "def parse_data_from_file():\n",
        "  product_names = []\n",
        "  labels = []\n",
        "\n",
        "  with open('shuffled_data.csv', mode='r') as file:\n",
        "    reader = csv.reader(file)\n",
        "    next(reader)\n",
        "\n",
        "    for row in reader:\n",
        "      product_names.append(row[0])\n",
        "      labels.append(row[1])\n",
        "\n",
        "  return product_names, labels"
      ],
      "metadata": {
        "id": "UcAsRS6pJDRz"
      },
      "execution_count": 5,
      "outputs": []
    },
    {
      "cell_type": "code",
      "source": [
        "product_names, labels = parse_data_from_file()\n",
        "\n",
        "print(f'length of product names: {len(product_names)}')\n",
        "print(f'first product name: {product_names[0]}')\n",
        "print(f'first product name has {len(product_names[0].split())} words')\n",
        "print(f'length of labels: {len(labels)}')\n",
        "print(f'daftar labels adalah {list(set(labels))}')"
      ],
      "metadata": {
        "colab": {
          "base_uri": "https://localhost:8080/"
        },
        "id": "3l0v_aV5JiZo",
        "outputId": "68ddc153-51ba-4a05-abea-191cc396a5e8"
      },
      "execution_count": 6,
      "outputs": [
        {
          "output_type": "stream",
          "name": "stdout",
          "text": [
            "length of product names: 6482\n",
            "first product name: Pantene Conditioner Tanpa Bilas Perfect On 40Ml\n",
            "first product name has 7 words\n",
            "length of labels: 6482\n",
            "daftar labels adalah ['home-living', 'minuman', 'product-segar', 'kecantikan', 'kesehatan', 'makanan']\n"
          ]
        }
      ]
    },
    {
      "cell_type": "code",
      "source": [
        "def train_val_datasets():\n",
        "  train_size = int(len(product_names) * 0.9)\n",
        "\n",
        "  train_product_names = product_names[:train_size]\n",
        "  train_labels = labels[:train_size]\n",
        "\n",
        "  val_product_names = product_names[train_size:]\n",
        "  val_labels = labels[train_size:]\n",
        "\n",
        "  train_dataset = tf.data.Dataset.from_tensor_slices((train_product_names, train_labels))\n",
        "  val_dataset = tf.data.Dataset.from_tensor_slices((val_product_names, val_labels))\n",
        "\n",
        "  return train_dataset, val_dataset"
      ],
      "metadata": {
        "id": "lmQk4i-MJosI"
      },
      "execution_count": 7,
      "outputs": []
    },
    {
      "cell_type": "code",
      "source": [
        "train_dataset, validation_dataset = train_val_datasets()\n",
        "\n",
        "print(f\"there are {train_dataset.cardinality()} product name - label pairs for training.\\n\")\n",
        "print(f\"there are {validation_dataset.cardinality()} product name - label pairs for validation.\\n\")"
      ],
      "metadata": {
        "colab": {
          "base_uri": "https://localhost:8080/"
        },
        "id": "aBaFW_LtJ4um",
        "outputId": "b3abb29d-def3-4df4-e33b-f9a2b0e63134"
      },
      "execution_count": 8,
      "outputs": [
        {
          "output_type": "stream",
          "name": "stdout",
          "text": [
            "there are 5833 product name - label pairs for training.\n",
            "\n",
            "there are 649 product name - label pairs for validation.\n",
            "\n"
          ]
        }
      ]
    },
    {
      "cell_type": "code",
      "source": [
        "def standardize_product_name(product_name):\n",
        "  product_name = tf.strings.lower(product_name)\n",
        "  product_name = tf.strings.regex_replace(\n",
        "      product_name, r\"\\b\\d+(\\.\\d+)?x\\d+(\\.\\d+)?(g|ml|kg|lt)\\b\", \"\"\n",
        "  )\n",
        "  product_name = tf.strings.regex_replace(\n",
        "      product_name, r\"\\b\\d+(\\.\\d+)?(g|ml|kg|lt)\\b\", \"\"\n",
        "  )\n",
        "  product_name = tf.strings.regex_replace(product_name, r\"\\b\\d+(g|ml|kg|lt)\\b\", \"\")\n",
        "  product_name = tf.strings.regex_replace(product_name, r\"\\b\\d+\\'s\\b\", \"\")\n",
        "  product_name = tf.strings.regex_replace(product_name, r\"[^a-z\\s]\", \"\")\n",
        "  product_name = tf.strings.regex_replace(product_name, r'\\s{2,}', ' ')\n",
        "  product_name = tf.strings.strip(product_name)\n",
        "\n",
        "  return product_name"
      ],
      "metadata": {
        "id": "OBkhFU_rKAOe"
      },
      "execution_count": 14,
      "outputs": []
    },
    {
      "cell_type": "code",
      "source": [
        "import random\n",
        "\n",
        "random_product_names = random.sample(product_names, 10)\n",
        "for random_product_name in random_product_names:\n",
        "  standardized_product_name = standardize_product_name(random_product_name)\n",
        "\n",
        "  print(f'product name: {random_product_name}')\n",
        "  print(f'standardized product name: {standardized_product_name}\\n')"
      ],
      "metadata": {
        "colab": {
          "base_uri": "https://localhost:8080/"
        },
        "id": "yHf5odV-KSqa",
        "outputId": "64bbd4c1-ce8a-4f47-855f-be7c04bdecd4"
      },
      "execution_count": 16,
      "outputs": [
        {
          "output_type": "stream",
          "name": "stdout",
          "text": [
            "product name: Blue Diamond Almond Milk Original 180Ml\n",
            "standardized product name: b'blue diamond almond milk original'\n",
            "\n",
            "product name: Obh Combi Obat Batuk Berdahak Menthol 100Ml\n",
            "standardized product name: b'obh combi obat batuk berdahak menthol'\n",
            "\n",
            "product name: Elise Eyelash Adhesive 0.7mL\n",
            "standardized product name: b'elise eyelash adhesive'\n",
            "\n",
            "product name: Pringles Potato Crisps Saucy Bbq 102G\n",
            "standardized product name: b'pringles potato crisps saucy bbq'\n",
            "\n",
            "product name: Barco Minyak Goreng Refill 1000Ml\n",
            "standardized product name: b'barco minyak goreng refill'\n",
            "\n",
            "product name: Kenmaster Safety Regulator + Meter Km-911\n",
            "standardized product name: b'kenmaster safety regulator meter km'\n",
            "\n",
            "product name: Kin Yogurt Drink Blueberry 200Ml\n",
            "standardized product name: b'kin yogurt drink blueberry'\n",
            "\n",
            "product name: Diabetasol Zero Calorie Sweetener 50'S 50X1g\n",
            "standardized product name: b'diabetasol zero calorie sweetener'\n",
            "\n",
            "product name: Samyang Mie Instant Goreng Pedas Jjajang 105G\n",
            "standardized product name: b'samyang mie instant goreng pedas jjajang'\n",
            "\n",
            "product name: Shinzu'i Sabun Mandi Skin Whitening Matsu 80G\n",
            "standardized product name: b'shinzui sabun mandi skin whitening matsu'\n",
            "\n"
          ]
        }
      ]
    },
    {
      "cell_type": "code",
      "source": [
        "VOCAB_SIZE = 5000\n",
        "EMBEDDING_DIM = 16\n",
        "MAX_LENGTH = 120"
      ],
      "metadata": {
        "id": "FPtXThypMgqg"
      },
      "execution_count": 22,
      "outputs": []
    },
    {
      "cell_type": "code",
      "source": [
        "def fit_vectorizer(product_names):\n",
        "  vectorizer = tf.keras.layers.TextVectorization(\n",
        "      standardize=standardize_product_name,\n",
        "      output_sequence_length=MAX_LENGTH,\n",
        "      max_tokens=VOCAB_SIZE,\n",
        "  )\n",
        "  vectorizer.adapt(product_names)\n",
        "\n",
        "  return vectorizer"
      ],
      "metadata": {
        "id": "emV3g8esKTso"
      },
      "execution_count": 23,
      "outputs": []
    },
    {
      "cell_type": "code",
      "source": [
        "vectorizer = fit_vectorizer(train_dataset.map(lambda product_name, label: product_name))\n",
        "vocab_size = vectorizer.vocabulary_size()\n",
        "\n",
        "print(f\"vocabulary contains {vocab_size} words\\n\")"
      ],
      "metadata": {
        "colab": {
          "base_uri": "https://localhost:8080/"
        },
        "id": "aBS5j1xsL2MK",
        "outputId": "9e0fc189-e6ca-436c-eec8-c0f49d6b8d81"
      },
      "execution_count": 24,
      "outputs": [
        {
          "output_type": "stream",
          "name": "stdout",
          "text": [
            "vocabulary contains 4339 words\n",
            "\n"
          ]
        }
      ]
    },
    {
      "cell_type": "code",
      "source": [
        "def fit_encoder():\n",
        "  train_labels = train_dataset.map(lambda product_name, label: label)\n",
        "  validation_labels = validation_dataset.map(lambda product_name, label: label)\n",
        "  labels = train_labels.concatenate(validation_labels)\n",
        "\n",
        "  encoder = tf.keras.layers.StringLookup(\n",
        "      # oov_token='<UNK>',\n",
        "      num_oov_indices=0,\n",
        "  )\n",
        "  encoder.adapt(labels)\n",
        "\n",
        "  return encoder"
      ],
      "metadata": {
        "id": "rhh7hZmtMB5j"
      },
      "execution_count": 39,
      "outputs": []
    },
    {
      "cell_type": "code",
      "source": [
        "encoder = fit_encoder()\n",
        "\n",
        "print(f'unique labels: {encoder.get_vocabulary()}')"
      ],
      "metadata": {
        "colab": {
          "base_uri": "https://localhost:8080/"
        },
        "id": "3pzupWfcNEzI",
        "outputId": "48a1ab81-5321-40ee-ec08-43c3f86b02d0"
      },
      "execution_count": 40,
      "outputs": [
        {
          "output_type": "stream",
          "name": "stdout",
          "text": [
            "unique labels: ['makanan', 'kecantikan', 'home-living', 'minuman', 'product-segar', 'kesehatan']\n"
          ]
        }
      ]
    },
    {
      "cell_type": "code",
      "source": [
        "def preprocess_dataset(dataset, vectorizer, encoder):\n",
        "  dataset = dataset.map(lambda product_name, label: (vectorizer(product_name), encoder(label)))\n",
        "  dataset = dataset.batch(32)\n",
        "\n",
        "  return dataset"
      ],
      "metadata": {
        "id": "YPHMk1ONNPWN"
      },
      "execution_count": 41,
      "outputs": []
    },
    {
      "cell_type": "code",
      "source": [
        "train_proc_dataset = preprocess_dataset(train_dataset, vectorizer, encoder)\n",
        "validation_proc_dataset = preprocess_dataset(validation_dataset, vectorizer, encoder)\n",
        "\n",
        "print(f\"number of batches in the train dataset: {train_proc_dataset.cardinality()}\")\n",
        "print(f\"number of batches in the validation dataset: {validation_proc_dataset.cardinality()}\")"
      ],
      "metadata": {
        "colab": {
          "base_uri": "https://localhost:8080/"
        },
        "id": "N2hXvsVeNveJ",
        "outputId": "49d1c476-fd13-43bf-f915-bfd22d0272e1"
      },
      "execution_count": 42,
      "outputs": [
        {
          "output_type": "stream",
          "name": "stdout",
          "text": [
            "number of batches in the train dataset: 183\n",
            "number of batches in the validation dataset: 21\n"
          ]
        }
      ]
    },
    {
      "cell_type": "code",
      "source": [
        "train_batch = next(train_proc_dataset.as_numpy_iterator())\n",
        "validation_batch = next(validation_proc_dataset.as_numpy_iterator())\n",
        "\n",
        "print(f\"shape of the train batch: {train_batch[0].shape}\")\n",
        "print(f\"shape of the validation batch: {validation_batch[0].shape}\")"
      ],
      "metadata": {
        "colab": {
          "base_uri": "https://localhost:8080/"
        },
        "id": "rHDGC3RUN0oW",
        "outputId": "d6633f9c-aed3-4cec-e182-3f942defb122"
      },
      "execution_count": 43,
      "outputs": [
        {
          "output_type": "stream",
          "name": "stdout",
          "text": [
            "shape of the train batch: (32, 120)\n",
            "shape of the validation batch: (32, 120)\n"
          ]
        }
      ]
    },
    {
      "cell_type": "code",
      "source": [
        "def create_model():\n",
        "  model = tf.keras.Sequential([\n",
        "    tf.keras.Input(shape=(MAX_LENGTH,)),\n",
        "    tf.keras.layers.Embedding(\n",
        "        input_dim=VOCAB_SIZE,\n",
        "        output_dim=EMBEDDING_DIM,\n",
        "        mask_zero=True,\n",
        "    ),\n",
        "    tf.keras.layers.GlobalAveragePooling1D(),\n",
        "    tf.keras.layers.Dense(64, activation='relu'),\n",
        "    tf.keras.layers.Dense(6, activation='softmax')\n",
        "  ])\n",
        "\n",
        "  model.compile(\n",
        "    loss='sparse_categorical_crossentropy',\n",
        "    optimizer='adam',\n",
        "    metrics=['accuracy']\n",
        "  )\n",
        "\n",
        "  return model"
      ],
      "metadata": {
        "id": "jqKvGvAQN4Ny"
      },
      "execution_count": 47,
      "outputs": []
    },
    {
      "cell_type": "code",
      "source": [
        "model = create_model()\n",
        "model.summary()"
      ],
      "metadata": {
        "colab": {
          "base_uri": "https://localhost:8080/",
          "height": 273
        },
        "id": "Sh9kiB4WOBxk",
        "outputId": "93104fce-a2db-4ec4-9ae5-4664044466e0"
      },
      "execution_count": 48,
      "outputs": [
        {
          "output_type": "display_data",
          "data": {
            "text/plain": [
              "\u001b[1mModel: \"sequential_4\"\u001b[0m\n"
            ],
            "text/html": [
              "<pre style=\"white-space:pre;overflow-x:auto;line-height:normal;font-family:Menlo,'DejaVu Sans Mono',consolas,'Courier New',monospace\"><span style=\"font-weight: bold\">Model: \"sequential_4\"</span>\n",
              "</pre>\n"
            ]
          },
          "metadata": {}
        },
        {
          "output_type": "display_data",
          "data": {
            "text/plain": [
              "┏━━━━━━━━━━━━━━━━━━━━━━━━━━━━━━━━━━━━━━┳━━━━━━━━━━━━━━━━━━━━━━━━━━━━━┳━━━━━━━━━━━━━━━━━┓\n",
              "┃\u001b[1m \u001b[0m\u001b[1mLayer (type)                        \u001b[0m\u001b[1m \u001b[0m┃\u001b[1m \u001b[0m\u001b[1mOutput Shape               \u001b[0m\u001b[1m \u001b[0m┃\u001b[1m \u001b[0m\u001b[1m        Param #\u001b[0m\u001b[1m \u001b[0m┃\n",
              "┡━━━━━━━━━━━━━━━━━━━━━━━━━━━━━━━━━━━━━━╇━━━━━━━━━━━━━━━━━━━━━━━━━━━━━╇━━━━━━━━━━━━━━━━━┩\n",
              "│ embedding_4 (\u001b[38;5;33mEmbedding\u001b[0m)              │ (\u001b[38;5;45mNone\u001b[0m, \u001b[38;5;34m120\u001b[0m, \u001b[38;5;34m16\u001b[0m)             │          \u001b[38;5;34m80,000\u001b[0m │\n",
              "├──────────────────────────────────────┼─────────────────────────────┼─────────────────┤\n",
              "│ global_average_pooling1d_4           │ (\u001b[38;5;45mNone\u001b[0m, \u001b[38;5;34m16\u001b[0m)                  │               \u001b[38;5;34m0\u001b[0m │\n",
              "│ (\u001b[38;5;33mGlobalAveragePooling1D\u001b[0m)             │                             │                 │\n",
              "├──────────────────────────────────────┼─────────────────────────────┼─────────────────┤\n",
              "│ dense_8 (\u001b[38;5;33mDense\u001b[0m)                      │ (\u001b[38;5;45mNone\u001b[0m, \u001b[38;5;34m64\u001b[0m)                  │           \u001b[38;5;34m1,088\u001b[0m │\n",
              "├──────────────────────────────────────┼─────────────────────────────┼─────────────────┤\n",
              "│ dense_9 (\u001b[38;5;33mDense\u001b[0m)                      │ (\u001b[38;5;45mNone\u001b[0m, \u001b[38;5;34m6\u001b[0m)                   │             \u001b[38;5;34m390\u001b[0m │\n",
              "└──────────────────────────────────────┴─────────────────────────────┴─────────────────┘\n"
            ],
            "text/html": [
              "<pre style=\"white-space:pre;overflow-x:auto;line-height:normal;font-family:Menlo,'DejaVu Sans Mono',consolas,'Courier New',monospace\">┏━━━━━━━━━━━━━━━━━━━━━━━━━━━━━━━━━━━━━━┳━━━━━━━━━━━━━━━━━━━━━━━━━━━━━┳━━━━━━━━━━━━━━━━━┓\n",
              "┃<span style=\"font-weight: bold\"> Layer (type)                         </span>┃<span style=\"font-weight: bold\"> Output Shape                </span>┃<span style=\"font-weight: bold\">         Param # </span>┃\n",
              "┡━━━━━━━━━━━━━━━━━━━━━━━━━━━━━━━━━━━━━━╇━━━━━━━━━━━━━━━━━━━━━━━━━━━━━╇━━━━━━━━━━━━━━━━━┩\n",
              "│ embedding_4 (<span style=\"color: #0087ff; text-decoration-color: #0087ff\">Embedding</span>)              │ (<span style=\"color: #00d7ff; text-decoration-color: #00d7ff\">None</span>, <span style=\"color: #00af00; text-decoration-color: #00af00\">120</span>, <span style=\"color: #00af00; text-decoration-color: #00af00\">16</span>)             │          <span style=\"color: #00af00; text-decoration-color: #00af00\">80,000</span> │\n",
              "├──────────────────────────────────────┼─────────────────────────────┼─────────────────┤\n",
              "│ global_average_pooling1d_4           │ (<span style=\"color: #00d7ff; text-decoration-color: #00d7ff\">None</span>, <span style=\"color: #00af00; text-decoration-color: #00af00\">16</span>)                  │               <span style=\"color: #00af00; text-decoration-color: #00af00\">0</span> │\n",
              "│ (<span style=\"color: #0087ff; text-decoration-color: #0087ff\">GlobalAveragePooling1D</span>)             │                             │                 │\n",
              "├──────────────────────────────────────┼─────────────────────────────┼─────────────────┤\n",
              "│ dense_8 (<span style=\"color: #0087ff; text-decoration-color: #0087ff\">Dense</span>)                      │ (<span style=\"color: #00d7ff; text-decoration-color: #00d7ff\">None</span>, <span style=\"color: #00af00; text-decoration-color: #00af00\">64</span>)                  │           <span style=\"color: #00af00; text-decoration-color: #00af00\">1,088</span> │\n",
              "├──────────────────────────────────────┼─────────────────────────────┼─────────────────┤\n",
              "│ dense_9 (<span style=\"color: #0087ff; text-decoration-color: #0087ff\">Dense</span>)                      │ (<span style=\"color: #00d7ff; text-decoration-color: #00d7ff\">None</span>, <span style=\"color: #00af00; text-decoration-color: #00af00\">6</span>)                   │             <span style=\"color: #00af00; text-decoration-color: #00af00\">390</span> │\n",
              "└──────────────────────────────────────┴─────────────────────────────┴─────────────────┘\n",
              "</pre>\n"
            ]
          },
          "metadata": {}
        },
        {
          "output_type": "display_data",
          "data": {
            "text/plain": [
              "\u001b[1m Total params: \u001b[0m\u001b[38;5;34m81,478\u001b[0m (318.27 KB)\n"
            ],
            "text/html": [
              "<pre style=\"white-space:pre;overflow-x:auto;line-height:normal;font-family:Menlo,'DejaVu Sans Mono',consolas,'Courier New',monospace\"><span style=\"font-weight: bold\"> Total params: </span><span style=\"color: #00af00; text-decoration-color: #00af00\">81,478</span> (318.27 KB)\n",
              "</pre>\n"
            ]
          },
          "metadata": {}
        },
        {
          "output_type": "display_data",
          "data": {
            "text/plain": [
              "\u001b[1m Trainable params: \u001b[0m\u001b[38;5;34m81,478\u001b[0m (318.27 KB)\n"
            ],
            "text/html": [
              "<pre style=\"white-space:pre;overflow-x:auto;line-height:normal;font-family:Menlo,'DejaVu Sans Mono',consolas,'Courier New',monospace\"><span style=\"font-weight: bold\"> Trainable params: </span><span style=\"color: #00af00; text-decoration-color: #00af00\">81,478</span> (318.27 KB)\n",
              "</pre>\n"
            ]
          },
          "metadata": {}
        },
        {
          "output_type": "display_data",
          "data": {
            "text/plain": [
              "\u001b[1m Non-trainable params: \u001b[0m\u001b[38;5;34m0\u001b[0m (0.00 B)\n"
            ],
            "text/html": [
              "<pre style=\"white-space:pre;overflow-x:auto;line-height:normal;font-family:Menlo,'DejaVu Sans Mono',consolas,'Courier New',monospace\"><span style=\"font-weight: bold\"> Non-trainable params: </span><span style=\"color: #00af00; text-decoration-color: #00af00\">0</span> (0.00 B)\n",
              "</pre>\n"
            ]
          },
          "metadata": {}
        }
      ]
    },
    {
      "cell_type": "code",
      "source": [
        "example_batch = train_proc_dataset.take(1)\n",
        "\n",
        "try:\n",
        "  model.evaluate(example_batch, verbose=False)\n",
        "except:\n",
        "\tprint(\"your model is not compatible with the dataset you defined earlier. check that the loss function and last layer are compatible with one another.\")\n",
        "else:\n",
        "\tpredictions = model.predict(example_batch, verbose=False)\n",
        "\tprint(f\"predictions have shape: {predictions.shape}\")"
      ],
      "metadata": {
        "colab": {
          "base_uri": "https://localhost:8080/"
        },
        "id": "pm7CEkxXODSu",
        "outputId": "5111fa97-2f40-4c1e-cf77-aa1782df7723"
      },
      "execution_count": 49,
      "outputs": [
        {
          "output_type": "stream",
          "name": "stdout",
          "text": [
            "predictions have shape: (32, 6)\n"
          ]
        }
      ]
    },
    {
      "cell_type": "code",
      "source": [
        "history = model.fit(\n",
        "    train_proc_dataset,\n",
        "    epochs=50,\n",
        "    validation_data=validation_proc_dataset,\n",
        ")"
      ],
      "metadata": {
        "colab": {
          "base_uri": "https://localhost:8080/"
        },
        "id": "A0c9bJiFOKiv",
        "outputId": "b4ef217b-b886-41df-b4d2-2468b7a4e49b"
      },
      "execution_count": 50,
      "outputs": [
        {
          "output_type": "stream",
          "name": "stdout",
          "text": [
            "Epoch 1/50\n",
            "\u001b[1m183/183\u001b[0m \u001b[32m━━━━━━━━━━━━━━━━━━━━\u001b[0m\u001b[37m\u001b[0m \u001b[1m3s\u001b[0m 8ms/step - accuracy: 0.4690 - loss: 1.6430 - val_accuracy: 0.7011 - val_loss: 0.8120\n",
            "Epoch 2/50\n",
            "\u001b[1m183/183\u001b[0m \u001b[32m━━━━━━━━━━━━━━━━━━━━\u001b[0m\u001b[37m\u001b[0m \u001b[1m3s\u001b[0m 8ms/step - accuracy: 0.8156 - loss: 0.6294 - val_accuracy: 0.9276 - val_loss: 0.2898\n",
            "Epoch 3/50\n",
            "\u001b[1m183/183\u001b[0m \u001b[32m━━━━━━━━━━━━━━━━━━━━\u001b[0m\u001b[37m\u001b[0m \u001b[1m3s\u001b[0m 12ms/step - accuracy: 0.9259 - loss: 0.2487 - val_accuracy: 0.9553 - val_loss: 0.1786\n",
            "Epoch 4/50\n",
            "\u001b[1m183/183\u001b[0m \u001b[32m━━━━━━━━━━━━━━━━━━━━\u001b[0m\u001b[37m\u001b[0m \u001b[1m2s\u001b[0m 13ms/step - accuracy: 0.9597 - loss: 0.1406 - val_accuracy: 0.9615 - val_loss: 0.1343\n",
            "Epoch 5/50\n",
            "\u001b[1m183/183\u001b[0m \u001b[32m━━━━━━━━━━━━━━━━━━━━\u001b[0m\u001b[37m\u001b[0m \u001b[1m2s\u001b[0m 8ms/step - accuracy: 0.9689 - loss: 0.0909 - val_accuracy: 0.9615 - val_loss: 0.1164\n",
            "Epoch 6/50\n",
            "\u001b[1m183/183\u001b[0m \u001b[32m━━━━━━━━━━━━━━━━━━━━\u001b[0m\u001b[37m\u001b[0m \u001b[1m2s\u001b[0m 9ms/step - accuracy: 0.9711 - loss: 0.0694 - val_accuracy: 0.9584 - val_loss: 0.1094\n",
            "Epoch 7/50\n",
            "\u001b[1m183/183\u001b[0m \u001b[32m━━━━━━━━━━━━━━━━━━━━\u001b[0m\u001b[37m\u001b[0m \u001b[1m3s\u001b[0m 9ms/step - accuracy: 0.9719 - loss: 0.0591 - val_accuracy: 0.9599 - val_loss: 0.1069\n",
            "Epoch 8/50\n",
            "\u001b[1m183/183\u001b[0m \u001b[32m━━━━━━━━━━━━━━━━━━━━\u001b[0m\u001b[37m\u001b[0m \u001b[1m2s\u001b[0m 9ms/step - accuracy: 0.9712 - loss: 0.0537 - val_accuracy: 0.9599 - val_loss: 0.1067\n",
            "Epoch 9/50\n",
            "\u001b[1m183/183\u001b[0m \u001b[32m━━━━━━━━━━━━━━━━━━━━\u001b[0m\u001b[37m\u001b[0m \u001b[1m3s\u001b[0m 11ms/step - accuracy: 0.9713 - loss: 0.0506 - val_accuracy: 0.9584 - val_loss: 0.1075\n",
            "Epoch 10/50\n",
            "\u001b[1m183/183\u001b[0m \u001b[32m━━━━━━━━━━━━━━━━━━━━\u001b[0m\u001b[37m\u001b[0m \u001b[1m3s\u001b[0m 14ms/step - accuracy: 0.9720 - loss: 0.0485 - val_accuracy: 0.9553 - val_loss: 0.1091\n",
            "Epoch 11/50\n",
            "\u001b[1m183/183\u001b[0m \u001b[32m━━━━━━━━━━━━━━━━━━━━\u001b[0m\u001b[37m\u001b[0m \u001b[1m2s\u001b[0m 9ms/step - accuracy: 0.9713 - loss: 0.0471 - val_accuracy: 0.9553 - val_loss: 0.1113\n",
            "Epoch 12/50\n",
            "\u001b[1m183/183\u001b[0m \u001b[32m━━━━━━━━━━━━━━━━━━━━\u001b[0m\u001b[37m\u001b[0m \u001b[1m3s\u001b[0m 9ms/step - accuracy: 0.9708 - loss: 0.0460 - val_accuracy: 0.9553 - val_loss: 0.1135\n",
            "Epoch 13/50\n",
            "\u001b[1m183/183\u001b[0m \u001b[32m━━━━━━━━━━━━━━━━━━━━\u001b[0m\u001b[37m\u001b[0m \u001b[1m2s\u001b[0m 9ms/step - accuracy: 0.9708 - loss: 0.0452 - val_accuracy: 0.9553 - val_loss: 0.1158\n",
            "Epoch 14/50\n",
            "\u001b[1m183/183\u001b[0m \u001b[32m━━━━━━━━━━━━━━━━━━━━\u001b[0m\u001b[37m\u001b[0m \u001b[1m2s\u001b[0m 9ms/step - accuracy: 0.9708 - loss: 0.0445 - val_accuracy: 0.9553 - val_loss: 0.1183\n",
            "Epoch 15/50\n",
            "\u001b[1m183/183\u001b[0m \u001b[32m━━━━━━━━━━━━━━━━━━━━\u001b[0m\u001b[37m\u001b[0m \u001b[1m3s\u001b[0m 10ms/step - accuracy: 0.9700 - loss: 0.0440 - val_accuracy: 0.9553 - val_loss: 0.1204\n",
            "Epoch 16/50\n",
            "\u001b[1m183/183\u001b[0m \u001b[32m━━━━━━━━━━━━━━━━━━━━\u001b[0m\u001b[37m\u001b[0m \u001b[1m3s\u001b[0m 12ms/step - accuracy: 0.9692 - loss: 0.0436 - val_accuracy: 0.9538 - val_loss: 0.1228\n",
            "Epoch 17/50\n",
            "\u001b[1m183/183\u001b[0m \u001b[32m━━━━━━━━━━━━━━━━━━━━\u001b[0m\u001b[37m\u001b[0m \u001b[1m2s\u001b[0m 9ms/step - accuracy: 0.9682 - loss: 0.0432 - val_accuracy: 0.9538 - val_loss: 0.1249\n",
            "Epoch 18/50\n",
            "\u001b[1m183/183\u001b[0m \u001b[32m━━━━━━━━━━━━━━━━━━━━\u001b[0m\u001b[37m\u001b[0m \u001b[1m3s\u001b[0m 9ms/step - accuracy: 0.9683 - loss: 0.0428 - val_accuracy: 0.9538 - val_loss: 0.1271\n",
            "Epoch 19/50\n",
            "\u001b[1m183/183\u001b[0m \u001b[32m━━━━━━━━━━━━━━━━━━━━\u001b[0m\u001b[37m\u001b[0m \u001b[1m2s\u001b[0m 10ms/step - accuracy: 0.9674 - loss: 0.0425 - val_accuracy: 0.9538 - val_loss: 0.1292\n",
            "Epoch 20/50\n",
            "\u001b[1m183/183\u001b[0m \u001b[32m━━━━━━━━━━━━━━━━━━━━\u001b[0m\u001b[37m\u001b[0m \u001b[1m3s\u001b[0m 10ms/step - accuracy: 0.9670 - loss: 0.0423 - val_accuracy: 0.9538 - val_loss: 0.1313\n",
            "Epoch 21/50\n",
            "\u001b[1m183/183\u001b[0m \u001b[32m━━━━━━━━━━━━━━━━━━━━\u001b[0m\u001b[37m\u001b[0m \u001b[1m3s\u001b[0m 13ms/step - accuracy: 0.9670 - loss: 0.0420 - val_accuracy: 0.9538 - val_loss: 0.1333\n",
            "Epoch 22/50\n",
            "\u001b[1m183/183\u001b[0m \u001b[32m━━━━━━━━━━━━━━━━━━━━\u001b[0m\u001b[37m\u001b[0m \u001b[1m2s\u001b[0m 11ms/step - accuracy: 0.9668 - loss: 0.0418 - val_accuracy: 0.9538 - val_loss: 0.1353\n",
            "Epoch 23/50\n",
            "\u001b[1m183/183\u001b[0m \u001b[32m━━━━━━━━━━━━━━━━━━━━\u001b[0m\u001b[37m\u001b[0m \u001b[1m2s\u001b[0m 10ms/step - accuracy: 0.9668 - loss: 0.0416 - val_accuracy: 0.9538 - val_loss: 0.1373\n",
            "Epoch 24/50\n",
            "\u001b[1m183/183\u001b[0m \u001b[32m━━━━━━━━━━━━━━━━━━━━\u001b[0m\u001b[37m\u001b[0m \u001b[1m2s\u001b[0m 9ms/step - accuracy: 0.9668 - loss: 0.0414 - val_accuracy: 0.9538 - val_loss: 0.1390\n",
            "Epoch 25/50\n",
            "\u001b[1m183/183\u001b[0m \u001b[32m━━━━━━━━━━━━━━━━━━━━\u001b[0m\u001b[37m\u001b[0m \u001b[1m3s\u001b[0m 9ms/step - accuracy: 0.9668 - loss: 0.0412 - val_accuracy: 0.9522 - val_loss: 0.1407\n",
            "Epoch 26/50\n",
            "\u001b[1m183/183\u001b[0m \u001b[32m━━━━━━━━━━━━━━━━━━━━\u001b[0m\u001b[37m\u001b[0m \u001b[1m3s\u001b[0m 11ms/step - accuracy: 0.9669 - loss: 0.0410 - val_accuracy: 0.9538 - val_loss: 0.1422\n",
            "Epoch 27/50\n",
            "\u001b[1m183/183\u001b[0m \u001b[32m━━━━━━━━━━━━━━━━━━━━\u001b[0m\u001b[37m\u001b[0m \u001b[1m3s\u001b[0m 16ms/step - accuracy: 0.9668 - loss: 0.0409 - val_accuracy: 0.9522 - val_loss: 0.1439\n",
            "Epoch 28/50\n",
            "\u001b[1m183/183\u001b[0m \u001b[32m━━━━━━━━━━━━━━━━━━━━\u001b[0m\u001b[37m\u001b[0m \u001b[1m4s\u001b[0m 12ms/step - accuracy: 0.9668 - loss: 0.0407 - val_accuracy: 0.9522 - val_loss: 0.1454\n",
            "Epoch 29/50\n",
            "\u001b[1m183/183\u001b[0m \u001b[32m━━━━━━━━━━━━━━━━━━━━\u001b[0m\u001b[37m\u001b[0m \u001b[1m2s\u001b[0m 9ms/step - accuracy: 0.9668 - loss: 0.0406 - val_accuracy: 0.9522 - val_loss: 0.1468\n",
            "Epoch 30/50\n",
            "\u001b[1m183/183\u001b[0m \u001b[32m━━━━━━━━━━━━━━━━━━━━\u001b[0m\u001b[37m\u001b[0m \u001b[1m2s\u001b[0m 9ms/step - accuracy: 0.9668 - loss: 0.0405 - val_accuracy: 0.9538 - val_loss: 0.1482\n",
            "Epoch 31/50\n",
            "\u001b[1m183/183\u001b[0m \u001b[32m━━━━━━━━━━━━━━━━━━━━\u001b[0m\u001b[37m\u001b[0m \u001b[1m2s\u001b[0m 12ms/step - accuracy: 0.9671 - loss: 0.0403 - val_accuracy: 0.9538 - val_loss: 0.1497\n",
            "Epoch 32/50\n",
            "\u001b[1m183/183\u001b[0m \u001b[32m━━━━━━━━━━━━━━━━━━━━\u001b[0m\u001b[37m\u001b[0m \u001b[1m2s\u001b[0m 11ms/step - accuracy: 0.9665 - loss: 0.0402 - val_accuracy: 0.9538 - val_loss: 0.1510\n",
            "Epoch 33/50\n",
            "\u001b[1m183/183\u001b[0m \u001b[32m━━━━━━━━━━━━━━━━━━━━\u001b[0m\u001b[37m\u001b[0m \u001b[1m2s\u001b[0m 10ms/step - accuracy: 0.9665 - loss: 0.0401 - val_accuracy: 0.9522 - val_loss: 0.1524\n",
            "Epoch 34/50\n",
            "\u001b[1m183/183\u001b[0m \u001b[32m━━━━━━━━━━━━━━━━━━━━\u001b[0m\u001b[37m\u001b[0m \u001b[1m2s\u001b[0m 10ms/step - accuracy: 0.9663 - loss: 0.0400 - val_accuracy: 0.9522 - val_loss: 0.1535\n",
            "Epoch 35/50\n",
            "\u001b[1m183/183\u001b[0m \u001b[32m━━━━━━━━━━━━━━━━━━━━\u001b[0m\u001b[37m\u001b[0m \u001b[1m2s\u001b[0m 9ms/step - accuracy: 0.9663 - loss: 0.0399 - val_accuracy: 0.9522 - val_loss: 0.1547\n",
            "Epoch 36/50\n",
            "\u001b[1m183/183\u001b[0m \u001b[32m━━━━━━━━━━━━━━━━━━━━\u001b[0m\u001b[37m\u001b[0m \u001b[1m3s\u001b[0m 10ms/step - accuracy: 0.9663 - loss: 0.0398 - val_accuracy: 0.9538 - val_loss: 0.1561\n",
            "Epoch 37/50\n",
            "\u001b[1m183/183\u001b[0m \u001b[32m━━━━━━━━━━━━━━━━━━━━\u001b[0m\u001b[37m\u001b[0m \u001b[1m3s\u001b[0m 13ms/step - accuracy: 0.9663 - loss: 0.0397 - val_accuracy: 0.9538 - val_loss: 0.1575\n",
            "Epoch 38/50\n",
            "\u001b[1m183/183\u001b[0m \u001b[32m━━━━━━━━━━━━━━━━━━━━\u001b[0m\u001b[37m\u001b[0m \u001b[1m2s\u001b[0m 10ms/step - accuracy: 0.9663 - loss: 0.0396 - val_accuracy: 0.9522 - val_loss: 0.1586\n",
            "Epoch 39/50\n",
            "\u001b[1m183/183\u001b[0m \u001b[32m━━━━━━━━━━━━━━━━━━━━\u001b[0m\u001b[37m\u001b[0m \u001b[1m3s\u001b[0m 10ms/step - accuracy: 0.9664 - loss: 0.0395 - val_accuracy: 0.9522 - val_loss: 0.1596\n",
            "Epoch 40/50\n",
            "\u001b[1m183/183\u001b[0m \u001b[32m━━━━━━━━━━━━━━━━━━━━\u001b[0m\u001b[37m\u001b[0m \u001b[1m2s\u001b[0m 9ms/step - accuracy: 0.9664 - loss: 0.0394 - val_accuracy: 0.9522 - val_loss: 0.1610\n",
            "Epoch 41/50\n",
            "\u001b[1m183/183\u001b[0m \u001b[32m━━━━━━━━━━━━━━━━━━━━\u001b[0m\u001b[37m\u001b[0m \u001b[1m3s\u001b[0m 10ms/step - accuracy: 0.9664 - loss: 0.0393 - val_accuracy: 0.9522 - val_loss: 0.1621\n",
            "Epoch 42/50\n",
            "\u001b[1m183/183\u001b[0m \u001b[32m━━━━━━━━━━━━━━━━━━━━\u001b[0m\u001b[37m\u001b[0m \u001b[1m3s\u001b[0m 13ms/step - accuracy: 0.9664 - loss: 0.0392 - val_accuracy: 0.9522 - val_loss: 0.1633\n",
            "Epoch 43/50\n",
            "\u001b[1m183/183\u001b[0m \u001b[32m━━━━━━━━━━━━━━━━━━━━\u001b[0m\u001b[37m\u001b[0m \u001b[1m2s\u001b[0m 12ms/step - accuracy: 0.9664 - loss: 0.0392 - val_accuracy: 0.9522 - val_loss: 0.1642\n",
            "Epoch 44/50\n",
            "\u001b[1m183/183\u001b[0m \u001b[32m━━━━━━━━━━━━━━━━━━━━\u001b[0m\u001b[37m\u001b[0m \u001b[1m2s\u001b[0m 10ms/step - accuracy: 0.9664 - loss: 0.0391 - val_accuracy: 0.9522 - val_loss: 0.1656\n",
            "Epoch 45/50\n",
            "\u001b[1m183/183\u001b[0m \u001b[32m━━━━━━━━━━━━━━━━━━━━\u001b[0m\u001b[37m\u001b[0m \u001b[1m2s\u001b[0m 10ms/step - accuracy: 0.9664 - loss: 0.0390 - val_accuracy: 0.9522 - val_loss: 0.1666\n",
            "Epoch 46/50\n",
            "\u001b[1m183/183\u001b[0m \u001b[32m━━━━━━━━━━━━━━━━━━━━\u001b[0m\u001b[37m\u001b[0m \u001b[1m2s\u001b[0m 9ms/step - accuracy: 0.9665 - loss: 0.0389 - val_accuracy: 0.9522 - val_loss: 0.1680\n",
            "Epoch 47/50\n",
            "\u001b[1m183/183\u001b[0m \u001b[32m━━━━━━━━━━━━━━━━━━━━\u001b[0m\u001b[37m\u001b[0m \u001b[1m2s\u001b[0m 11ms/step - accuracy: 0.9665 - loss: 0.0389 - val_accuracy: 0.9522 - val_loss: 0.1687\n",
            "Epoch 48/50\n",
            "\u001b[1m183/183\u001b[0m \u001b[32m━━━━━━━━━━━━━━━━━━━━\u001b[0m\u001b[37m\u001b[0m \u001b[1m3s\u001b[0m 12ms/step - accuracy: 0.9664 - loss: 0.0388 - val_accuracy: 0.9522 - val_loss: 0.1698\n",
            "Epoch 49/50\n",
            "\u001b[1m183/183\u001b[0m \u001b[32m━━━━━━━━━━━━━━━━━━━━\u001b[0m\u001b[37m\u001b[0m \u001b[1m3s\u001b[0m 13ms/step - accuracy: 0.9664 - loss: 0.0387 - val_accuracy: 0.9522 - val_loss: 0.1709\n",
            "Epoch 50/50\n",
            "\u001b[1m183/183\u001b[0m \u001b[32m━━━━━━━━━━━━━━━━━━━━\u001b[0m\u001b[37m\u001b[0m \u001b[1m2s\u001b[0m 9ms/step - accuracy: 0.9664 - loss: 0.0387 - val_accuracy: 0.9522 - val_loss: 0.1718\n"
          ]
        }
      ]
    },
    {
      "cell_type": "code",
      "source": [
        "def plot_graphs(history, metric):\n",
        "  plt.plot(history.history[metric])\n",
        "  plt.plot(history.history[f'val_{metric}'])\n",
        "  plt.xlabel(\"epochs\")\n",
        "  plt.ylabel(metric)\n",
        "  plt.legend([metric, f'val_{metric}'])\n",
        "  plt.show()\n",
        "\n",
        "plot_graphs(history, \"accuracy\")\n",
        "plot_graphs(history, \"loss\")"
      ],
      "metadata": {
        "colab": {
          "base_uri": "https://localhost:8080/",
          "height": 881
        },
        "id": "m-HP7hirOfcX",
        "outputId": "732285e9-23f3-4588-ca89-9556fe24a668"
      },
      "execution_count": 51,
      "outputs": [
        {
          "output_type": "display_data",
          "data": {
            "text/plain": [
              "<Figure size 640x480 with 1 Axes>"
            ],
            "image/png": "[encoded data removed]"
          },
          "metadata": {}
        },
        {
          "output_type": "display_data",
          "data": {
            "text/plain": [
              "<Figure size 640x480 with 1 Axes>"
            ],
            "image/png": "[encoded data removed]"
          },
          "metadata": {}
        }
      ]
    },
    {
      "cell_type": "code",
      "source": [
        "# export model\n",
        "import pickle\n",
        "\n",
        "if not os.path.exists(os.path.join('model')):\n",
        "  os.mkdir(os.path.join('model'))\n",
        "\n",
        "model.save(os.path.join('model', 'model.keras'))\n",
        "\n",
        "with open(os.path.join('model', 'vectorizer.pkl'), 'wb') as f:\n",
        "  pickle.dump(vectorizer, f)\n",
        "\n",
        "with open(os.path.join('model', 'encoder.pkl'), 'wb') as f:\n",
        "  pickle.dump(encoder, f)"
      ],
      "metadata": {
        "id": "4YpX5RQrPBBK"
      },
      "execution_count": 53,
      "outputs": []
    },
    {
      "cell_type": "code",
      "source": [
        "!zip -r /content/product-classification-model.zip /content/model"
      ],
      "metadata": {
        "colab": {
          "base_uri": "https://localhost:8080/"
        },
        "id": "h3_FGGK_PRvn",
        "outputId": "e5b88108-534f-41a2-d59a-a0ecbf5ae3d7"
      },
      "execution_count": 54,
      "outputs": [
        {
          "output_type": "stream",
          "name": "stdout",
          "text": [
            "  adding: content/model/ (stored 0%)\n",
            "  adding: content/model/vectorizer.pkl (deflated 74%)\n",
            "  adding: content/model/encoder.pkl (deflated 74%)\n",
            "  adding: content/model/model.keras (deflated 20%)\n"
          ]
        }
      ]
    },
    {
      "cell_type": "code",
      "source": [],
      "metadata": {
        "id": "VUrzzfQzPjre"
      },
      "execution_count": null,
      "outputs": []
    }
  ]
}