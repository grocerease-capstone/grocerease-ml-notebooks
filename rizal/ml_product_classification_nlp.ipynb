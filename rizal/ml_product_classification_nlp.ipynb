{
  "nbformat": 4,
  "nbformat_minor": 0,
  "metadata": {
    "colab": {
      "provenance": []
    },
    "kernelspec": {
      "name": "python3",
      "display_name": "Python 3"
    },
    "language_info": {
      "name": "python"
    }
  },
  "cells": [
    {
      "cell_type": "code",
      "execution_count": null,
      "metadata": {
        "id": "RyxsQk605C8Q"
      },
      "outputs": [],
      "source": [
        "import csv\n",
        "import pandas as pd\n",
        "import numpy as np\n",
        "import tensorflow as tf\n",
        "import os\n",
        "import matplotlib.pyplot as plt\n",
        "import sys"
      ]
    },
    {
      "cell_type": "code",
      "source": [
        "# prompt: dapatkan versi dari tensorflow yang digunakan\n",
        "\n",
        "tf.__version__\n"
      ],
      "metadata": {
        "colab": {
          "base_uri": "https://localhost:8080/",
          "height": 36
        },
        "id": "95XWCQ87x0fU",
        "outputId": "0ff06c0a-69a6-43ce-b995-76fb6d7f1864"
      },
      "execution_count": null,
      "outputs": [
        {
          "output_type": "execute_result",
          "data": {
            "text/plain": [
              "'2.17.1'"
            ],
            "application/vnd.google.colaboratory.intrinsic+json": {
              "type": "string"
            }
          },
          "metadata": {},
          "execution_count": 2
        }
      ]
    },
    {
      "cell_type": "code",
      "source": [
        "print(f\"Python version: {sys.version}\")\n",
        "print(f\"Python version info: {sys.version_info}\")"
      ],
      "metadata": {
        "colab": {
          "base_uri": "https://localhost:8080/"
        },
        "id": "Z1WiPCW3I-Kp",
        "outputId": "4a10cc67-ed48-4bae-c07d-2b6c00d84de1"
      },
      "execution_count": null,
      "outputs": [
        {
          "output_type": "stream",
          "name": "stdout",
          "text": [
            "Python version: 3.10.12 (main, Nov  6 2024, 20:22:13) [GCC 11.4.0]\n",
            "Python version info: sys.version_info(major=3, minor=10, micro=12, releaselevel='final', serial=0)\n"
          ]
        }
      ]
    },
    {
      "cell_type": "code",
      "source": [
        "def parse_data_from_file():\n",
        "  product_names = []\n",
        "  labels = []\n",
        "\n",
        "  with open('shuffled_data.csv', mode='r') as file:\n",
        "    reader = csv.reader(file)\n",
        "    next(reader)\n",
        "\n",
        "    for row in reader:\n",
        "      product_names.append(row[0])\n",
        "      labels.append(row[1])\n",
        "\n",
        "  return product_names, labels"
      ],
      "metadata": {
        "id": "UcAsRS6pJDRz"
      },
      "execution_count": null,
      "outputs": []
    },
    {
      "cell_type": "code",
      "source": [
        "product_names, labels = parse_data_from_file()\n",
        "\n",
        "print(f'length of product names: {len(product_names)}')\n",
        "print(f'first product name: {product_names[0]}')\n",
        "print(f'first product name has {len(product_names[0].split())} words')\n",
        "print(f'length of labels: {len(labels)}')\n",
        "print(f'daftar labels adalah {list(set(labels))}')"
      ],
      "metadata": {
        "colab": {
          "base_uri": "https://localhost:8080/"
        },
        "id": "3l0v_aV5JiZo",
        "outputId": "a4edb643-19eb-4a30-9d4e-a6d11122771b"
      },
      "execution_count": null,
      "outputs": [
        {
          "output_type": "stream",
          "name": "stdout",
          "text": [
            "length of product names: 6482\n",
            "first product name: Pantene Conditioner Tanpa Bilas Perfect On 40Ml\n",
            "first product name has 7 words\n",
            "length of labels: 6482\n",
            "daftar labels adalah ['kecantikan', 'product-segar', 'makanan', 'kesehatan', 'minuman', 'home-living']\n"
          ]
        }
      ]
    },
    {
      "cell_type": "code",
      "source": [
        "def train_val_datasets():\n",
        "  train_size = int(len(product_names) * 0.9)\n",
        "\n",
        "  train_product_names = product_names[:train_size]\n",
        "  train_labels = labels[:train_size]\n",
        "\n",
        "  val_product_names = product_names[train_size:]\n",
        "  val_labels = labels[train_size:]\n",
        "\n",
        "  train_dataset = tf.data.Dataset.from_tensor_slices((train_product_names, train_labels))\n",
        "  val_dataset = tf.data.Dataset.from_tensor_slices((val_product_names, val_labels))\n",
        "\n",
        "  return train_dataset, val_dataset"
      ],
      "metadata": {
        "id": "lmQk4i-MJosI"
      },
      "execution_count": null,
      "outputs": []
    },
    {
      "cell_type": "code",
      "source": [
        "train_dataset, validation_dataset = train_val_datasets()\n",
        "\n",
        "print(f\"there are {train_dataset.cardinality()} product name - label pairs for training.\\n\")\n",
        "print(f\"there are {validation_dataset.cardinality()} product name - label pairs for validation.\\n\")"
      ],
      "metadata": {
        "colab": {
          "base_uri": "https://localhost:8080/"
        },
        "id": "aBaFW_LtJ4um",
        "outputId": "2caed735-65f9-4b7f-c409-e62d710c191c"
      },
      "execution_count": null,
      "outputs": [
        {
          "output_type": "stream",
          "name": "stdout",
          "text": [
            "there are 5833 product name - label pairs for training.\n",
            "\n",
            "there are 649 product name - label pairs for validation.\n",
            "\n"
          ]
        }
      ]
    },
    {
      "cell_type": "code",
      "source": [
        "@tf.keras.utils.register_keras_serializable()\n",
        "def standardize_product_name(product_name):\n",
        "  product_name = tf.strings.lower(product_name)\n",
        "  product_name = tf.strings.regex_replace(\n",
        "      product_name, r\"\\b\\d+(\\.\\d+)?x\\d+(\\.\\d+)?(g|ml|kg|lt)\\b\", \"\"\n",
        "  )\n",
        "  product_name = tf.strings.regex_replace(\n",
        "      product_name, r\"\\b\\d+(\\.\\d+)?(g|ml|kg|lt)\\b\", \"\"\n",
        "  )\n",
        "  product_name = tf.strings.regex_replace(product_name, r\"\\b\\d+(g|ml|kg|lt)\\b\", \"\")\n",
        "  product_name = tf.strings.regex_replace(product_name, r\"\\b\\d+\\'s\\b\", \"\")\n",
        "  product_name = tf.strings.regex_replace(product_name, r\"[^a-z\\s]\", \"\")\n",
        "  product_name = tf.strings.regex_replace(product_name, r'\\s{2,}', ' ')\n",
        "  product_name = tf.strings.strip(product_name)\n",
        "\n",
        "  return product_name"
      ],
      "metadata": {
        "id": "OBkhFU_rKAOe"
      },
      "execution_count": null,
      "outputs": []
    },
    {
      "cell_type": "code",
      "source": [
        "import random\n",
        "\n",
        "random_product_names = random.sample(product_names, 10)\n",
        "for random_product_name in random_product_names:\n",
        "  standardized_product_name = standardize_product_name(random_product_name)\n",
        "\n",
        "  print(f'product name: {random_product_name}')\n",
        "  print(f'standardized product name: {standardized_product_name}\\n')"
      ],
      "metadata": {
        "colab": {
          "base_uri": "https://localhost:8080/"
        },
        "id": "yHf5odV-KSqa",
        "outputId": "5a744c94-676b-4f6c-f15c-0aca75648fa6"
      },
      "execution_count": null,
      "outputs": [
        {
          "output_type": "stream",
          "name": "stdout",
          "text": [
            "product name: Wardah Lightening Cleansing Milk 100ml\n",
            "standardized product name: b'wardah lightening cleansing milk'\n",
            "\n",
            "product name: Lee Kum Kee Pure Sesame Oil 115Ml\n",
            "standardized product name: b'lee kum kee pure sesame oil'\n",
            "\n",
            "product name: Cimory Yogurt Squeeze Purple Taro 120G\n",
            "standardized product name: b'cimory yogurt squeeze purple taro'\n",
            "\n",
            "product name: Poise Facial Foam Oil Control 100G\n",
            "standardized product name: b'poise facial foam oil control'\n",
            "\n",
            "product name: Darlie Pasta Gigi Double Action Original Mint 120g\n",
            "standardized product name: b'darlie pasta gigi double action original mint'\n",
            "\n",
            "product name: Majestyk Risol Medan Kota\n",
            "standardized product name: b'majestyk risol medan kota'\n",
            "\n",
            "product name: Ayam Ungkep Djogja Ayam Kampung Tulang Lunak Frozen 1 Ekor\n",
            "standardized product name: b'ayam ungkep djogja ayam kampung tulang lunak frozen ekor'\n",
            "\n",
            "product name: Indofood Bumbu Spesial Racik Kare 45G\n",
            "standardized product name: b'indofood bumbu spesial racik kare'\n",
            "\n",
            "product name: Citra Putri Tepung Bumbu Serbaguna 250G\n",
            "standardized product name: b'citra putri tepung bumbu serbaguna'\n",
            "\n",
            "product name: Bright Gas Tabung 5.5Kg\n",
            "standardized product name: b'bright gas tabung'\n",
            "\n"
          ]
        }
      ]
    },
    {
      "cell_type": "code",
      "source": [
        "VOCAB_SIZE = 5000\n",
        "EMBEDDING_DIM = 16\n",
        "MAX_LENGTH = 120"
      ],
      "metadata": {
        "id": "FPtXThypMgqg"
      },
      "execution_count": null,
      "outputs": []
    },
    {
      "cell_type": "code",
      "source": [
        "def fit_vectorizer(product_names):\n",
        "  vectorizer = tf.keras.layers.TextVectorization(\n",
        "      standardize=standardize_product_name,\n",
        "      output_sequence_length=MAX_LENGTH,\n",
        "      max_tokens=VOCAB_SIZE,\n",
        "  )\n",
        "  vectorizer.adapt(product_names)\n",
        "\n",
        "  return vectorizer"
      ],
      "metadata": {
        "id": "emV3g8esKTso"
      },
      "execution_count": null,
      "outputs": []
    },
    {
      "cell_type": "code",
      "source": [
        "vectorizer = fit_vectorizer(train_dataset.map(lambda product_name, label: product_name))\n",
        "vocab_size = vectorizer.vocabulary_size()\n",
        "\n",
        "print(f\"vocabulary contains {vocab_size} words\\n\")"
      ],
      "metadata": {
        "colab": {
          "base_uri": "https://localhost:8080/"
        },
        "id": "aBS5j1xsL2MK",
        "outputId": "58c0e867-4b1f-4dfc-aa3d-5b09ab8093c8"
      },
      "execution_count": null,
      "outputs": [
        {
          "output_type": "stream",
          "name": "stdout",
          "text": [
            "vocabulary contains 4339 words\n",
            "\n"
          ]
        }
      ]
    },
    {
      "cell_type": "code",
      "source": [
        "def fit_encoder():\n",
        "  train_labels = train_dataset.map(lambda product_name, label: label)\n",
        "  validation_labels = validation_dataset.map(lambda product_name, label: label)\n",
        "  labels = train_labels.concatenate(validation_labels)\n",
        "\n",
        "  encoder = tf.keras.layers.StringLookup(\n",
        "      # oov_token='<UNK>',\n",
        "      num_oov_indices=0,\n",
        "  )\n",
        "  encoder.adapt(labels)\n",
        "\n",
        "  return encoder"
      ],
      "metadata": {
        "id": "rhh7hZmtMB5j"
      },
      "execution_count": null,
      "outputs": []
    },
    {
      "cell_type": "code",
      "source": [
        "encoder = fit_encoder()\n",
        "\n",
        "print(f'unique labels: {encoder.get_vocabulary()}')"
      ],
      "metadata": {
        "colab": {
          "base_uri": "https://localhost:8080/"
        },
        "id": "3pzupWfcNEzI",
        "outputId": "7199b0ba-0280-4d81-becb-1d037f3df1df"
      },
      "execution_count": null,
      "outputs": [
        {
          "output_type": "stream",
          "name": "stdout",
          "text": [
            "unique labels: ['makanan', 'kecantikan', 'home-living', 'minuman', 'product-segar', 'kesehatan']\n"
          ]
        }
      ]
    },
    {
      "cell_type": "code",
      "source": [
        "def preprocess_dataset(dataset, vectorizer, encoder):\n",
        "  dataset = dataset.map(lambda product_name, label: (vectorizer(product_name), encoder(label)))\n",
        "  dataset = dataset.batch(32)\n",
        "\n",
        "  return dataset"
      ],
      "metadata": {
        "id": "YPHMk1ONNPWN"
      },
      "execution_count": null,
      "outputs": []
    },
    {
      "cell_type": "code",
      "source": [
        "train_proc_dataset = preprocess_dataset(train_dataset, vectorizer, encoder)\n",
        "validation_proc_dataset = preprocess_dataset(validation_dataset, vectorizer, encoder)\n",
        "\n",
        "print(f\"number of batches in the train dataset: {train_proc_dataset.cardinality()}\")\n",
        "print(f\"number of batches in the validation dataset: {validation_proc_dataset.cardinality()}\")"
      ],
      "metadata": {
        "colab": {
          "base_uri": "https://localhost:8080/"
        },
        "id": "N2hXvsVeNveJ",
        "outputId": "0171f65b-e441-4a0d-8c0b-335b5ea5fa99"
      },
      "execution_count": null,
      "outputs": [
        {
          "output_type": "stream",
          "name": "stdout",
          "text": [
            "number of batches in the train dataset: 183\n",
            "number of batches in the validation dataset: 21\n"
          ]
        }
      ]
    },
    {
      "cell_type": "code",
      "source": [
        "train_batch = next(train_proc_dataset.as_numpy_iterator())\n",
        "validation_batch = next(validation_proc_dataset.as_numpy_iterator())\n",
        "\n",
        "print(f\"shape of the train batch: {train_batch[0].shape}\")\n",
        "print(f\"shape of the validation batch: {validation_batch[0].shape}\")"
      ],
      "metadata": {
        "colab": {
          "base_uri": "https://localhost:8080/"
        },
        "id": "rHDGC3RUN0oW",
        "outputId": "8995fd29-d15d-497b-d8ac-aca09499e28d"
      },
      "execution_count": null,
      "outputs": [
        {
          "output_type": "stream",
          "name": "stdout",
          "text": [
            "shape of the train batch: (32, 120)\n",
            "shape of the validation batch: (32, 120)\n"
          ]
        }
      ]
    },
    {
      "cell_type": "code",
      "source": [
        "def create_model():\n",
        "  model = tf.keras.Sequential([\n",
        "    tf.keras.Input(shape=(MAX_LENGTH,)),\n",
        "    tf.keras.layers.Embedding(\n",
        "        input_dim=VOCAB_SIZE,\n",
        "        output_dim=EMBEDDING_DIM,\n",
        "        mask_zero=True,\n",
        "    ),\n",
        "    tf.keras.layers.GlobalAveragePooling1D(),\n",
        "    tf.keras.layers.Dense(64, activation='relu'),\n",
        "    tf.keras.layers.Dense(6, activation='softmax')\n",
        "  ])\n",
        "\n",
        "  model.compile(\n",
        "    loss='sparse_categorical_crossentropy',\n",
        "    optimizer='adam',\n",
        "    metrics=['accuracy']\n",
        "  )\n",
        "\n",
        "  return model"
      ],
      "metadata": {
        "id": "jqKvGvAQN4Ny"
      },
      "execution_count": null,
      "outputs": []
    },
    {
      "cell_type": "code",
      "source": [
        "model = create_model()\n",
        "model.summary()"
      ],
      "metadata": {
        "colab": {
          "base_uri": "https://localhost:8080/",
          "height": 273
        },
        "id": "Sh9kiB4WOBxk",
        "outputId": "b53332e7-5704-41cb-c8e4-c78a74fda19e"
      },
      "execution_count": null,
      "outputs": [
        {
          "output_type": "display_data",
          "data": {
            "text/plain": [
              "\u001b[1mModel: \"sequential\"\u001b[0m\n"
            ],
            "text/html": [
              "<pre style=\"white-space:pre;overflow-x:auto;line-height:normal;font-family:Menlo,'DejaVu Sans Mono',consolas,'Courier New',monospace\"><span style=\"font-weight: bold\">Model: \"sequential\"</span>\n",
              "</pre>\n"
            ]
          },
          "metadata": {}
        },
        {
          "output_type": "display_data",
          "data": {
            "text/plain": [
              "┏━━━━━━━━━━━━━━━━━━━━━━━━━━━━━━━━━━━━━━┳━━━━━━━━━━━━━━━━━━━━━━━━━━━━━┳━━━━━━━━━━━━━━━━━┓\n",
              "┃\u001b[1m \u001b[0m\u001b[1mLayer (type)                        \u001b[0m\u001b[1m \u001b[0m┃\u001b[1m \u001b[0m\u001b[1mOutput Shape               \u001b[0m\u001b[1m \u001b[0m┃\u001b[1m \u001b[0m\u001b[1m        Param #\u001b[0m\u001b[1m \u001b[0m┃\n",
              "┡━━━━━━━━━━━━━━━━━━━━━━━━━━━━━━━━━━━━━━╇━━━━━━━━━━━━━━━━━━━━━━━━━━━━━╇━━━━━━━━━━━━━━━━━┩\n",
              "│ embedding (\u001b[38;5;33mEmbedding\u001b[0m)                │ (\u001b[38;5;45mNone\u001b[0m, \u001b[38;5;34m120\u001b[0m, \u001b[38;5;34m16\u001b[0m)             │          \u001b[38;5;34m80,000\u001b[0m │\n",
              "├──────────────────────────────────────┼─────────────────────────────┼─────────────────┤\n",
              "│ global_average_pooling1d             │ (\u001b[38;5;45mNone\u001b[0m, \u001b[38;5;34m16\u001b[0m)                  │               \u001b[38;5;34m0\u001b[0m │\n",
              "│ (\u001b[38;5;33mGlobalAveragePooling1D\u001b[0m)             │                             │                 │\n",
              "├──────────────────────────────────────┼─────────────────────────────┼─────────────────┤\n",
              "│ dense (\u001b[38;5;33mDense\u001b[0m)                        │ (\u001b[38;5;45mNone\u001b[0m, \u001b[38;5;34m64\u001b[0m)                  │           \u001b[38;5;34m1,088\u001b[0m │\n",
              "├──────────────────────────────────────┼─────────────────────────────┼─────────────────┤\n",
              "│ dense_1 (\u001b[38;5;33mDense\u001b[0m)                      │ (\u001b[38;5;45mNone\u001b[0m, \u001b[38;5;34m6\u001b[0m)                   │             \u001b[38;5;34m390\u001b[0m │\n",
              "└──────────────────────────────────────┴─────────────────────────────┴─────────────────┘\n"
            ],
            "text/html": [
              "<pre style=\"white-space:pre;overflow-x:auto;line-height:normal;font-family:Menlo,'DejaVu Sans Mono',consolas,'Courier New',monospace\">┏━━━━━━━━━━━━━━━━━━━━━━━━━━━━━━━━━━━━━━┳━━━━━━━━━━━━━━━━━━━━━━━━━━━━━┳━━━━━━━━━━━━━━━━━┓\n",
              "┃<span style=\"font-weight: bold\"> Layer (type)                         </span>┃<span style=\"font-weight: bold\"> Output Shape                </span>┃<span style=\"font-weight: bold\">         Param # </span>┃\n",
              "┡━━━━━━━━━━━━━━━━━━━━━━━━━━━━━━━━━━━━━━╇━━━━━━━━━━━━━━━━━━━━━━━━━━━━━╇━━━━━━━━━━━━━━━━━┩\n",
              "│ embedding (<span style=\"color: #0087ff; text-decoration-color: #0087ff\">Embedding</span>)                │ (<span style=\"color: #00d7ff; text-decoration-color: #00d7ff\">None</span>, <span style=\"color: #00af00; text-decoration-color: #00af00\">120</span>, <span style=\"color: #00af00; text-decoration-color: #00af00\">16</span>)             │          <span style=\"color: #00af00; text-decoration-color: #00af00\">80,000</span> │\n",
              "├──────────────────────────────────────┼─────────────────────────────┼─────────────────┤\n",
              "│ global_average_pooling1d             │ (<span style=\"color: #00d7ff; text-decoration-color: #00d7ff\">None</span>, <span style=\"color: #00af00; text-decoration-color: #00af00\">16</span>)                  │               <span style=\"color: #00af00; text-decoration-color: #00af00\">0</span> │\n",
              "│ (<span style=\"color: #0087ff; text-decoration-color: #0087ff\">GlobalAveragePooling1D</span>)             │                             │                 │\n",
              "├──────────────────────────────────────┼─────────────────────────────┼─────────────────┤\n",
              "│ dense (<span style=\"color: #0087ff; text-decoration-color: #0087ff\">Dense</span>)                        │ (<span style=\"color: #00d7ff; text-decoration-color: #00d7ff\">None</span>, <span style=\"color: #00af00; text-decoration-color: #00af00\">64</span>)                  │           <span style=\"color: #00af00; text-decoration-color: #00af00\">1,088</span> │\n",
              "├──────────────────────────────────────┼─────────────────────────────┼─────────────────┤\n",
              "│ dense_1 (<span style=\"color: #0087ff; text-decoration-color: #0087ff\">Dense</span>)                      │ (<span style=\"color: #00d7ff; text-decoration-color: #00d7ff\">None</span>, <span style=\"color: #00af00; text-decoration-color: #00af00\">6</span>)                   │             <span style=\"color: #00af00; text-decoration-color: #00af00\">390</span> │\n",
              "└──────────────────────────────────────┴─────────────────────────────┴─────────────────┘\n",
              "</pre>\n"
            ]
          },
          "metadata": {}
        },
        {
          "output_type": "display_data",
          "data": {
            "text/plain": [
              "\u001b[1m Total params: \u001b[0m\u001b[38;5;34m81,478\u001b[0m (318.27 KB)\n"
            ],
            "text/html": [
              "<pre style=\"white-space:pre;overflow-x:auto;line-height:normal;font-family:Menlo,'DejaVu Sans Mono',consolas,'Courier New',monospace\"><span style=\"font-weight: bold\"> Total params: </span><span style=\"color: #00af00; text-decoration-color: #00af00\">81,478</span> (318.27 KB)\n",
              "</pre>\n"
            ]
          },
          "metadata": {}
        },
        {
          "output_type": "display_data",
          "data": {
            "text/plain": [
              "\u001b[1m Trainable params: \u001b[0m\u001b[38;5;34m81,478\u001b[0m (318.27 KB)\n"
            ],
            "text/html": [
              "<pre style=\"white-space:pre;overflow-x:auto;line-height:normal;font-family:Menlo,'DejaVu Sans Mono',consolas,'Courier New',monospace\"><span style=\"font-weight: bold\"> Trainable params: </span><span style=\"color: #00af00; text-decoration-color: #00af00\">81,478</span> (318.27 KB)\n",
              "</pre>\n"
            ]
          },
          "metadata": {}
        },
        {
          "output_type": "display_data",
          "data": {
            "text/plain": [
              "\u001b[1m Non-trainable params: \u001b[0m\u001b[38;5;34m0\u001b[0m (0.00 B)\n"
            ],
            "text/html": [
              "<pre style=\"white-space:pre;overflow-x:auto;line-height:normal;font-family:Menlo,'DejaVu Sans Mono',consolas,'Courier New',monospace\"><span style=\"font-weight: bold\"> Non-trainable params: </span><span style=\"color: #00af00; text-decoration-color: #00af00\">0</span> (0.00 B)\n",
              "</pre>\n"
            ]
          },
          "metadata": {}
        }
      ]
    },
    {
      "cell_type": "code",
      "source": [
        "example_batch = train_proc_dataset.take(1)\n",
        "\n",
        "try:\n",
        "  model.evaluate(example_batch, verbose=False)\n",
        "except:\n",
        "\tprint(\"your model is not compatible with the dataset you defined earlier. check that the loss function and last layer are compatible with one another.\")\n",
        "else:\n",
        "\tpredictions = model.predict(example_batch, verbose=False)\n",
        "\tprint(f\"predictions have shape: {predictions.shape}\")"
      ],
      "metadata": {
        "colab": {
          "base_uri": "https://localhost:8080/"
        },
        "id": "pm7CEkxXODSu",
        "outputId": "1d0b5411-228b-417d-c7d3-09d6026a52e9"
      },
      "execution_count": null,
      "outputs": [
        {
          "output_type": "stream",
          "name": "stdout",
          "text": [
            "predictions have shape: (32, 6)\n"
          ]
        }
      ]
    },
    {
      "cell_type": "code",
      "source": [
        "history = model.fit(\n",
        "    train_proc_dataset,\n",
        "    epochs=50,\n",
        "    validation_data=validation_proc_dataset,\n",
        ")"
      ],
      "metadata": {
        "colab": {
          "base_uri": "https://localhost:8080/"
        },
        "id": "A0c9bJiFOKiv",
        "outputId": "b6a09cd6-e4f0-4e0e-e26b-b43420c2ecd9"
      },
      "execution_count": null,
      "outputs": [
        {
          "output_type": "stream",
          "name": "stdout",
          "text": [
            "Epoch 1/50\n",
            "\u001b[1m183/183\u001b[0m \u001b[32m━━━━━━━━━━━━━━━━━━━━\u001b[0m\u001b[37m\u001b[0m \u001b[1m3s\u001b[0m 9ms/step - accuracy: 0.3964 - loss: 1.6451 - val_accuracy: 0.7134 - val_loss: 0.8229\n",
            "Epoch 2/50\n",
            "\u001b[1m183/183\u001b[0m \u001b[32m━━━━━━━━━━━━━━━━━━━━\u001b[0m\u001b[37m\u001b[0m \u001b[1m2s\u001b[0m 13ms/step - accuracy: 0.8198 - loss: 0.6358 - val_accuracy: 0.9245 - val_loss: 0.2950\n",
            "Epoch 3/50\n",
            "\u001b[1m183/183\u001b[0m \u001b[32m━━━━━━━━━━━━━━━━━━━━\u001b[0m\u001b[37m\u001b[0m \u001b[1m2s\u001b[0m 8ms/step - accuracy: 0.9277 - loss: 0.2425 - val_accuracy: 0.9522 - val_loss: 0.1802\n",
            "Epoch 4/50\n",
            "\u001b[1m183/183\u001b[0m \u001b[32m━━━━━━━━━━━━━━━━━━━━\u001b[0m\u001b[37m\u001b[0m \u001b[1m2s\u001b[0m 9ms/step - accuracy: 0.9617 - loss: 0.1329 - val_accuracy: 0.9615 - val_loss: 0.1386\n",
            "Epoch 5/50\n",
            "\u001b[1m183/183\u001b[0m \u001b[32m━━━━━━━━━━━━━━━━━━━━\u001b[0m\u001b[37m\u001b[0m \u001b[1m2s\u001b[0m 9ms/step - accuracy: 0.9696 - loss: 0.0884 - val_accuracy: 0.9599 - val_loss: 0.1223\n",
            "Epoch 6/50\n",
            "\u001b[1m183/183\u001b[0m \u001b[32m━━━━━━━━━━━━━━━━━━━━\u001b[0m\u001b[37m\u001b[0m \u001b[1m3s\u001b[0m 9ms/step - accuracy: 0.9713 - loss: 0.0688 - val_accuracy: 0.9599 - val_loss: 0.1156\n",
            "Epoch 7/50\n",
            "\u001b[1m183/183\u001b[0m \u001b[32m━━━━━━━━━━━━━━━━━━━━\u001b[0m\u001b[37m\u001b[0m \u001b[1m3s\u001b[0m 11ms/step - accuracy: 0.9713 - loss: 0.0591 - val_accuracy: 0.9584 - val_loss: 0.1130\n",
            "Epoch 8/50\n",
            "\u001b[1m183/183\u001b[0m \u001b[32m━━━━━━━━━━━━━━━━━━━━\u001b[0m\u001b[37m\u001b[0m \u001b[1m2s\u001b[0m 13ms/step - accuracy: 0.9713 - loss: 0.0539 - val_accuracy: 0.9569 - val_loss: 0.1125\n",
            "Epoch 9/50\n",
            "\u001b[1m183/183\u001b[0m \u001b[32m━━━━━━━━━━━━━━━━━━━━\u001b[0m\u001b[37m\u001b[0m \u001b[1m2s\u001b[0m 10ms/step - accuracy: 0.9712 - loss: 0.0507 - val_accuracy: 0.9553 - val_loss: 0.1132\n",
            "Epoch 10/50\n",
            "\u001b[1m183/183\u001b[0m \u001b[32m━━━━━━━━━━━━━━━━━━━━\u001b[0m\u001b[37m\u001b[0m \u001b[1m2s\u001b[0m 9ms/step - accuracy: 0.9713 - loss: 0.0486 - val_accuracy: 0.9553 - val_loss: 0.1146\n",
            "Epoch 11/50\n",
            "\u001b[1m183/183\u001b[0m \u001b[32m━━━━━━━━━━━━━━━━━━━━\u001b[0m\u001b[37m\u001b[0m \u001b[1m3s\u001b[0m 9ms/step - accuracy: 0.9716 - loss: 0.0471 - val_accuracy: 0.9538 - val_loss: 0.1165\n",
            "Epoch 12/50\n",
            "\u001b[1m183/183\u001b[0m \u001b[32m━━━━━━━━━━━━━━━━━━━━\u001b[0m\u001b[37m\u001b[0m \u001b[1m2s\u001b[0m 10ms/step - accuracy: 0.9709 - loss: 0.0460 - val_accuracy: 0.9538 - val_loss: 0.1189\n",
            "Epoch 13/50\n",
            "\u001b[1m183/183\u001b[0m \u001b[32m━━━━━━━━━━━━━━━━━━━━\u001b[0m\u001b[37m\u001b[0m \u001b[1m2s\u001b[0m 10ms/step - accuracy: 0.9700 - loss: 0.0452 - val_accuracy: 0.9538 - val_loss: 0.1213\n",
            "Epoch 14/50\n",
            "\u001b[1m183/183\u001b[0m \u001b[32m━━━━━━━━━━━━━━━━━━━━\u001b[0m\u001b[37m\u001b[0m \u001b[1m3s\u001b[0m 13ms/step - accuracy: 0.9697 - loss: 0.0445 - val_accuracy: 0.9538 - val_loss: 0.1236\n",
            "Epoch 15/50\n",
            "\u001b[1m183/183\u001b[0m \u001b[32m━━━━━━━━━━━━━━━━━━━━\u001b[0m\u001b[37m\u001b[0m \u001b[1m2s\u001b[0m 9ms/step - accuracy: 0.9697 - loss: 0.0439 - val_accuracy: 0.9538 - val_loss: 0.1259\n",
            "Epoch 16/50\n",
            "\u001b[1m183/183\u001b[0m \u001b[32m━━━━━━━━━━━━━━━━━━━━\u001b[0m\u001b[37m\u001b[0m \u001b[1m2s\u001b[0m 9ms/step - accuracy: 0.9695 - loss: 0.0434 - val_accuracy: 0.9522 - val_loss: 0.1283\n",
            "Epoch 17/50\n",
            "\u001b[1m183/183\u001b[0m \u001b[32m━━━━━━━━━━━━━━━━━━━━\u001b[0m\u001b[37m\u001b[0m \u001b[1m2s\u001b[0m 9ms/step - accuracy: 0.9692 - loss: 0.0430 - val_accuracy: 0.9522 - val_loss: 0.1306\n",
            "Epoch 18/50\n",
            "\u001b[1m183/183\u001b[0m \u001b[32m━━━━━━━━━━━━━━━━━━━━\u001b[0m\u001b[37m\u001b[0m \u001b[1m2s\u001b[0m 9ms/step - accuracy: 0.9683 - loss: 0.0426 - val_accuracy: 0.9522 - val_loss: 0.1328\n",
            "Epoch 19/50\n",
            "\u001b[1m183/183\u001b[0m \u001b[32m━━━━━━━━━━━━━━━━━━━━\u001b[0m\u001b[37m\u001b[0m \u001b[1m2s\u001b[0m 10ms/step - accuracy: 0.9682 - loss: 0.0424 - val_accuracy: 0.9538 - val_loss: 0.1351\n",
            "Epoch 20/50\n",
            "\u001b[1m183/183\u001b[0m \u001b[32m━━━━━━━━━━━━━━━━━━━━\u001b[0m\u001b[37m\u001b[0m \u001b[1m3s\u001b[0m 13ms/step - accuracy: 0.9668 - loss: 0.0421 - val_accuracy: 0.9538 - val_loss: 0.1370\n",
            "Epoch 21/50\n",
            "\u001b[1m183/183\u001b[0m \u001b[32m━━━━━━━━━━━━━━━━━━━━\u001b[0m\u001b[37m\u001b[0m \u001b[1m2s\u001b[0m 9ms/step - accuracy: 0.9668 - loss: 0.0419 - val_accuracy: 0.9538 - val_loss: 0.1391\n",
            "Epoch 22/50\n",
            "\u001b[1m183/183\u001b[0m \u001b[32m━━━━━━━━━━━━━━━━━━━━\u001b[0m\u001b[37m\u001b[0m \u001b[1m3s\u001b[0m 9ms/step - accuracy: 0.9665 - loss: 0.0416 - val_accuracy: 0.9538 - val_loss: 0.1410\n",
            "Epoch 23/50\n",
            "\u001b[1m183/183\u001b[0m \u001b[32m━━━━━━━━━━━━━━━━━━━━\u001b[0m\u001b[37m\u001b[0m \u001b[1m3s\u001b[0m 10ms/step - accuracy: 0.9665 - loss: 0.0415 - val_accuracy: 0.9538 - val_loss: 0.1429\n",
            "Epoch 24/50\n",
            "\u001b[1m183/183\u001b[0m \u001b[32m━━━━━━━━━━━━━━━━━━━━\u001b[0m\u001b[37m\u001b[0m \u001b[1m3s\u001b[0m 12ms/step - accuracy: 0.9666 - loss: 0.0413 - val_accuracy: 0.9538 - val_loss: 0.1445\n",
            "Epoch 25/50\n",
            "\u001b[1m183/183\u001b[0m \u001b[32m━━━━━━━━━━━━━━━━━━━━\u001b[0m\u001b[37m\u001b[0m \u001b[1m3s\u001b[0m 14ms/step - accuracy: 0.9664 - loss: 0.0411 - val_accuracy: 0.9538 - val_loss: 0.1465\n",
            "Epoch 26/50\n",
            "\u001b[1m183/183\u001b[0m \u001b[32m━━━━━━━━━━━━━━━━━━━━\u001b[0m\u001b[37m\u001b[0m \u001b[1m4s\u001b[0m 9ms/step - accuracy: 0.9663 - loss: 0.0409 - val_accuracy: 0.9538 - val_loss: 0.1482\n",
            "Epoch 27/50\n",
            "\u001b[1m183/183\u001b[0m \u001b[32m━━━━━━━━━━━━━━━━━━━━\u001b[0m\u001b[37m\u001b[0m \u001b[1m2s\u001b[0m 9ms/step - accuracy: 0.9663 - loss: 0.0408 - val_accuracy: 0.9553 - val_loss: 0.1498\n",
            "Epoch 28/50\n",
            "\u001b[1m183/183\u001b[0m \u001b[32m━━━━━━━━━━━━━━━━━━━━\u001b[0m\u001b[37m\u001b[0m \u001b[1m2s\u001b[0m 9ms/step - accuracy: 0.9663 - loss: 0.0407 - val_accuracy: 0.9553 - val_loss: 0.1513\n",
            "Epoch 29/50\n",
            "\u001b[1m183/183\u001b[0m \u001b[32m━━━━━━━━━━━━━━━━━━━━\u001b[0m\u001b[37m\u001b[0m \u001b[1m2s\u001b[0m 9ms/step - accuracy: 0.9663 - loss: 0.0406 - val_accuracy: 0.9553 - val_loss: 0.1529\n",
            "Epoch 30/50\n",
            "\u001b[1m183/183\u001b[0m \u001b[32m━━━━━━━━━━━━━━━━━━━━\u001b[0m\u001b[37m\u001b[0m \u001b[1m3s\u001b[0m 12ms/step - accuracy: 0.9663 - loss: 0.0404 - val_accuracy: 0.9538 - val_loss: 0.1546\n",
            "Epoch 31/50\n",
            "\u001b[1m183/183\u001b[0m \u001b[32m━━━━━━━━━━━━━━━━━━━━\u001b[0m\u001b[37m\u001b[0m \u001b[1m2s\u001b[0m 10ms/step - accuracy: 0.9660 - loss: 0.0403 - val_accuracy: 0.9538 - val_loss: 0.1560\n",
            "Epoch 32/50\n",
            "\u001b[1m183/183\u001b[0m \u001b[32m━━━━━━━━━━━━━━━━━━━━\u001b[0m\u001b[37m\u001b[0m \u001b[1m2s\u001b[0m 10ms/step - accuracy: 0.9660 - loss: 0.0402 - val_accuracy: 0.9522 - val_loss: 0.1575\n",
            "Epoch 33/50\n",
            "\u001b[1m183/183\u001b[0m \u001b[32m━━━━━━━━━━━━━━━━━━━━\u001b[0m\u001b[37m\u001b[0m \u001b[1m2s\u001b[0m 9ms/step - accuracy: 0.9660 - loss: 0.0401 - val_accuracy: 0.9522 - val_loss: 0.1589\n",
            "Epoch 34/50\n",
            "\u001b[1m183/183\u001b[0m \u001b[32m━━━━━━━━━━━━━━━━━━━━\u001b[0m\u001b[37m\u001b[0m \u001b[1m2s\u001b[0m 9ms/step - accuracy: 0.9662 - loss: 0.0400 - val_accuracy: 0.9522 - val_loss: 0.1601\n",
            "Epoch 35/50\n",
            "\u001b[1m183/183\u001b[0m \u001b[32m━━━━━━━━━━━━━━━━━━━━\u001b[0m\u001b[37m\u001b[0m \u001b[1m3s\u001b[0m 11ms/step - accuracy: 0.9662 - loss: 0.0399 - val_accuracy: 0.9522 - val_loss: 0.1616\n",
            "Epoch 36/50\n",
            "\u001b[1m183/183\u001b[0m \u001b[32m━━━━━━━━━━━━━━━━━━━━\u001b[0m\u001b[37m\u001b[0m \u001b[1m2s\u001b[0m 13ms/step - accuracy: 0.9657 - loss: 0.0398 - val_accuracy: 0.9522 - val_loss: 0.1629\n",
            "Epoch 37/50\n",
            "\u001b[1m183/183\u001b[0m \u001b[32m━━━━━━━━━━━━━━━━━━━━\u001b[0m\u001b[37m\u001b[0m \u001b[1m2s\u001b[0m 9ms/step - accuracy: 0.9659 - loss: 0.0397 - val_accuracy: 0.9522 - val_loss: 0.1642\n",
            "Epoch 38/50\n",
            "\u001b[1m183/183\u001b[0m \u001b[32m━━━━━━━━━━━━━━━━━━━━\u001b[0m\u001b[37m\u001b[0m \u001b[1m2s\u001b[0m 9ms/step - accuracy: 0.9660 - loss: 0.0396 - val_accuracy: 0.9522 - val_loss: 0.1658\n",
            "Epoch 39/50\n",
            "\u001b[1m183/183\u001b[0m \u001b[32m━━━━━━━━━━━━━━━━━━━━\u001b[0m\u001b[37m\u001b[0m \u001b[1m3s\u001b[0m 9ms/step - accuracy: 0.9660 - loss: 0.0395 - val_accuracy: 0.9522 - val_loss: 0.1670\n",
            "Epoch 40/50\n",
            "\u001b[1m183/183\u001b[0m \u001b[32m━━━━━━━━━━━━━━━━━━━━\u001b[0m\u001b[37m\u001b[0m \u001b[1m2s\u001b[0m 9ms/step - accuracy: 0.9659 - loss: 0.0394 - val_accuracy: 0.9522 - val_loss: 0.1681\n",
            "Epoch 41/50\n",
            "\u001b[1m183/183\u001b[0m \u001b[32m━━━━━━━━━━━━━━━━━━━━\u001b[0m\u001b[37m\u001b[0m \u001b[1m3s\u001b[0m 10ms/step - accuracy: 0.9665 - loss: 0.0394 - val_accuracy: 0.9522 - val_loss: 0.1695\n",
            "Epoch 42/50\n",
            "\u001b[1m183/183\u001b[0m \u001b[32m━━━━━━━━━━━━━━━━━━━━\u001b[0m\u001b[37m\u001b[0m \u001b[1m3s\u001b[0m 12ms/step - accuracy: 0.9665 - loss: 0.0393 - val_accuracy: 0.9522 - val_loss: 0.1707\n",
            "Epoch 43/50\n",
            "\u001b[1m183/183\u001b[0m \u001b[32m━━━━━━━━━━━━━━━━━━━━\u001b[0m\u001b[37m\u001b[0m \u001b[1m2s\u001b[0m 9ms/step - accuracy: 0.9665 - loss: 0.0392 - val_accuracy: 0.9522 - val_loss: 0.1721\n",
            "Epoch 44/50\n",
            "\u001b[1m183/183\u001b[0m \u001b[32m━━━━━━━━━━━━━━━━━━━━\u001b[0m\u001b[37m\u001b[0m \u001b[1m3s\u001b[0m 9ms/step - accuracy: 0.9659 - loss: 0.0391 - val_accuracy: 0.9522 - val_loss: 0.1735\n",
            "Epoch 45/50\n",
            "\u001b[1m183/183\u001b[0m \u001b[32m━━━━━━━━━━━━━━━━━━━━\u001b[0m\u001b[37m\u001b[0m \u001b[1m2s\u001b[0m 9ms/step - accuracy: 0.9671 - loss: 0.0391 - val_accuracy: 0.9522 - val_loss: 0.1746\n",
            "Epoch 46/50\n",
            "\u001b[1m183/183\u001b[0m \u001b[32m━━━━━━━━━━━━━━━━━━━━\u001b[0m\u001b[37m\u001b[0m \u001b[1m3s\u001b[0m 9ms/step - accuracy: 0.9667 - loss: 0.0390 - val_accuracy: 0.9522 - val_loss: 0.1760\n",
            "Epoch 47/50\n",
            "\u001b[1m183/183\u001b[0m \u001b[32m━━━━━━━━━━━━━━━━━━━━\u001b[0m\u001b[37m\u001b[0m \u001b[1m3s\u001b[0m 13ms/step - accuracy: 0.9670 - loss: 0.0389 - val_accuracy: 0.9522 - val_loss: 0.1771\n",
            "Epoch 48/50\n",
            "\u001b[1m183/183\u001b[0m \u001b[32m━━━━━━━━━━━━━━━━━━━━\u001b[0m\u001b[37m\u001b[0m \u001b[1m2s\u001b[0m 11ms/step - accuracy: 0.9675 - loss: 0.0389 - val_accuracy: 0.9522 - val_loss: 0.1784\n",
            "Epoch 49/50\n",
            "\u001b[1m183/183\u001b[0m \u001b[32m━━━━━━━━━━━━━━━━━━━━\u001b[0m\u001b[37m\u001b[0m \u001b[1m2s\u001b[0m 9ms/step - accuracy: 0.9664 - loss: 0.0389 - val_accuracy: 0.9522 - val_loss: 0.1796\n",
            "Epoch 50/50\n",
            "\u001b[1m183/183\u001b[0m \u001b[32m━━━━━━━━━━━━━━━━━━━━\u001b[0m\u001b[37m\u001b[0m \u001b[1m2s\u001b[0m 9ms/step - accuracy: 0.9671 - loss: 0.0387 - val_accuracy: 0.9522 - val_loss: 0.1803\n"
          ]
        }
      ]
    },
    {
      "cell_type": "code",
      "source": [
        "def plot_graphs(history, metric):\n",
        "  plt.plot(history.history[metric])\n",
        "  plt.plot(history.history[f'val_{metric}'])\n",
        "  plt.xlabel(\"epochs\")\n",
        "  plt.ylabel(metric)\n",
        "  plt.legend([metric, f'val_{metric}'])\n",
        "  plt.show()\n",
        "\n",
        "plot_graphs(history, \"accuracy\")\n",
        "plot_graphs(history, \"loss\")"
      ],
      "metadata": {
        "colab": {
          "base_uri": "https://localhost:8080/",
          "height": 881
        },
        "id": "m-HP7hirOfcX",
        "outputId": "fd0980e5-2eaf-4ae8-c6f9-1f96abad0c8c"
      },
      "execution_count": null,
      "outputs": [
        {
          "output_type": "display_data",
          "data": {
            "text/plain": [
              "<Figure size 640x480 with 1 Axes>"
            ],
            "image/png": "[encoded data removed]"
          },
          "metadata": {}
        },
        {
          "output_type": "display_data",
          "data": {
            "text/plain": [
              "<Figure size 640x480 with 1 Axes>"
            ],
            "image/png": "[encoded data removed]"
          },
          "metadata": {}
        }
      ]
    },
    {
      "cell_type": "code",
      "source": [
        "# export model\n",
        "import pickle\n",
        "\n",
        "if not os.path.exists(os.path.join('model')):\n",
        "  os.mkdir(os.path.join('model'))\n",
        "\n",
        "model.save(os.path.join('model', 'model.keras'))\n",
        "\n",
        "with open(os.path.join('model', 'vectorizer.pickle'), 'wb') as f:\n",
        "  pickle.dump(vectorizer, f)\n",
        "\n",
        "with open(os.path.join('model', 'encoder.pickle'), 'wb') as f:\n",
        "  pickle.dump(encoder, f)"
      ],
      "metadata": {
        "id": "4YpX5RQrPBBK"
      },
      "execution_count": null,
      "outputs": []
    },
    {
      "cell_type": "code",
      "source": [
        "!zip -r /content/product-classification-model.zip /content/model"
      ],
      "metadata": {
        "colab": {
          "base_uri": "https://localhost:8080/"
        },
        "id": "h3_FGGK_PRvn",
        "outputId": "e744e022-3a6b-46ad-8d6e-4ca9759db87b"
      },
      "execution_count": null,
      "outputs": [
        {
          "output_type": "stream",
          "name": "stdout",
          "text": [
            "  adding: content/model/ (stored 0%)\n",
            "  adding: content/model/vectorizer.pickle (deflated 74%)\n",
            "  adding: content/model/encoder.pickle (deflated 74%)\n",
            "  adding: content/model/model.keras (deflated 19%)\n"
          ]
        }
      ]
    },
    {
      "cell_type": "code",
      "source": [],
      "metadata": {
        "id": "VUrzzfQzPjre"
      },
      "execution_count": null,
      "outputs": []
    }
  ]
}