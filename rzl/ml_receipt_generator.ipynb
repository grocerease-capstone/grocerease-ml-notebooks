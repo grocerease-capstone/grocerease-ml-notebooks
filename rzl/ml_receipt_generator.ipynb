{
  "nbformat": 4,
  "nbformat_minor": 0,
  "metadata": {
    "colab": {
      "provenance": []
    },
    "kernelspec": {
      "name": "python3",
      "display_name": "Python 3"
    },
    "language_info": {
      "name": "python"
    }
  },
  "cells": [
    {
      "cell_type": "code",
      "execution_count": 146,
      "metadata": {
        "id": "ADnWrwYYGNfw"
      },
      "outputs": [],
      "source": [
        "from PIL import Image, ImageDraw, ImageFont\n",
        "import datetime\n",
        "import math"
      ]
    },
    {
      "cell_type": "code",
      "source": [
        "def print_centered(text, width=44):\n",
        "    truncated_text = text[:width]\n",
        "    print(truncated_text.center(width))"
      ],
      "metadata": {
        "id": "S8q6B0-kHpHL"
      },
      "execution_count": 22,
      "outputs": []
    },
    {
      "cell_type": "code",
      "source": [
        "def print_product_item(name, amount, price):\n",
        "  print(f'{name[:20].ljust(20)}{str(amount).rjust(5)}{str(price).rjust(7)}{str(price * amount).rjust(10)}')"
      ],
      "metadata": {
        "id": "7DOcGN0XIR6E"
      },
      "execution_count": 33,
      "outputs": []
    },
    {
      "cell_type": "code",
      "source": [
        "print_centered('KS TUBUN 0293493733')\n",
        "print_centered('JL KS TUBUN NO.05 RT02 RW04 KEL TEMANGGUNG')\n",
        "print_centered('KEC TEMANGGUNG KAB TEMANGGUNG, 56213')\n",
        "\n",
        "print('  ', end='')\n",
        "print('-' * 40)\n",
        "print('  ')\n",
        "\n",
        "print(' ', end='')\n",
        "print_product_item(\n",
        "    name='K/API KOPI SPC.60GR',\n",
        "    amount=2,\n",
        "    price=5500\n",
        ")"
      ],
      "metadata": {
        "colab": {
          "base_uri": "https://localhost:8080/"
        },
        "id": "QBm1uVa5GYu_",
        "outputId": "3fbef617-d3b4-46e2-b56d-e0b9f92a0b94"
      },
      "execution_count": 36,
      "outputs": [
        {
          "output_type": "stream",
          "name": "stdout",
          "text": [
            "            KS TUBUN 0293493733             \n",
            " JL KS TUBUN NO.05 RT02 RW04 KEL TEMANGGUNG \n",
            "    KEC TEMANGGUNG KAB TEMANGGUNG, 56213    \n",
            "  ----------------------------------------\n",
            "  \n",
            " K/API KOPI SPC.60GR     2   5500     11000\n"
          ]
        }
      ]
    },
    {
      "cell_type": "code",
      "source": [
        "def generate_receipt(product_items, output_filepath):\n",
        "  font_size = 20\n",
        "  line_height = 28\n",
        "\n",
        "  # menggunakan custom font monspace\n",
        "  try:\n",
        "      font = ImageFont.truetype(\"font.ttf\", size=font_size)\n",
        "  except IOError:\n",
        "      font = ImageFont.load_default()\n",
        "\n",
        "  # mendapatkan ukuran 1 karakter\n",
        "  char_l, char_t, char_r, char_b = font.getbbox('A')\n",
        "  char_width = char_r - char_l\n",
        "\n",
        "\n",
        "  def get_formatted_number(value):\n",
        "    return \"{:,}\".format(value)\n",
        "\n",
        "  def print_header(draw, x, y):\n",
        "    def print_header_line(y):\n",
        "      draw.text(\n",
        "          (char_width, y),\n",
        "          '-' * 40,\n",
        "          font=font,\n",
        "          fill='black',\n",
        "      )\n",
        "\n",
        "    def print_center_text(y, text):\n",
        "      draw.text(\n",
        "          (x, y),\n",
        "          text[:42].center(44),\n",
        "          font=font,\n",
        "          fill='black',\n",
        "      )\n",
        "\n",
        "    texts = [\n",
        "        'KS TUBUN 0293493733',\n",
        "        'JL KS TUBUN NO.05 RT02 RW04 KEL TEMANGGUNG',\n",
        "        'KEC TEMANGGUNG KAB TEMANGGUNG, 56213',\n",
        "    ]\n",
        "\n",
        "    for idx, text in enumerate(texts):\n",
        "      print_center_text(y + idx * line_height, text)\n",
        "\n",
        "    print_header_line(y=y + 3 * line_height)\n",
        "    print_center_text(\n",
        "        y=y + 4 * line_height,\n",
        "        text=datetime.datetime.now().strftime('%d.%m.%y-%H.%M'),\n",
        "        )\n",
        "    print_header_line(y=y + 5 * line_height)\n",
        "\n",
        "\n",
        "  def print_product_item(draw, x, y, name, amount, price):\n",
        "    draw.text(\n",
        "        (x, y),\n",
        "        f'{name[:20].ljust(20)}'\n",
        "        f'{str(amount).rjust(5)}'\n",
        "        f'{str(price).rjust(7)}'\n",
        "        f'{get_formatted_number(price * amount).rjust(10)}',\n",
        "        font=font, fill='black',\n",
        "    )\n",
        "\n",
        "  def print_harga_jual(draw, x, y, total):\n",
        "    draw.text(\n",
        "        (char_width, y),\n",
        "        ('-' * 21).rjust(42),\n",
        "        font=font, fill='black',\n",
        "    )\n",
        "    draw.text(\n",
        "        (x, y + line_height),\n",
        "        f'HARGA JUAL :{get_formatted_number(total).rjust(10)}'.rjust(42),\n",
        "        font=font, fill='black',\n",
        "    )\n",
        "    draw.text(\n",
        "        (char_width, y + line_height * 2),\n",
        "        ('-' * 21).rjust(42),\n",
        "        font=font, fill='black',\n",
        "    )\n",
        "\n",
        "  def print_summary(draw, x, y, total, tunai):\n",
        "    titles = ['TOTAL', 'TUNAI', 'KEMBALI']\n",
        "    values = [total, tunai, tunai - total]\n",
        "\n",
        "    for idx, title in enumerate(titles):\n",
        "      draw.text(\n",
        "          (x, y + idx * line_height),\n",
        "          f'{title} :{get_formatted_number(values[idx]).rjust(10)}'.rjust(42),\n",
        "          font=font, fill='black',\n",
        "      )\n",
        "\n",
        "  def print_footer(draw, x, y):\n",
        "    texts = [\n",
        "        'LAYANAN KONSUMEN',\n",
        "        'SMS/WA 0811.1500.280 TELP 1500280',\n",
        "        'KONTAK@INDOMARET.CO.ID',\n",
        "        'BELANJA LEBIH MUDAH DI KLIKINDOMARET',\n",
        "        'GRATIS ONGKIR 1 JAM SAMPAI',\n",
        "    ]\n",
        "\n",
        "    for idx, text in enumerate(texts):\n",
        "      draw.text(\n",
        "          (x, y + idx * line_height),\n",
        "          text.center(44),\n",
        "          font=font,\n",
        "          fill='black',\n",
        "      )\n",
        "\n",
        "\n",
        "  # menghitung total tinggi gambar\n",
        "  header_line_count = 3\n",
        "  date_line_count = 3\n",
        "  product_item_line_count = 3\n",
        "  harga_jual_line_count = 3\n",
        "  summary_line_count = 3\n",
        "  ppn_line_count = 2\n",
        "  footer_line_count = 5\n",
        "\n",
        "  image = Image.new(\"RGB\", (char_width * 44, (\n",
        "      (line_height * 2) +\n",
        "      ((\n",
        "          header_line_count +\n",
        "          date_line_count +\n",
        "          product_item_line_count +\n",
        "          harga_jual_line_count +\n",
        "          summary_line_count +\n",
        "          ppn_line_count +\n",
        "          footer_line_count\n",
        "        ) * line_height) +\n",
        "      (line_height * 2)\n",
        "  )), \"white\")\n",
        "  draw = ImageDraw.Draw(image)\n",
        "\n",
        "  # header\n",
        "  y_offset = line_height\n",
        "  print_header(draw, x=0, y=y_offset)\n",
        "\n",
        "  # product items\n",
        "  y_offset += (header_line_count + date_line_count) * line_height\n",
        "  for idx, product_item in enumerate(product_items):\n",
        "    print_product_item(\n",
        "        draw,\n",
        "        x=char_width,\n",
        "        y=y_offset + idx * line_height,\n",
        "        name=product_item['name'],\n",
        "        amount=product_item['amount'],\n",
        "        price=product_item['price'],\n",
        "    )\n",
        "\n",
        "  # harga jual\n",
        "  harga_jual = sum([\n",
        "          (product_item['price'] * product_item['amount'])\n",
        "          for product_item in product_items])\n",
        "  y_offset += len(product_items) * line_height\n",
        "  print_harga_jual(\n",
        "      draw,\n",
        "      x=char_width,\n",
        "      y=y_offset,\n",
        "      total=harga_jual,\n",
        "  )\n",
        "\n",
        "  # ringkasan\n",
        "  multiple = 5000\n",
        "  tunai = math.ceil(harga_jual / multiple) * multiple\n",
        "\n",
        "  y_offset += harga_jual_line_count * line_height\n",
        "  print_summary(draw,\n",
        "                x=char_width,\n",
        "                y=y_offset,\n",
        "                total=harga_jual,\n",
        "                tunai=tunai,\n",
        "                )\n",
        "\n",
        "  # footer\n",
        "  y_offset += (summary_line_count + ppn_line_count) * line_height\n",
        "  print_footer(draw, x=0, y=y_offset)\n",
        "\n",
        "  # simpan gambar dalam bentuk file\n",
        "  image.save(output_filepath)\n",
        "  print(\"Gambar berhasil disimpan sebagai 'output.png'\")"
      ],
      "metadata": {
        "id": "eneaWEDvGfLJ"
      },
      "execution_count": 159,
      "outputs": []
    },
    {
      "cell_type": "code",
      "source": [
        "generate_receipt([\n",
        "    {'name': 'PRODUCT NAME 1', 'amount': 2, 'price': 6000},\n",
        "    {'name': 'PRODUCT NAME 2', 'amount': 3, 'price': 6500},\n",
        "    {'name': 'PRODUCT NAME 3', 'amount': 1, 'price': 8700},\n",
        "    {'name': 'PRODUCT NAME 4', 'amount': 2, 'price': 5200},\n",
        "    {'name': 'PRODUCT NAME 5', 'amount': 5, 'price': 3200},\n",
        "], 'output.png')"
      ],
      "metadata": {
        "colab": {
          "base_uri": "https://localhost:8080/"
        },
        "id": "E6F9Jg8fNz0g",
        "outputId": "4bd0a85d-f720-431f-dbdc-d0ba0fb21905"
      },
      "execution_count": 160,
      "outputs": [
        {
          "output_type": "stream",
          "name": "stdout",
          "text": [
            "Gambar berhasil disimpan sebagai 'output.png'\n"
          ]
        }
      ]
    },
    {
      "cell_type": "code",
      "source": [],
      "metadata": {
        "id": "O-Bt9sRMsgFl"
      },
      "execution_count": null,
      "outputs": []
    }
  ]
}